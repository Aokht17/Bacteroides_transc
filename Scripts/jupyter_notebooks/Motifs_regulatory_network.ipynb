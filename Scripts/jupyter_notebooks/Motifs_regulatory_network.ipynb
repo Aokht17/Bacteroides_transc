{
 "cells": [
  {
   "cell_type": "markdown",
   "id": "f28f7393",
   "metadata": {},
   "source": [
    "# Regulatory network of a motif"
   ]
  },
  {
   "cell_type": "code",
   "execution_count": 1,
   "id": "9767d172",
   "metadata": {},
   "outputs": [],
   "source": [
    "import re\n",
    "import pandas as pd\n",
    "import os"
   ]
  },
  {
   "cell_type": "code",
   "execution_count": null,
   "id": "2e49df56",
   "metadata": {},
   "outputs": [],
   "source": [
    "CTGT-N8-ACAG"
   ]
  },
  {
   "cell_type": "code",
   "execution_count": 32,
   "id": "d42b0ed3",
   "metadata": {},
   "outputs": [],
   "source": [
    "def find_coord(fasta): \n",
    "    with open(fasta, 'r', encoding='utf-8') as inp:\n",
    "        data = str()\n",
    "        for line in inp:\n",
    "            if not line.startswith('>'):\n",
    "                data += line.strip()\n",
    "\n",
    "    length = len(data)\n",
    "    plus_hits = re.findall(r\"CTAA.....TTAG\", data)\n",
    "    minus_hits = re.findall(r\"GATT.....AATC\", data)\n",
    "    plus_hits = list(set(plus_hits))\n",
    "    minus_hits = list(set(minus_hits))\n",
    "    for motif in plus_hits:\n",
    "        if motif in data:\n",
    "            n = data.find(motif)\n",
    "            with open('pontilong_plus_motif.tsv', 'a') as out:\n",
    "                out.write(f'{n}\\t{n+10}\\n')\n",
    "            while n < length and n != -1:\n",
    "                n = data.find(motif, n+1)\n",
    "                if n != -1:\n",
    "                    with open('pontilong_plus_motif.tsv', 'a') as out:\n",
    "                        out.write(f'{n}\\t{n+10}\\n')\n",
    "\n",
    "    for motif in minus_hits:\n",
    "        if motif in data:\n",
    "            n = data.find(motif)\n",
    "            with open('pontilong_minus_motif.tsv', 'a') as out:\n",
    "                out.write(f'{n}\\t{n+10}\\n')\n",
    "            while n < length and n != -1:\n",
    "                n = data.find(motif, n+1)\n",
    "                if n != -1:\n",
    "                    with open('pontilong_minus_motif.tsv', 'a') as out:\n",
    "                        out.write(f'{n}\\t{n+10}\\n')"
   ]
  },
  {
   "cell_type": "code",
   "execution_count": 33,
   "id": "e6ac3df5",
   "metadata": {},
   "outputs": [],
   "source": [
    "find_coord('ponti.fasta')"
   ]
  },
  {
   "cell_type": "code",
   "execution_count": 34,
   "id": "c9bc1077",
   "metadata": {},
   "outputs": [],
   "source": [
    "with open('pontilong_plus_motif.tsv', 'r') as inp:\n",
    "    for line in inp:\n",
    "        with open('pontilong_plus_motif.gff', 'a') as out:\n",
    "            out.write(f'NZ_CP021235.1\\tcustom\\tSOS-box\\t{line.strip()}\\t.\\t+\\t.\\tID\\n')"
   ]
  },
  {
   "cell_type": "code",
   "execution_count": 35,
   "id": "8180f70b",
   "metadata": {},
   "outputs": [],
   "source": [
    "with open('pontilong_minus_motif.tsv', 'r') as inp:\n",
    "    for line in inp:\n",
    "        with open('pontilong_minus_motif.gff', 'a') as out:\n",
    "            out.write(f'NZ_CP021235.1\\tcustom\\tSOS-box\\t{line.strip()}\\t.\\t-\\t.\\tID\\n')"
   ]
  },
  {
   "cell_type": "code",
   "execution_count": null,
   "id": "8923025c",
   "metadata": {},
   "outputs": [],
   "source": []
  },
  {
   "cell_type": "code",
   "execution_count": 11,
   "id": "1f76b720",
   "metadata": {},
   "outputs": [],
   "source": [
    "def letters_take(fasta, coord, file_prefix):\n",
    "    with open(fasta, 'r', encoding='utf-8') as inp:\n",
    "        data = str()\n",
    "        for line in inp:\n",
    "            if not line.startswith('>'):\n",
    "                data += line.strip()\n",
    "    coordinate = pd.read_csv(coord, sep='\\t', names=['start', 'end'])\n",
    "    for _, row in coordinate.iterrows():\n",
    "        gen_slice = data[row.start:row.end+1]\n",
    "        with open(f'{file_prefix}_motifs_letters.fasta', 'a') as out:\n",
    "            out.write(f'>{row.start}\\n{gen_slice}\\n')"
   ]
  },
  {
   "cell_type": "code",
   "execution_count": 13,
   "id": "95b74dfb",
   "metadata": {},
   "outputs": [],
   "source": [
    "letters_take('uni.fasta', '1_minus_motif.tsv', 'ass_minus')"
   ]
  },
  {
   "cell_type": "code",
   "execution_count": 41,
   "id": "db3060ad",
   "metadata": {},
   "outputs": [],
   "source": [
    "find_coord('./B.theta/B_theta.fasta')"
   ]
  },
  {
   "cell_type": "code",
   "execution_count": 179,
   "id": "e5b8e685",
   "metadata": {},
   "outputs": [],
   "source": [
    "def kilo_take(fasta, coord, orient):\n",
    "    with open(fasta, 'r', encoding='utf-8') as inp:\n",
    "        data = str()\n",
    "        for line in inp:\n",
    "            if not line.startswith('>'):\n",
    "                data += line.strip()\n",
    "    coordinate = pd.read_csv(coord, sep='\\t', names=['start', 'end'])\n",
    "    if orient == '+':\n",
    "        for end in coordinate['end'].to_list():\n",
    "            gen_slice = data[end+1: end+1001]\n",
    "            with open('1_reg_net_plus_1k.fasta', 'a') as out:\n",
    "                out.write(f'>{end}\\n{gen_slice}\\n')\n",
    "    if orient == '-':\n",
    "        for start in coordinate['start'].to_list():\n",
    "            gen_slice = data[start-1001: start-1]\n",
    "            with open('1_reg_net_minus_1k.fasta', 'a') as out:\n",
    "                out.write(f'>{start}\\n{gen_slice}\\n')"
   ]
  },
  {
   "cell_type": "code",
   "execution_count": null,
   "id": "e92ae82d",
   "metadata": {},
   "outputs": [],
   "source": [
    "kilo_take(fasta, '1_plus_motif.tsv', '+')"
   ]
  },
  {
   "cell_type": "markdown",
   "id": "99944088",
   "metadata": {},
   "source": [
    "## second motif"
   ]
  },
  {
   "cell_type": "code",
   "execution_count": 5,
   "id": "5cf01831",
   "metadata": {},
   "outputs": [],
   "source": [
    "def find_coord(fasta): \n",
    "    with open(fasta, 'r', encoding='utf-8') as inp:\n",
    "        data = str()\n",
    "        for line in inp:\n",
    "            if not line.startswith('>'):\n",
    "                data += line.strip()\n",
    "\n",
    "    length = len(data)\n",
    "    plus_hits = re.findall(r\"CTAA.....TTAG\", data)\n",
    "    minus_hits = re.findall(r\"GATT.....AATC\", data)\n",
    "    plus_hits = list(set(plus_hits))\n",
    "    minus_hits = list(set(minus_hits))\n",
    "    for motif in plus_hits:\n",
    "        if motif in data:\n",
    "            n = data.find(motif)\n",
    "            with open('2_plus_motif.tsv', 'a') as out:\n",
    "                out.write(f'{n}\\t{n+10}\\n')\n",
    "            while n < length and n != -1:\n",
    "                n = data.find(motif, n+1)\n",
    "                if n != -1:\n",
    "                    with open('2_plus_motif.tsv', 'a') as out:\n",
    "                        out.write(f'{n}\\t{n+10}\\n')\n",
    "\n",
    "    for motif in minus_hits:\n",
    "        if motif in data:\n",
    "            n = data.find(motif)\n",
    "            with open('2_minus_motif.tsv', 'a') as out:\n",
    "                out.write(f'{n}\\t{n+10}\\n')\n",
    "            while n < length and n != -1:\n",
    "                n = data.find(motif, n+1)\n",
    "                if n != -1:\n",
    "                    with open('2_minus_motif.tsv', 'a') as out:\n",
    "                        out.write(f'{n}\\t{n+10}\\n')"
   ]
  },
  {
   "cell_type": "code",
   "execution_count": 9,
   "id": "26497335",
   "metadata": {},
   "outputs": [],
   "source": [
    "find_coord('./B.theta/B_theta.fasta')"
   ]
  },
  {
   "cell_type": "code",
   "execution_count": 10,
   "id": "234e11b0",
   "metadata": {},
   "outputs": [],
   "source": [
    "def kilo_take(fasta, coord, orient):\n",
    "    with open(fasta, 'r', encoding='utf-8') as inp:\n",
    "        data = str()\n",
    "        for line in inp:\n",
    "            if not line.startswith('>'):\n",
    "                data += line.strip()\n",
    "    coordinate = pd.read_csv(coord, sep='\\t', names=['start', 'end'])\n",
    "    if orient == '+':\n",
    "        for end in coordinate['end'].to_list():\n",
    "            gen_slice = data[end+1: end+1001]\n",
    "            with open('2_reg_net_plus_1k.fasta', 'a') as out:\n",
    "                out.write(f'>{end}\\n{gen_slice}\\n')\n",
    "    if orient == '-':\n",
    "        for start in coordinate['start'].to_list():\n",
    "            gen_slice = data[start-1001: start-1]\n",
    "            with open('2_reg_net_minus_1k.fasta', 'a') as out:\n",
    "                out.write(f'>{start}\\n{gen_slice}\\n')"
   ]
  },
  {
   "cell_type": "code",
   "execution_count": 12,
   "id": "52ed4feb",
   "metadata": {},
   "outputs": [],
   "source": [
    "kilo_take('./B.theta/B_theta.fasta', '2_minus_motif.tsv', '-')"
   ]
  },
  {
   "cell_type": "markdown",
   "id": "14046ee0",
   "metadata": {},
   "source": [
    "# New motif found via custom script"
   ]
  },
  {
   "cell_type": "code",
   "execution_count": 2,
   "id": "4124f2a6",
   "metadata": {},
   "outputs": [],
   "source": [
    "def find_coord(fasta, plus_motif, minus_motif, file_prefix): \n",
    "    with open(fasta, 'r', encoding='utf-8') as inp:\n",
    "        data = str()\n",
    "        for line in inp:\n",
    "            if not line.startswith('>'):\n",
    "                data += line.strip()\n",
    "\n",
    "    length = len(data)\n",
    "    plus_hits = re.findall(plus_motif, data)\n",
    "    minus_hits = re.findall(minus_motif, data)\n",
    "    plus_hits = list(set(plus_hits))\n",
    "    minus_hits = list(set(minus_hits))\n",
    "    motif_len = len(plus_motif) - 1\n",
    "    for motif in plus_hits:\n",
    "        if motif in data:\n",
    "            n = data.find(motif)\n",
    "            with open(f'{file_prefix}_plus_motif.tsv', 'a') as out:\n",
    "                out.write(f'{n}\\t{n+motif_len}\\n')\n",
    "            while n < length and n != -1:\n",
    "                n = data.find(motif, n+1)\n",
    "                if n != -1:\n",
    "                    with open(f'{file_prefix}_plus_motif.tsv', 'a') as out:\n",
    "                        out.write(f'{n}\\t{n+motif_len}\\n')\n",
    "\n",
    "    for motif in minus_hits:\n",
    "        if motif in data:\n",
    "            n = data.find(motif)\n",
    "            with open(f'{file_prefix}_minus_motif.tsv', 'a') as out:\n",
    "                out.write(f'{n}\\t{n+motif_len}\\n')\n",
    "            while n < length and n != -1:\n",
    "                n = data.find(motif, n+1)\n",
    "                if n != -1:\n",
    "                    with open(f'{file_prefix}_minus_motif.tsv', 'a') as out:\n",
    "                        out.write(f'{n}\\t{n+motif_len}\\n')"
   ]
  },
  {
   "cell_type": "code",
   "execution_count": 6,
   "id": "4569fd1d",
   "metadata": {},
   "outputs": [],
   "source": [
    "find_coord('genome_foot/b_theta.fasta', r\"AAACTT.....AAGTTT\", r\"AAACTT.....AAGTTT\", 'new')"
   ]
  },
  {
   "cell_type": "code",
   "execution_count": 10,
   "id": "776c2898",
   "metadata": {},
   "outputs": [],
   "source": [
    "find_coord('metatranscriptomics/b_uni_type_4only.fa', r\"AAACTT.....AAGTTT\", r\"AAACTT.....AAGTTT\", 'new')"
   ]
  },
  {
   "cell_type": "code",
   "execution_count": 7,
   "id": "26ebd33a",
   "metadata": {},
   "outputs": [],
   "source": [
    "def kilo_take(fasta, coord, orient, file_prefix):\n",
    "    with open(fasta, 'r', encoding='utf-8') as inp:\n",
    "        data = str()\n",
    "        for line in inp:\n",
    "            if not line.startswith('>'):\n",
    "                data += line.strip()\n",
    "    coordinate = pd.read_csv(coord, sep='\\t', names=['start', 'end'])\n",
    "    if orient == '+':\n",
    "        for end in coordinate['end'].to_list():\n",
    "            gen_slice = data[end+1: end+1001]\n",
    "            with open(f'{file_prefix}_reg_net_plus_1k.fasta', 'a') as out:\n",
    "                out.write(f'>{end}\\n{gen_slice}\\n')\n",
    "    if orient == '-':\n",
    "        for start in coordinate['start'].to_list():\n",
    "            gen_slice = data[start-1001: start-1]\n",
    "            with open(f'{file_prefix}_reg_net_minus_1k.fasta', 'a') as out:\n",
    "                out.write(f'>{start}\\n{gen_slice}\\n')"
   ]
  },
  {
   "cell_type": "code",
   "execution_count": 9,
   "id": "00690293",
   "metadata": {},
   "outputs": [],
   "source": [
    "kilo_take('genome_foot/b_theta.fasta', 'new_plus_motif.tsv', '+', 'new')"
   ]
  },
  {
   "cell_type": "code",
   "execution_count": null,
   "id": "6baf1701",
   "metadata": {},
   "outputs": [],
   "source": []
  },
  {
   "cell_type": "markdown",
   "id": "23b2eac6",
   "metadata": {},
   "source": [
    "# Consensus search (--> MEME)"
   ]
  },
  {
   "cell_type": "code",
   "execution_count": null,
   "id": "2bab7710",
   "metadata": {},
   "outputs": [],
   "source": [
    "# find coordinates of genes (start)\n",
    "# calculate gene length\n",
    "# compare with motifs' coordinates\n",
    "## How close are they?\n",
    "## Take genes upstream"
   ]
  },
  {
   "cell_type": "code",
   "execution_count": 9,
   "id": "7507edc5",
   "metadata": {},
   "outputs": [],
   "source": [
    "from Bio.Seq import Seq\n",
    "from Bio import pairwise2\n",
    "import os"
   ]
  },
  {
   "cell_type": "code",
   "execution_count": 2,
   "id": "d620bec7",
   "metadata": {},
   "outputs": [],
   "source": [
    "def read_cds(cds_file, gene):\n",
    "    with open(cds_file, 'r') as cds:\n",
    "        for lines in cds:\n",
    "            line = cds.readline()\n",
    "            if line.startswith('>') and gene in line:\n",
    "                with open(f'{gene}_seq.txt', 'a') as out:\n",
    "                    if 'location=complement' in line:\n",
    "                        out.write(f'>-\\n')\n",
    "                    else:\n",
    "                        out.write(f'>+\\n')\n",
    "                line = cds.readline()\n",
    "                while not line.startswith('>'):\n",
    "                    with open(f'{gene}_seq.txt', 'a') as out:\n",
    "                        out.write(f'{line}')\n",
    "                    line = cds.readline()\n",
    "                break"
   ]
  },
  {
   "cell_type": "code",
   "execution_count": 3,
   "id": "dc7e9d5e",
   "metadata": {},
   "outputs": [],
   "source": [
    "def gene_coord(gene, fasta):\n",
    "    with open(f'{gene}_seq.txt', 'r') as file:\n",
    "        seq = str()\n",
    "        strand=''\n",
    "        for i in file.readlines():\n",
    "            if i.startswith('>'):\n",
    "                strand = i.strip('[>\\n]')\n",
    "            else:\n",
    "                seq += i.strip()\n",
    "    with open(fasta, 'r') as fasta:\n",
    "        data = str()\n",
    "        for line in fasta:\n",
    "            if not line.startswith('>'):\n",
    "                data += line.strip()\n",
    "    # take reverse complement if location=complement\n",
    "    start = data.find(seq) if strand == '+' else data.find(str(Seq(seq).reverse_complement()))\n",
    "    end = start + len(seq)\n",
    "    return [start, end, strand]"
   ]
  },
  {
   "cell_type": "code",
   "execution_count": 4,
   "id": "b8cdc060",
   "metadata": {},
   "outputs": [],
   "source": [
    "def upstream_extract(coord_list, fasta, len_up):\n",
    "    start, end, strand = coord_list\n",
    "    with open(fasta, 'r') as fasta:\n",
    "        data = str()\n",
    "        for line in fasta:\n",
    "            if not line.startswith('>'):\n",
    "                data += line.strip()\n",
    "    if strand == '-':\n",
    "        return data[end+1:end+len_up+1]\n",
    "    else:\n",
    "        return data[start-len_up-1:start-1]"
   ]
  },
  {
   "cell_type": "code",
   "execution_count": 62,
   "id": "cb3b5be8",
   "metadata": {},
   "outputs": [
    {
     "name": "stdout",
     "output_type": "stream",
     "text": [
      "[2915276, 2916287, '-']\n"
     ]
    }
   ],
   "source": [
    "read_cds('./B.theta/GCF_014131755.1_ASM1413175v1_cds_from_genomic.fna', 'gap')\n",
    "n = gene_coord('gap', './B.theta/B_theta.fasta')\n",
    "print(n)"
   ]
  },
  {
   "cell_type": "code",
   "execution_count": 70,
   "id": "d4e0bc5c",
   "metadata": {},
   "outputs": [
    {
     "data": {
      "text/plain": [
       "'TTGTTTAAACTTTTAAGGGTTTTATAATATTTGTTCAAATATCTCTCAGCTCGCACATTTGTTTTATTTTCAAATGCGGTGCAAAATTACAAAAATGTTTTTATATTCGCATATTAAATTCACATTAAATATTGAAAAAAGATGGGAAAGAGCACATTTTTACAAGACTTTAAGGCGTTTGCTATGAAAGGGAACGTCATTGACATGGCTGTCGGTGTAGTTATCGGCGGCGCGTTTGGGAAGATCGTAT'"
      ]
     },
     "execution_count": 70,
     "metadata": {},
     "output_type": "execute_result"
    }
   ],
   "source": [
    "upstream = upstream_extract(n, './B.theta/B_theta.fasta', 250)\n",
    "upstream"
   ]
  },
  {
   "cell_type": "code",
   "execution_count": 71,
   "id": "8862a546",
   "metadata": {},
   "outputs": [
    {
     "data": {
      "text/plain": [
       "250"
      ]
     },
     "execution_count": 71,
     "metadata": {},
     "output_type": "execute_result"
    }
   ],
   "source": [
    "len(upstream)"
   ]
  },
  {
   "cell_type": "code",
   "execution_count": null,
   "id": "62ea6203",
   "metadata": {},
   "outputs": [],
   "source": [
    "# Let's try to combine into 1 function"
   ]
  },
  {
   "cell_type": "code",
   "execution_count": 2,
   "id": "1d3daf09",
   "metadata": {},
   "outputs": [],
   "source": [
    "def upstream_extractor(gene, cds_file, fasta, len_up):\n",
    "    '''\n",
    "    extract upstream motifs of certain gene\n",
    "    '''\n",
    "    with open(cds_file, 'r') as cds:\n",
    "        for lines in cds:\n",
    "            line = cds.readline()\n",
    "            if line.startswith('>') and gene in line:\n",
    "                strand = '-' if 'location=complement' in line else '+'\n",
    "                line = cds.readline()\n",
    "                while not line.startswith('>'):\n",
    "                    with open(f'{gene}_seq.txt', 'a') as out:\n",
    "                        out.write(f'{line}')\n",
    "                    line = cds.readline()\n",
    "                break\n",
    "    try:\n",
    "        with open(f'{gene}_seq.txt', 'r') as file:\n",
    "            seq = str()\n",
    "            for i in file.readlines():\n",
    "                seq += i.strip()\n",
    "        with open(fasta, 'r') as fasta:\n",
    "            data = str()\n",
    "            for line in fasta:\n",
    "                if not line.startswith('>'):\n",
    "                    data += line.strip()\n",
    "        # take reverse complement if location=complement\n",
    "        start = data.find(seq) if strand == '+' else data.find(str(Seq(seq).reverse_complement()))\n",
    "        end = start + len(seq)\n",
    "        os.remove(f'{gene}_seq.txt')\n",
    "        if strand == '-':\n",
    "            return data[end+1:end+len_up+1]\n",
    "        else:\n",
    "            return data[start-len_up-1:start-1]\n",
    "    except:\n",
    "        return None"
   ]
  },
  {
   "cell_type": "code",
   "execution_count": 87,
   "id": "6287adc9",
   "metadata": {},
   "outputs": [
    {
     "name": "stdout",
     "output_type": "stream",
     "text": [
      "-\n",
      "TTGCGGATTATAAGTAGTCGTTCCCAGATAACAGATACCCAAGCCTGCCTCTTCAGCTAACGTGCAGAAGGTTTGCGCAACCAACAAGGTATCCATAGACGCATTCATAAAAGACATTAAATTATCGTAGCCGGGAACAGCGTTTCTCTGTTCACACCACTTGCTGAAACGGCGGAAATCGGCACAAAAAGTAAGCACGACAGGTGCCCCTTTTACCATCGGCTGATTGAAATGAGCAGGAGAAAGTTTC\n"
     ]
    }
   ],
   "source": [
    "un = upstream_extractor('gap', './B.theta/GCF_014131755.1_ASM1413175v1_cds_from_genomic.fna', './B.theta/B_theta.fasta', 250)\n",
    "print(un)"
   ]
  },
  {
   "cell_type": "code",
   "execution_count": null,
   "id": "b06881dd",
   "metadata": {},
   "outputs": [],
   "source": [
    "gene_list = ['dinB', 'nusA', 'uvrA', 'uvrB', 'recN', 'recA', 'ruvA', 'polA', 'dnaK']\n",
    "fasta_list = os.listdir('/home/nastya//Bacteroides _uniformis_annotations/Bacteroides_for_motif/genome_fasta')\n",
    "count_num = 0\n",
    "for gene in gene_list:\n",
    "    for file in fasta_list:  \n",
    "        count_num+=1\n",
    "        fasta_path = f'/home/nastya//Bacteroides _uniformis_annotations/Bacteroides_for_motif/genome_fasta/{file}'\n",
    "        cds_filename = file.strip('genomic.fna') + 'cds_from_genomic.fna'\n",
    "        cds_path = f'/home/nastya//Bacteroides _uniformis_annotations/Bacteroides_for_motif/cds_fasta/{cds_filename}'\n",
    "        seq = upstream_extractor(gene, cds_path, fasta_path, 250)\n",
    "        if seq:\n",
    "            with open(f'{gene}_upstream_motifs.txt','a') as out:\n",
    "                out.write(f'>{count_num}\\n{seq}\\n')"
   ]
  },
  {
   "cell_type": "code",
   "execution_count": 3,
   "id": "fb4e9a59",
   "metadata": {},
   "outputs": [],
   "source": [
    "def id_below_maxid_perc(el1, el2, max_percent_id):\n",
    "    \n",
    "    \"\"\" Aligns two sequence elements and determines whether they are\n",
    "        more than %ID identical (false) or not (true)\n",
    "        Scoring: Match:+2, Mismatch:-1, GapO: -2, GapE: -0.2\n",
    "    \"\"\"\n",
    "    \n",
    "    al=pairwise2.align.globalms(el1, el2, 2, 0, -2, -.5,\\\n",
    "                                one_alignment_only=True, \\\n",
    "                                penalize_end_gaps=False)\n",
    "    \n",
    "    matches=0\n",
    "    gapless=0\n",
    "    #for each position in the alignment\n",
    "    for ch_pair in zip(al[0][0],al[0][1]):\n",
    "        #if this is a non-gapped position\n",
    "        if '-' not in ch_pair:\n",
    "            #if it's a match, count it\n",
    "            if ch_pair[0]==ch_pair[1]:\n",
    "                matches=matches+1\n",
    "            gapless=gapless+1\n",
    "        \n",
    "    perID = float(matches)/float(gapless)\n",
    "    \n",
    "    #return true or false depending on percent identity\n",
    "    if perID*100<=float(max_percent_id):\n",
    "        return(True)\n",
    "    else:\n",
    "        return(False)\n",
    "\n",
    "\n",
    "def remove_redundants(promoters_list, max_percent_identity):\n",
    "    \n",
    "    \"\"\" Takes a list of promoter sequences and returns a list of promoters with\n",
    "        <= max_percent_identity.\n",
    "        The identitiy values are computed using id_below_maxid_perc function defined\n",
    "        above\n",
    "    \"\"\"\n",
    "    \n",
    "    removed_ids = []\n",
    "    nr_promoters = []\n",
    "    \n",
    "    for i in range(0, len(promoters_list)-1):\n",
    "        if promoters_list[i] not in removed_ids:\n",
    "            nr_promoters.append(promoters_list[i])\n",
    "            for j in range(i+1, len(promoters_list)):\n",
    "                if id_below_maxid_perc(promoters_list[i],promoters_list[j],max_percent_identity) == False:\n",
    "                    removed_ids.append(promoters_list[j])\n",
    "    \n",
    "    return nr_promoters"
   ]
  },
  {
   "cell_type": "code",
   "execution_count": 4,
   "id": "e2d8e206",
   "metadata": {},
   "outputs": [],
   "source": [
    "def unique_filter(file, max_percent_identity=75):\n",
    "    with open(file, 'r') as inp:\n",
    "        seq_list = []\n",
    "        for lines in inp:\n",
    "            seq = ''\n",
    "            line = inp.readline()\n",
    "            if not line.startswith('>'):\n",
    "                seq += line.strip()\n",
    "            seq_list.append(seq)\n",
    "        filt_list = remove_redundants(seq_list, max_percent_identity)\n",
    "        return(filt_list)"
   ]
  },
  {
   "cell_type": "code",
   "execution_count": 175,
   "id": "51ed86d5",
   "metadata": {},
   "outputs": [
    {
     "data": {
      "text/plain": [
       "['TGTATTCAAATTCCATAGCAAACTTACTATAATTTTCCGAATAAACAGCCTCTAAAATAATACGCGCCTATTTTTTTAGAAGCACAGGACATAAAAAAGATTCGATATCATAGCGATTCCATTTCTAATAATACTATATTTGTATATTGTTATCTATAATCTATCAACAGGAAAATATTTGAAATACAAACCATAAAGTAAATTTAGTATTATGAAAAAACTACTATTCTATTTATTCATTCTATGCAGC',\n",
       " 'TGCGTTATACAATTCAGGGAGTAGGTTATACCAATCTGGCTATGCTTTCGGGTGTTTCCGAAATGATAGCCCGTATCCTGATCAGTTTGCTGGCAGTTCCGGCGTTCGGCTATATCGCTGTTTGCTTCGGTGACCCGACTGCCTGGATTTTTGCAGATTTATTCCTCATTCCCGCTTTTGCTTATGTCTACCGGCGCATACTGCGAATGAACAAAAATTAGTGTATCTTTGTATCGGTAGTTGGCAAGGT',\n",
       " 'TATTCGGGGATTTATAGCAAACTTACTACAAATCCCCGAATAAATGAAATATATTTTATTGAGAATATCTTTGGGGGTTATATTCTCTCAAAACAATAACTTTTCCCGGGTTCAGTCATTACATCATACTCATACACTCTATATAACAAAGGATACTGCGGACAAATCTTTTTAGAGATAAGCGGTTCTTTTATTCGTTCCACCTGAAAAAACGGGTTTTTATTTTCACCTACAGCTTCACGCAAACCTT',\n",
       " 'ACGGACAATACCGCTTTTACGGAAAATTCTTATGAATGAGGGGATAAAAAACGGGAGTTTATATCAAAATCTCGAATTAAATAGCTACTTTTGCATACGAAGAGTTCTTTGAAGGTTACGCAACGCGCAGAAGGATAATGCAGTAGATAACTAACTAAATCGTAACCTATTACTATCAAGAGCAATTAACCTACGCTCATTTCCAATAAATTACACTCTTTTCGTAACTTCGGTGCTGCTAATCGCAAGA',\n",
       " 'CTTCTTTCAACTCCCCGATACAAAGATACACTAATTTTTCTTCATCCGAAGTATCCGCCGATAGACATAAATGAAGGCTGGTATTAAAAAGGCATCTGCAAAAATCCATGCAGTAGGGTCACCAAAACACACGGCCAGATAGCCGAAAGCCGGAACAGCCAGCAGGCTGACCAGTATCCGGGCAATCATCTCCGAGACACCGGAAAGCATGGCAAGATTGGTATATCCCACCCCCTGGATAGTGTATCGC',\n",
       " 'GCAAGATATTAATAAGCCAAAAAGTATGTTTTTCATAATCTTAAATGATTCTATGGTGGCATAAACTTATCAGGTATGTCTATGCTTTTCATAGACGATATGCAAATATAACATTATAAGAAGTAGATTAAACAGGATATTAAATGTTTTTTGATTTATATCTATAAAAAACATAAGCGTATTATTTCTTGAGCCGATAAGCGGGAATTATTCGGGAATTTGTAGTAAGTTTGCTCTGCTAATCCTAAAG',\n",
       " 'AAAGTATACGGTGGCTGAGGTTGCAGATATGACGGGTTTCAGTGATCCTAAATACTTCGGGATCGTGTTTAAGAAATATTATGGGGGCTCACCGACGAAGTATATAAACAATTTATAGACCGGCAGAAGACCGATAAGGGAGCCACCTTGCCGGTCTTCATTTTATTAACTAATCCGGTCGACTGGATTGAGAGAATTACTCTTATCTTTGCTATCCGAAAGGAGAACTGCGATGCAGAAGGATTGCAGA',\n",
       " 'GCTGCATAGAATGAATAAATAGAATAGTAGTTTTTTCATAATACTAAATTTACTTTATGGTTTGTATTTCAAATATTTTCCTGTTGATAGATTATAGATAACAATATACAAATATAGTATTATTAGAAATGGAATCGCTATGATATCGAATCTTTTTTATGTCCTGTGCTTCTAAAAAAATAGGCGCGTATTATTTTAGAGGCTGTTTATTCGGAAAATTATAGTAAGTTTGCTATGGAATTTGAATACA',\n",
       " 'TGTATTCAAATTCCATAGCAAACTTACTATAAATCTCTGGAATAACCTCGAAAAACGGGAGAAATGACGCTAAACGACTTAATATCAGAGTTGTTACGGTGTCAAATGATGACAAGCCGAAAAATCGGGAAACGCAAAGAAAAGCGGATTTAAGAAGAAGAATGGTTTGCAAATCATTACCCGTGAAAGAGTAAGATTTAACATATGAGAGATGCTATTGCACCGTTTGTCACCGATTTGCGTATCAAGG',\n",
       " 'CATGATCACCTTTCCATTTTACTATTCATTTCCTCACATAGTGGGGCGTCTCTCCGGGTATCTCCATCGAAATCTCTACCAGACCTCCCACCACACCATCTTGTTTCCATGCCGTCTGATAAATCATCTTCCTGATTCCGTTCTTCTCAATGGTATAAGCATTGACACCTCCCGTTTCAAGCAGTTCACGTATCTTGTCCTGCGATTGCGGGTTATGACAATCAAATAGATTCTTACCTATCAGATTGCC',\n",
       " 'GGCAATCTGATAGGTAAGAATCTATTTGATTGTCATAACCCGCAATCGCAGGACAAGATACGTGAACTGCTTGAAACGGGAGGTGTCAATGCTTATACCATTGAGAAGAACGGAATCAGGAAGATGATTTATCAGACGGCATGGAAACAAGATGGTGTGGTGGGAGGTCTGGTAGAGATTTCGATGGAGATACCTGGAGAGATGCCCCACTATGTGAGGAAATGAATAGTAAAATGGAAAGGTGATCATG',\n",
       " 'TCTTGCGATTAGCAGAGCAAACTTACTATAAATTCCTGAATAATTTCTGTTTAGCGGTTCAAAAAATATTCAAGATTGCACCAAACCGACTCTTAATAATACTATATTTGCATATTATCTATTGAAACCACAGGCGCACCTGAAAAGTTTATATCACAGTACTATATACTTCAATATTATGAAAAAAATACTATTTTGCGTATTAATAATGCTTTGCAGCATTTCCGCATTTGCTCAAAAAAGAATTACT',\n",
       " 'TCCAGCTAACTACCGACGCAAAGATACACTAATTTTTATTTATCCGCAGCAAAACTGCAGCCGACACCGACACCGGCTAATGAATATCTATTGGGAACACAATTCAGCCCTATTGGGAATATAGTTCAGTCGTATTGGGAACATGGTTCAATCGTATTGGGAAAATAGTTCCCACACTATGAAAAATAGTGGGACTATGACCCTATTGTCACTCAGCACTTTACAAAAGCAGTTTTATGCCCGATATCCG',\n",
       " 'TCTGCAATCCTTCTGCATCGCAGTTCTCCTTTCGGATAGCAAAGATAAGAGTAATTCTCTCAATCCAGTCGACCGGATTAGTTAATAAAATGAAGACCGGTAAGGTGGCTCCCTTACCGGTCTTCTGTCGGTCTATAAATTGTTTATATACTTCGTCGGTGAGCCCCCATAATATTTCTTAAACACGATCCCGAAGTATTTAGGATCACTGAAACCCGTCATATCCGCAACCTCAGCCACCGTATACTTT',\n",
       " 'TGTATTCAAATTCCATAGCAAACTTACTATAATTTTCCGAATAAACAGCTTCTAAAATAATATGCACCTATTTTTTAGAGATACTATATATAAAAGGAGATGCCACAGCACCGATTGGTTCAGGTGTCAAAGTGATTACTCATATTTGCAACGATATCGGAGGATGGGGAAAAGGGTTTGTACTGGCACTTTCTAAAAAATGGAAAATGCCGGAAGAAGCCTATCGCCAGTGGTACAAATCACAGGAAGA',\n",
       " 'CAAGAAGTATACGGTGACGGAAGTAGCCGAGCTTACCGGATTTAGTGATCCGAAATATTTTCGGGAGGTATTTAAGAAATATTATGGAGAATCTCCCAGGAAGTTTGTGAATAGTTTGTAAGGAAAGGAGGATAATGAGAAAGAAATCCGCATGACCGGCATGCGGATTTTTTTGTTTCTATTATCGAAATTTGTGAATAAATGCTTGTCGTGTATACCTGCATTTCCTTATATTTGACTCTTGAATCAA',\n",
       " 'TGATTTAATTCTCAAAGCAAACTTACGATAAATTTCTGAATATACATAATGCCCCAAACAACCGAATAAAGTTTATTATATGTAACAGATAGAGTACATCTTAAATATATGCCCCCATCTTTTAAAGAAGTATTTTTTCGTAATTTTATTAGTTTCTTATTATTTTTTGTATTTTTGTTGCGCTATGAATACAACAAGTATGGTACAATATATGAGAAGTCTGCGTTGCATATTATTCTTATTGACATCA',\n",
       " 'ACTTCTCATATATTGTACCATACTTGTTGTATTCATAGCGCAACAAAAATACAAAAAATAATAAGAAACTAATAAAATTACGAAAAAATACTTCTTTAAAAGATGGGGGCATATATTTAAGATGTACTCTATCTGTTACATATAATAAACTTTATTCGGTTGTTTGGGGCATTATGTATATTCAGAAATTTATCGTAAGTTTGCTTTGAGAATTAAATCAAGTGTTTCAGCGTAAGATAATACATATTGA',\n",
       " 'CAGGCTATAAGTTCCGTCTCGGAACAATGCTTTTTCTGCGGAGTTCGTGCTTTTTGATGTATAACGCAGGCTATAAACTCCGTTTCGGAACAATGCTTTTTCTACGGAGTTTGTGCTTCTTGATGTATAACGCAGGTTATAAACTCCGTTTCGGAACAATGCTTTTTCTGCCGGGTTCGTGCTTCTTTCATGCGTTTCTTTTTTCCGTTTTCGGTAATTTGTAGTACGTTTGCCTTTGTAAAACAGAACC',\n",
       " 'GGTTCTGTTTTACAAAGGCAAACGTACTACAAATTACCGAAAACGGAAAAAAGAAACGCATGAAAGAAGCACGAACCCGGCAGAAAAAGCATTGTTCCGAAACGGAGTTTATAACCTGCGTTATACATCAAAAAGCACGAACTCCGCAGAAAAAGCATTGTTCCGAGACGGAACTTATAGCCTGCGTTATACATCCAGAAAGGCGAACCCGGCAGAAAAAGCATTCCGGAGAAACGGGGAAGGGCGGTCG',\n",
       " 'TCTTGCGATTAGCAGCACCGAAGTTACGAAAAGAGTGTAATTTATTGGAAATGAGCGTAGGTTAATTGCTCTTGATAGTAATAGGTTACGATTTAGTTAGTTATCTACTGCATTATCCTTCTGCGCGTTGCGTAACCTTCAAAGAACTCTTCGTATGCAAAAGTAGCTATTTAATTCGAGATTTTGATATAAACTCCCGTTTTTTATCCCCTCATTCATAAGAATTTTCCGTAAAAGCGGTATTGTCCGT',\n",
       " 'CATGATCACCTTTCCATTTTACTATTCAAAGATAATCATTATTTCCGTTACTCCATTGCGACAATTTCTGATGTTCCTGTTTCTTTCACCATTTTTATTGATTTTCCTACTCCGGCTCGATACATTTGCACTTATTTATCAAGGCTCCTCAATGCTCGTTTAATAAAATAGAAAATGCTGCATAAATGCAATATACTTAAAAAGCAAAAAAAGGACGAACATGATAACTTGAACTACTCTCCTTATCATA',\n",
       " 'TTGATTCAAGAGTCAAATATAAGGAAATGCAGGTATACACGGCAAGCATTTATTCACAAATTTCGATAATAGAAACAAAAAAATCCGCATGCCGGTCATGCGGATTTCTTTCTCATTATCCTCCTTTCCTTACAAACTATTCACAAACTTCCTGGGAGATTCTCCATAATATTTCTTAAATACCTCCCGAAAATATTTCGGATCACTAAATCCGGTAAGCTCGGCTACTTCCGTCACCGTATACTTCTTG',\n",
       " 'AAGGTTTGCGTGAAGCTGTAGGTGAAAATAAAAACCCGTTTTTTCAGGTGGAACGAATAAAAGAACCACTTATCTCTAAAAAGATTTGTCCGCAGTACCCTTTGTTATATAGAGTGTATGAGTATGATGTAATGACTGAACCCGGGAAAAGTTATTGTTTTGAGAGAATATAACCCCCAAAGATATTCTCAATAAAATATATTTCATTTATTCGGGGATTTGTAGTAAGTTTGCTATAAATCCCCGAATA',\n",
       " 'TCGATGTGTATTATCTTTTTCAAATAACCTTTTATATTTTTTGCTATATTTGCAGATGTAATTATAAACACAAAGATAATATGAAAGCTGCAATTTACATCAGAATAAGTACTAAAAAACAAAATACAGATAGGCAATATGAGGAACTAAAATCTTATGCTAATAGTATGGGATATACAATTGTAGAAAGTTATGAAGACCAAATATCAGGCTTTAAAGATGAAGAAGAACGCCATGATTTAAATAGATT',\n",
       " 'GCTCATTTTGAATGGTCTGGAGAAAGGAATTAATGACCGTGCCCGTGAGCGTTCCATTGTGATGCATGGAGCTGTCTATGCCGATCCTTCGGTAGTAAATAAAGGTGGACGTTTAGGCAGAAGTTTTGGTTGCCCGGCTGTTCCTCAAAAATTATCACGTCCCATCATTGATGCCATAAAAGGTGGAAGTGTGATGTATATTTACGCAGAAACACCCGATTATCTGGCTCATAGCTCGGTGTTGCAGGAG',\n",
       " 'ACAGATGATCACTGGTAAGGGTTACTACGCGAACTGAAAGTCTGTGGAAATCTGTTTTATCTGTGTCATCTGTGTGCTTCACTACACAACGTTTTCTTTTTCTGCTGCAAAGGTAGTGGAAAGGGGATGCAACTTGGTTGCAAAGTGGAAATTCTATTGAATTTAATGTTCATCAAGTCTGTGAACGTTATCTTTTTGCTACTTTTGCATTCAATCTCGGAGGTATTGGACTTATGATAACATCCGGAAA',\n",
       " 'TATGATAAGGAGAGTAGTTCAAGTTATCATGTTCGTCCTTTTTTTGCTTTTTAAGTATATTGCATTTATGCAGCATTTTCTATTTTATTAAACGAGCATTGAGGAGCCTTGATAAATAAGTGCAAATGTATCGAGCCGGAGTAGGAAAATCAATAAAAATGGTGAAAGAAACAGGAACATCAGAAATTGTCGCAATGGAGTAACGGAAATAATGATTATCTTTGAATAGTAAAATGGAAAGGTGATCATG',\n",
       " 'CTTTGGGATTAACAGAACAAACTTACGGAAAAAACTGCGTAATTCTACAAAGACAAAGCAGAAAAACAAAGGATTTAGAATGTAATCTGATAGTATTTGATTAGATTTCAATAAAATTGACTACCTTTGCAAGCGGATAAGGAAACTCTATCCAAGACATATTAGAAAAGGAAGAAGCGTTATGCTTATCTTGTTGTTGAAAACGTAGGAAATTTTCAGAATGAGCAAGGATGGCATAGTGGTTCTCACG',\n",
       " 'CGGATATCGGGCATAAAACTGCTTTTGTAAAGTGCTGAGTGACAATAGGGTCATAGTCCCACTATTTTTCATAGTGTGGGAACTATGTTCCCAATACGATTGAACCATGTTCCCAATACGACTGAACTATATTCCCAATAGGGCTGAATTGTGTTCCCAATAGATATTCATTAGCCGGTGTCGGTGTCGGCTGCAGTTTTGCTGCGGATAAATAAAAATTAGTGTATCTTTGCGTCGGTAGTTAGCTGGA',\n",
       " 'TCCAGCTAACTACCGACGCAAAGATACACTAATTTTTATTTATCCGCAGCAATGTCGCAGACGAAGCCGACTACTGAATATCCAAAACCTCATAGCTTTTAACATTATCAAAATGAATCGTTTCTTCCTTACCGTTCTTGCGCTTAATAAGCATATCGAAAGTAGCGGTCAGGTCATCATCGTAATCAGCTTTACCAAGATATTTTACAAACTCGTCTCCAGCCTCTATTCCAGCCTTCTCTGCCGGAGA',\n",
       " 'CCAACTTGCATGTAGAGTACACGCAATTAGGAAATCCGATATTTACGGAAGGTAAATTGGTGTTGGAGTGCAAGAAGGTATACGGTGCGCCTTTTAATCCCGAAGGCTTTGGAGATGTAGCCCGTAAAGTGTATAGCGATCGTCCTTTGCACTCGGTTTACATAGGCGAAGTAGTCAATGCGTGGATAAAATAAAAATGATTTTCTGGTTTGGGAGATTTGTAGTAAGTTTGCTCTGACTAACCGAATGT',\n",
       " 'TTTCCGGATGTTATCATAAGTCCAATACCTCCGAGATTGAATGCAAAAGTAGCAAAAAGATAACGTTCACAGACTTGATGAACATTAAATTCAATAGAATTTCCACTTTGCAACCAAGTTGCATCCCCTTTCCACTACCTTTGCAGCAGAAAAAGAAAACGTTGTGTAGTGAAGCACACAGATGACACAGATAAAACAGATTTCCACAGACTTTCAGTTCGCGTAGTAACCCTTACCAGTGATCATCTGT',\n",
       " 'ACATTCGGTTAGTCAGAGCAAACTTACTACAAATCTCCCAAACCAGAAAATCATTTTTATTTTATCCACGCATTGACTACTTCGCCTATGTAAACCGAGTGCAAAGGACGATCGCTATACACTTTACGGGCTACATCTCCAAAGCCTTCGGGATTAAAAGGCGCACCGTATACCTTCTTGCACTCCAACACCAATTTACCTTCCGTAAATATCGGATTTCCTAATTGCGTGTACTCTACATGCAAGTTGG',\n",
       " 'ATTCATGATACCTTTCATTTTACTATTCAAAGATAATCATTATTTCCGTTATTCCATCACATCAATTCCCGATGACGGCTTTTCTTTCAGCATTTTTATTGATTCTTCTTGCAGCCATATTCAAGTAAACTTATCTGTTCTCTATATTACGAAGCCCTACAACGATTTTCTGTAAAGGCCAAGGGTTCAAACAACGAATTAGCACTCGGCAGATAAAGTCGCTGGCTTCTTCTATCATCACACGAAGCCG',\n",
       " 'CTCTATTCAGTTAGCAGAGCAAACTTACTACAAATTTCCGAATAAATAAAACATCTTTTTTGCTGCTATTTATTCATTGTTGAGATTAAATGCAAAGCGATAGAATCTGTTCAATTTCTATTTTAAACCCAGAAGTTATTTACCTATAAAAACTTCGAACAAATATGATCCTGAACCAATCGCCCATTTCGTCTTACCATTTACAGTTTCAACCAATGTAATACCTTTTTGTTGTGTTATAGGTCTGCCA',\n",
       " 'AAGTTTTATTTAGACAAGAAAATAAATGGATTTTGGGTATACTTAATAAAATGATGTAGGTGACTTGAGTAAGTCTTGTGCATGGTTTGGCTTACTTCAGTACAGGTTTCAACAAGTTCATCTACACATAATTTTTGTTTCTTACCGATGCTGGGGTGAAATGACTTTTTATTGTGATTATCCTGTCTGTCATCTAAAGAATGATGATTATTCGAAAAAATATAGTAAGTTTGTTCTGCTATTCCCAAAG',\n",
       " 'TTGATTCTATTGATGAGTAAAAAATATACGGTAGCCGAGGTAGCAGATCTTACAGGTTTTAGTGATCCGAAATACTTCCGGGAGGTTTTTAAGAAGTATTACGGGGAATCGCCCAAAAAGTTTGTGAATAGTTTATAACCGGAGGTTAGTGAAATGAAAATCCGTGTAAATCCTATTAGGATATATGCGGATTTTCTTATATTTGATCCTCGAAACAAAAGATTGTGGAGCGAAAAATAATTCATATTGA',\n",
       " 'TATTCGATTATTACAGCAAACTTACTATAAATTCCCGAATAAATCCTCTCATCACTTTTAGAAATTAATGTTATATGGCAATCGCGTCTATTAAAAGCACATCATTATGTGTATCATAATCATCTGAGAGGATGAGTATCATACTGCGTGATCACCACCTTTACCGGCAAGTCCTTGCCACGCTGGTAATGCCCCTCAAAGAAATAATCGGGAATGCTAAAATGAAAATCAGCAGTCTCGCCTTTCTTAG',\n",
       " 'TCTATATGTATGATTTTTCGTTCAGTGCCTTCGCAACACATCAATCTTCACATCCGTACGTCCTGAAAGACTGATCATACGTTTGGCAAGATCTACAATCTTCACCGGCTTACCCATATCAAAGATATAAATCTCACCCCCATTTCCCATACTACCGGCTTCGAGTACCAAGCGGCAAGCTTCAGGAATCGTCATGAAATAACGGATAATTTCAGGATGAGTAACAGTCACCGGACCACCACGTTGTATC',\n",
       " 'TAGGCTCTGAAAGTGATGATAAAGATGTGACGACATTTATATTATGGACATTAATCTTTTCACAAAATGGCTTTTGCTCTAATTTTAGTAGACTAAATAAACAATATACAAATATACTATTATTAGAAATGGGATCGCAATGATATCGAATCTTTTTTATGACCTGTGTCTCTAAAAAAATAGATGCATATTATTCTAGAGATCTATTTATTCGGAAAATTGTAGTAAGTTTGCTCTGATAATCGAAGAT',\n",
       " 'CTTTGGGAATAGCAGAGCAAACTTACTATATTTTTTCGAATAATCATCATTCTTTAGATGACAGACAGGATAATCACAATAAAAAGTCATTTCACCCCAGCATCGGTAAGAAACAAAAATTATGTGTAGATGAACTTGTTGAAACCTGTACTGAAGTAAGCCAAACCATGCACAAGACTTACTCAAGTCACCTACATCATTTTATTAAGTATACCCAAAATCCATTTATTTTCTTGTCTAAATAAAACTT',\n",
       " 'TTTGAAGCTGCATTGGGTATTCCTGCGCATATTCTTACAGGTTTGCAGGCTGATTTTGATATGCTTAATGCTAAGCGTAACCAGGCTTTCGCCAAACGTCTCGAAAACATTCGGAAGGTTGCCGCATTGCTATAATTTTGTGTTGAACAGTATTGGGTAATAACCTTTTTATGCGTTCTATTCTTTCTTTTGTTATTTTTCCATGCAGCACTAATCTTTTTGTAGTAACTTCGCTCTGCTAATGTCTTCC',\n",
       " 'TCAATATGAATTATTTTTCGCTCCACAATCTTTTGTTTCGAGGATCAAATATAAGAAAATCCGCATATATCCTAATAGGATTTACACGGATTTTCATTTCACTAACCTCCGGTTATAAACTATTCACAAACTTTTTGGGCGATTCCCCGTAATACTTCTTAAAAACCTCCCGGAAGTATTTCGGATCACTAAAACCTGTAAGATCTGCTACCTCGGCTACCGTATATTTTTTACTCATCAATAGAATCAA',\n",
       " 'GGAAGACATTAGCAGAGCGAAGTTACTACAAAAAGATTAGTGCTGCATGGAAAAATAACAAAAGAAAGAATAGAACGCATAAAAAGGTTATTACCCAATACTGTTCAACACAAAATTATAGCAATGCGGCAACCTTCCGAATGTTTTCGAGACGTTTGGCGAAAGCCTGGTTACGCTTAGCATTAAGCATATCAAAATCAGCCTGCAAACCTGTAAGAATATGCGCAGGAATACCCAATGCAGCTTCAAA',\n",
       " 'CACCTGTAACCCGTTGGCTACTTGCTTCATAAATGTTAATACTTTCAACATCTCACTTTTTATTAATTAATTTGAATCTAAATATACGAAGTATTCCCGGGCATCAAGAATACAAGTAGAAAAACAAACAAAATAAAAAGCGAAGATGTTTTGAAAACACTTACTTACTGAATAGATGGATTACAGAGAGAATCTTTAAAGATTCAGAGCAGTTAATAACAAAAAGGGGCTGACTAAAAAGTCCCCACCT',\n",
       " 'CTATTTCGAAGCAAATATACATGATAATTTTTAGGATTCTTATTGTAAGCCTTAAAAACTCTTCTCTCAAGATTTAGTATATTGGGGCTACAGTCTTCTTAGTACAACAGCACAAGAAAGAGAGCTAAATTGAATATAAAAAACCTGCGAACGAGTATTGGCTCAATTCGCAGGCTTCCCTTTTTCGCTTAAAAAACTACTCCTAATTTATTCAAACATTACTCAATAGCTACTGGAGTATCTAGTGTTT',\n",
       " 'GAACTCAAGCTCTCCGAGAGCTTTAATCTTAACCTAATTGCTATTCAGCGTGAACGAGCCATAAAGAATAAGCTGGGTATCAACGTTACCGAGCATTATATCATTGATAACCTCGGCGAAGAGGAGAAACTTTTTGCGGGTGATGAATTGGTTTGCTTTGGTACGTATAAAGAGTTTAAAAACTTCTGGAAAGCATATTAAAGCGTTGTTTTTAAGTGAAAGATAAATTACGGAAGATTATTCACGTTGA',\n",
       " 'GGGAAATTCATTAAAAATTCGGGTAGAATATTACCCCCCATCTCAAAATCAATGAGAAAAAGAGACTACTAAATAAACAAGAACAGATAAAGGAAATTTCAATAAAAGAAACCGGAAGAACCGGACAATTTGCGAAAATAGAAACAAAACAACTGAAAAACAATAAGATAGAAGAAGAAAACACGAAAAAACAGGAAGAAAAAAGATCAATAAGTCTTAGCAGAACTTGGTACATTTGCTAATCCCAAAC',\n",
       " 'ACCTTGATACGCAAATCGGTGACAAACGGTGCAATAGCATCTCCCATATGTTAAATCTTACTCTTTCACGGGTAATGATTTGCAAACCATTCTTCTTCTTAAATCCGCTTTTCTTTGCGTTTTCCGATTTTTCGGCTTGTCATCATTTGACACCGTAACAACTCTGATATTAAGCCGTTTAGCGTCATTTCTCCCGTTTTTCGAGGTTATTCCAGAGATTTAATGTAAGTTTGCTCTGCTAATCGCAAGA',\n",
       " 'TCGATATGTATTATTTTGCGTTCGGACATCTTCATGAAATTTGTAGAGCAAAGGTATGAAAAAGGTTTTTGGTTGATGAACTCTTTAACAGCTTTATTTGTTATATTTTCATTAATATTATTTCTGTTTAACGAGTATGAGAAAGGCACGTAAAAACTACTTTATTTACTTGATGATGCTATTGATATTCGGAGGGTTGATTTATACCGCTATAGCAGGTGGTGAGCGTTTTTTGCATTTGTCATCTATA',\n",
       " 'TATTGATAAGCAAAGCTGCGCAGAACGCCGCAAAATGAAACAGGGATTGTTAAATCTGCACTTTCATCGGGTAATGATTAGGAAACCGTTCTTTTGCTTTAATCTGCTTTAAGACGGTTTTCAACTGTCTGCCCAACTTCTGCGTTTTTCTTCTAACTCCCTAATTATCAAATCCTGTTGCGTTAATCTGCTGCAATTCGGCGGATATTCCAGAGATTTTCCGTAAGTTTGCTCTGCTAACTGAATAGAG',\n",
       " 'GTATTCTCATCTCCCTTGTTCTGATGAAGGATGGCATGGATATGAATTTGTCTCTCGTCAGTCCATTGCATGAGCATCGTGATAATCTTGGTCGCCTCGCTTGGACTGTTGATGTCGTACACGAAATCACGGATGCCGTCAATTATCACAAGTCTTCTGGAATTGCCATAGAATTATTATTTTTATCTATCATCTAAAGAATGATGATTATTCGAAAAAATATAGTAAGTTTGTTCTGCTATTCCCAAAG',\n",
       " 'AAAAGGCAAAATATAGGATATTCAATTGCTTATTACGTTATTGTTACATGTGAAAGCATGGGCGGTTTTTAGTTCTTTGCGGTATATTTAGGAATATTTTATGGGTTGCAGGTGAGGAGGATTGAATTGGCGTTTACTGATGCGGCTCGACAGTATTTTTGGGTGCGGTTGCCCTGAAAATAAGCAAGCTTATTTTGTACTGCTTTCGGTTTGCATTATCTTTGGCAGGGTAAAATGAAAGGTAATCATG',\n",
       " 'AACATTCAACCTCATACAAAGATACGTTTTTTAAATTAAAGAACTAATTTTGCATTATTCCTTTAACCTATTAAACCTGCTGCTCTTTGCTACAACTCTCTTTTCACTCGCAGCAACCTGCGATACACAAAAATAAAGGCAGGTATCAGAAACAGGACCGCCGCAATCCATGCCGTCGGGTCGCCGAAACACACAGCCAGATAACCGAAAGCAGGAACCGCATAGAGGCTGACCAATACACGCGCTATCA',\n",
       " 'TCTCCGGCAGAGAAGGCTGGAATAGAGGCTGGAGACGAGTTTGTAAAATATCTTGGTAAAGCTGATTACGATGATGACCTGACCGCTACTTTCGATATGCTTATTAAGCGCAAGAACGGTAAGGAAGAAACGATTCATTTTGATAATGTTAAAAGCTATGAGGTTTTGGATATTCAGTAGTCGGCTTCGTCTGCGACATTGCTGCGGATAAATAAAAATTAGTGTATCTTTGCGTCGGTAGTTAGCTGGA',\n",
       " 'TGTTCCTGTTCGAAAATCTAGGCAAAGATAAGCATGTAGAAAGCTTATGATTTCCTCGTTTGGACGAGGGTTCGATTCCCTCCAGCTCCACAAAAAAACATTGGTAGTCAATGAATTGGTGGAAATAAAAGATCCGATTTTACATACAGAAATGTAGTAAAGTCGGATCTTTTGTTTTGTATCGTATGTTTTTTATATATAATTCTTGCTTCTAAGAATATTTTGATAAGTTTGCTGTAATAATTGAATA']"
      ]
     },
     "execution_count": 175,
     "metadata": {},
     "output_type": "execute_result"
    }
   ],
   "source": [
    "a = unique_filter('./Bacteroides_for_motif/dinB_upstream_motifs.txt')\n",
    "a"
   ]
  },
  {
   "cell_type": "code",
   "execution_count": 173,
   "id": "4cf3f83f",
   "metadata": {},
   "outputs": [],
   "source": [
    "# after filtering from 811 --> 57"
   ]
  },
  {
   "cell_type": "code",
   "execution_count": 174,
   "id": "02e95814",
   "metadata": {},
   "outputs": [],
   "source": [
    "with open('filtered_dinB.txt', 'w') as out:\n",
    "    count=0\n",
    "    for i in a:\n",
    "        count+=1\n",
    "        out.write(f'>{count}\\n{i}\\n')"
   ]
  },
  {
   "cell_type": "markdown",
   "id": "71a13514",
   "metadata": {},
   "source": [
    "# Running custom script for Bacteroidetes"
   ]
  },
  {
   "cell_type": "code",
   "execution_count": 7,
   "id": "9278cbea",
   "metadata": {},
   "outputs": [],
   "source": [
    "gene_list = ['recA']\n",
    "fasta_list = os.listdir('/home/nastya/Bacteroides_uniformis_annotations/genome_assemblies_Bacteroidetes/genome')\n",
    "count_num = 0\n",
    "for gene in gene_list:\n",
    "    for file in fasta_list:  \n",
    "        count_num+=1\n",
    "        \n",
    "        fasta_path = f'/home/nastya/Bacteroides_uniformis_annotations/genome_assemblies_Bacteroidetes/genome/{file}'\n",
    "        cds_filename = file.strip('genomic.fna') + 'cds_from_genomic.fna'\n",
    "        cds_path = f'/home/nastya/Bacteroides_uniformis_annotations/genome_assemblies_Bacteroidetes/cds/{cds_filename}'\n",
    "        seq = upstream_extractor(gene, cds_path, fasta_path, 250)\n",
    "        if seq:\n",
    "            with open(f'{gene}_upstream_motifs.txt','a') as out:\n",
    "                out.write(f'>{count_num}\\n{seq}\\n')"
   ]
  },
  {
   "cell_type": "code",
   "execution_count": 10,
   "id": "b2821a02",
   "metadata": {},
   "outputs": [
    {
     "data": {
      "text/plain": [
       "['CCACCAAGGTAAAAGGATAATTTTTTTGTTTTCCCGGTAGATGATACATAGTAATTCTGAACCAATGCTGGTTTGAATGTCTCTTTCAGCCAATTTGTATGACATCGAGAATGGATTTTGGTCTTGCCTGCAGAAATTTGCTGTCATCAATAACAAACAACTTAGGATCGCGATACAATTCTCTCTGATAATTGTAAAGCGTTCGGCTGTCCATCATGTGCACATTTCCGTGATCAGCCATTCGAATTCC',\n",
       " 'ACTAATATTAATATAAAAAGATAACAGAGATATTTAATTATTTTCATTATTCTAATAATTTATTGTTTAAGATATTATTTACATTAATTTGAGTGAAAATTAAAATCTTCGATTATTCATACTTTATAATTCAGATCAGAAATCCGCCATTTTATATAACGGTTTTTGGTATGTTTTGTTGAGTTGTTTAAGCTATAAATTTAGTAAATAATTACTGACCAAGAAAATCCGATAGGATTTTCGTAAGTAG',\n",
       " 'CTACCAACGTCAGTATCAGGGCGGTAGAAACGCGGCTATTTCCCAAAAATTTTAGCACAGAAAAAACACCCTAAAATCAACGAATTTTTTTAGCATTGTGGGCACAAAATATAGCCCGTCGACGTTACCATGAGCCGACCCGAAAAGGCCCCGGCAATGTGGCTCTGGCTTGCTTCCTACACGGTTGTAGAGGCCGGCTAAAAGGGTTACATTCACCAAACCTAAGCATTTCCAAACAACCCCTCTATAT',\n",
       " 'TATTGCAAAATACAATTTAGCATTTAATTTAGTTGCCGACACCGAAAAAGAAATACTGGAGGCATATGGTGCGTGGGGAGAGAAAAAACTGTACGGAAAAACCTATATGGGAGTACTTCGCACTACTTTTATAATTTCGGAGGAAGGAATTATTGAAAAAGTATTTCCGAAAGTTAAAACAAAAGATCATACCAATCAGATTTTATCTGAAATGGGATTACTGTAGTAAATAAATAATTGATAAATATAT',\n",
       " 'CTTGGATATTTTGACCAAAAGTTGGTGAAAGGGAAAATAAGATCAGAAGTGAAAAGAAAACAGTTTTCATTAGATGCCTGACAATACCTGACAATTTTTCGTCTATTCGAAAGGTATTACGAAAAAAAGAATCATTTGATCGATTAAAAATACGAATTTGGCACTTCGAAACAATAGCCCATGCCACCTTGGTTATGCCTTTGTCTTTCGTTAAATTCACCACCATTTGAAACTTTTATAATTTTAATAC',\n",
       " 'TGACGGCGTATGTAGTGGCTTCACAGTTTAGATTGAATTCGACTTTGGCAGGGTATACAGTAGGTGTGGGGATACTGCTTTCGCTGCTGAGTACAGCGGGTTGGTACTATCTGCTGGAATGGTGGTGGGAGGGCTAAATGTGGCTGATGGAAATAATTGCCCGGCAAAAGGAAGAATCGGAGTATTTTCAACGCCGGATTGCAGGAGCGGAAGCTGTGATTCAATTGTTTAATATTCAATAATTTGTGTT',\n",
       " 'TCATCCTTAGCCAACCAATCGGCAAGAGAAGCATCGTATTTATCGTTAGGATTAGATACCCATTTATTTACTTCTCTGGTTATGGTAGAACGTGAACGATTGAGCTTTTCGGCGATGAAAGATTTGGATTTATTCTCTTCCAAAAGCGTCTGAATAATAACACGTTCCTTAAGTGATAATCGTTTATGCTTTTTTGTATTCATACAACAAATCTAAAATTTTGATTTGTTGCGTTAAGTTATTGAATTCG',\n",
       " 'TTGAGATTGCTTCGCTTCGCTCACAATGACAAAAAGCTTCTGCATCAGGTATCTGGCAAAATTACTCATTACCACCCATTGTCTATTGCTTATTGTAAAAAAATTGGTATGTATATAAAACAAAAAAGTCTCATTCATGTAATTGAATGAGACTTTAAAAAAAACTGGCGGCGACCTACTCTCCCGCTTGTCGCAGTACCATCGGCGCTGGTGGGCTTAACTTCTGTGTTCGGAATGGGAACAGGTGAGC',\n",
       " 'AAACAGGAACAACTGATGCATCATATATTGGATTATTCTAAAATAGAAATACCGATTTAATATATTAAGCCAGAGCATTTATTTGTTCTGGTTTTTTTATACCTTATAAACATCGAATGAGACCAATCAATTTTAAAAACTAAAAATCATCACTTTCATTTGTAGTAATTTGAAAACGAGAAATGTTTTAATTAAAATAAGTGTTATTTTTGAATAATAATTTAATGAAGAATTCTAAGAAAAAAGAAGA',\n",
       " 'TCCCTTTTAAAAAAGAAATAAAAATTTAAAAAGGCCTTGAAAACTTTCAAGGCCTTCATTGATTACTAAACTTCTTCTTTTTCATAGAAATTTATTAGAAATGTAGTGATCATCACTGCCCATTACAATACTATAATAGTATATGCGAAAGCGTTCGTTACTTATAAGAGGTGTGATTTCTAAAAAGGTTGCTTCTCAAATTGTTATATGCGAAAAGAATTGGTAATTTAGCCTTCCTTAATACAAAAAA',\n",
       " 'AATTACTTGGATGCCAATTTTATAAGATTAAAAAAGGCTATATCGACAAATTCGCTGATATAGCCTTTTTCTAGATATGTTTATCCCGAACGAATCCCGAAGGCATACCGAAGAATTGAGAAAAATATGTTATAAACTTGGAGATATCCAAGAGATAATACAGTATCCATTACCTGTATGCCCAGTTTCTGTTCCACCTTTTGGCTTAGGCATTATAGAACCACCATCTATCATTACAGGATTAAGAAAT',\n",
       " 'CCAAAAACCATAAGCTTTGAAGGCCGAAAACACCTGAAATAACATGCTGTCATAAAAGAGTTTCTTTGTCGAGATTCAATGACACACCTAAAGCTATCTAGCCAATTGGACCATTAACCGATCTTGCAACACTCCCTATTAAAACAAAATTTTGATCTTTACGATAACGGTAAACCCCTTTAGGGATGACATGATTATAGCCGGTGGATTTTTCCGCAACAATGCTGACAAAACCATAACGTCTATTATT',\n",
       " 'CTGCTTGCCGGAAAAATAAAACCGTCAGAAGCTACAGAATTAAAGGCTTTATTTTTATAGGACAATTTTTGTGAAAATTTGATACAATTTGGAACAATGAAACTTCAAAAAAAGAAGTAATTTTACAAAATTACATGCCCATGAAAAATCTAAATCAGGAAGCTATTTAAATTCAGGTTTATTTTGAGAATGAAAGAATTATAAAAATATAGATGAAAGAAAAAGTAAAAGAAGTAAAAGAAAAAGAAAA',\n",
       " 'ATAATTCCTCATATATTTCCGCATTCAACGGCACGAAACCGCCGGGCACTGTGTTAGAAAAAGCCGTCTCAAGAGAGGCTATTCAGCGTCTTAATCCAAGAATAGATTTATCTGATTGTGCTGGCCCAAAACCCTTAACTTTACCAAACCTAATCCCTTTTTCATAATTACCCCCCATGGCACTAGCTACTAAAGCGGCCCCAAAAGCCGAAAGAGTCGAAAAGGCTGAAGTCAACACCGCCGCCGAAAA',\n",
       " 'CTTGATCAATCAGCTCGGCTCTTTCTTCTGCGCTTAAGGTGTTATACAGTTGCATGCTATAAACGTTAAGTGAGAAATAGGTTATGAATTCTAAACGGAAGAATTCCGGTGCAAAAATAAACATTTTACAACAATTTCAAAACGAATTGATTTTCAACACAATAAAAGAAAATAAAAAAGAATTTCAACTGTTGATAAGATTGTATTTGAAACTTAAAAAAAAGCATTATTTTTACGAAAAATAGATAGC',\n",
       " 'TTACGCGATAAATTCTCGGCCTGCAAGGCTAAAATACCCGCCAGATCGGCCTCCGTGCGAGCAGTGTCTATTTGTACCATTTTATTACTTTTTAATCTATACGTATACGTATCAAAACAGGCCAATAACCGTCCTAAACAGGCCAAAAACGGGCTTTTCAGGTAGGGTTGACCCACTGCAAATATCTTCGGAAATCATTTGGTAAACCGAATAAAAAAACGTAATTTTATAAGCTTAATCAAATACAACA',\n",
       " 'GCACTACTAAAAGCTGAAGCCCTTAAACAGAAGAAAGCTAAAGAAGCCAAAAAGAAAAAGGCGCTGAACGCAATAAGCAAGGAGCTGAAAAAGCGGAGTGTGGACAAGCAGGATAATAATTAAGCTGCAACCCAAATCATTGCCGGGCCCATCCACGGGGCGGCTAAGCAAAAAATATTTTCAAATAAATACTAAAATAATTAGCAAATAATAAAAACACTGTTTATATTTGTTTCACGAAAAACATAGA',\n",
       " 'ACCATCAGCTTTAAAGCGAAAAGAAGAACAAGAAATTAAGAAAGCAAAACAGAAATCTATTAAATTAAAGAAGGATAAAATTGCTAAAGAGTTAAAAAAACGAGCAGTTAAATAAAGCTTTTTATTCACATTAATTTGAAATCTCAATCGGCTTGATTAAGTTTAAAATATAAAATTTTATTTTACCAATTTTTTTAGCAATTTTGCATTCACAAATTCGATAATTACAATAAATACTAAAAATATTATA',\n",
       " 'TTTTTAAATAAACAAAGCAAGATTGACGAGCAATGGTTTGTCGATGGCCTGCACCCTAATGCGGCCGGGTATCAAAAACTGGCGCCTTTACTGGCGAGGCATTTGAAAGATTGATTAAAAAATAATAAAATCCAATATTTTTAGTTTCGTATTGCTAATTTTATTAGCTTTGTGTTGTTGATAAAGTTAATCAGACAGGATATATTGAAATTGTAATTTTGGTTATGGCAAAAACAGAAAAAACTATAGA',\n",
       " 'CAAGGGTAATTTACTCATTGTTTTTTTTCTTGGCTTCCATTTTTTGGCCAAAGGGCCTGTTCTGGTATGTGCCTCATTGGGTGTCAGATAGTTACAACTCATATGAGGCCTGACACGGTTATAATAGTCGATGGCCTTACCAACAGCATTGACGGCGTCGCCATAGTTGCTAAACGTCCTTTTCAGCCCAAACTCATGTTTTAAAATGCCATTTACGCGTTCTGCCATAGCATTATCGTAGGGGCTGCCT',\n",
       " 'CAATATGAAAAACAGGCTGTCCGGATGGAACGCCGGCTACCGGTATGCGCGTAAGCGTATAGAAACCCTGTTCTCCCAGCTCTGTGATCAGCTCATGCTGAAGCGGAACTATGCCAAGACACTTGATGGTCTATTCACAAGGCTCTGCGCAAAGATCTCCGCAGTAGCAGTATTGCAGTACACGAACTTTTTAAACAACAGAAATATTAACAGGTTGAAACATGCGCTTGCTGTTTAAACCGCACAACGG',\n",
       " 'AAAAGAGAGTGTAAGGCGTTCTTCGCCAGCGTTTTCTAATAGTTCCGCTCTCTCTTTTGCACTTAAGGTATTGTACAGTTGCATGCTATACTTTTTTTAGTGAAAAGAATGAATAAATATTTTAAATCGCTGCAAAAATAGTGTTTTATGCGTTGTTGACAAAAAAACCGATTAACCCATTTTTACTTTTGCTGTAAACGCAAAGAAATAGTATTTTAGCCTATCGACTCCTTCACTAAAAATTGGAATT',\n",
       " 'TAATGTTAAGTTACTGATTTACAGTAGTTGTTTGTAGACCCACAGGGATTCGAACCCCAACTGACGGTACCAAAAACCGGAGTGCTACCGTTACACCATGGGTCTGTCATTATTTTGGTGGTGCAAATCTAGAAAATTATTTCTTATCAAACAATTATTTTTTAAAAATTATTTTAAAAAAGTGATAATTAAATTTTATTTGACTTTTTTTCAATTTTTAATTCCGTATTTTTGAAAAAATAATTTTACA',\n",
       " 'GTGGCTTCTCGTTTCGAGAAAGGCAATAAGAAAAGAGAATTTTTATTAGCTATTAATGGTGGCACTTTGGAATTTAATAATAACAAAGCAACTATATTAGCAGATTAAACAATTGGATTATTACATTTCAAAAACAGCTGTAGATTTGCAGCTGTTTTTGTTTGTAGGATTCTGCTTGGAAATTTGTATTCTATAAAAATAAATGGTAATTTAGCAACTCAATAAATCGAATTAAGAAAATAGTAGAAAA',\n",
       " 'AGCAGGCTCATTGCAAATGCCCATCAGCCACTGGAAGTATATACCGGTTATGCAGCAGGCTTTATAAGCCAGATGCTGGCCGTTATCTGGTTGTCCAGATAAGGGCGCATTTTCATTGCGTAGCACTCCTGCAAATTTGCAGGCGATATACACATGGGAAACATCGAAAAGCTATTTCTATGCATTTTCCTTTCAATTTATGTAATTTCGGAACGTACAAATTTTTGACAACCTGATAATACCTCAATAC',\n",
       " 'GCAAAATCCGGACAAAGACGGGCGCAAAAGGCCACTCGCTATGACGCCAATAGGCGCGGGGAAACGGGCGGACAAAGCAGGCGGCAGCTGGAAAAAAGAGAAGAAAAGGAAAACAAAAGGGCGGCATTTTTAACAGCGCAAAGGGCAAATACATTTGGCCGACTAAGGGAAAAAGCTTAAATTTGCGAAATATTTTTGCCGCATTATCTAAAGATAAAATCAGGCATTTACCATCAGCAAATCAACCGAC',\n",
       " 'TGGTCTTTTACTAGCACTTTGTGCGGCAATCGGTATAGGAGTAGCAAAATTAAGAGCGAAAAAATAACTTTAAGTTATTCAATTAATTAAAAAGGGAATCTTGTTATGAGATCCCTTTTTTTTATGTTTAATGGTTGGATATAAGATTCGCTTTCGCGAAAGCGGAACTTTTATAAACATCGTTAATAACCTAATCTCTATACTATTGTTTCTACTTTATCTAGACCGTATTTTTACCTAAAATAATTAC',\n",
       " 'GTTGAAGTGGAAGAAATAAAACAGTAAATCTCACAAATCAAACAAGAAATTACACAACAATAACTAACTGAATAGTACGGAAATTTGCATTATCAGATAACTCTAAAATTTGTAAACAATGGAAAATAAACAATTTCAATTCAAGACGAACATCAATTGCGGCGGCTGTATCGCATCTGTAAAGCCGCACTTGGACAAGGCAGAGGGCATCTGCCATTGGGAAGTGGACACGGCCAACAAGGACAAGGTA',\n",
       " 'AGGTGTTAAGCTTGTGTCAATAGTCCATTCTCCAGCTGCATCAGCTACAGTAATAAAAGTAGCTCCTCCTACAGTTACTGAAACCACACTTCCTGCATCTGCAGTACCATTCAGAATAGGTGTGTCATCACTGGTAATTTGACTATTCACCGTCGGAATCGTTGGGGCGGTGATGTCATAAACTACCGTCTTGGTCGCTTCGGCCGCTGGGTTGCCGGCTACGTCTGATACATTCGCAGTGATGTCGTTG',\n",
       " 'AATATCTACAACTTTGCTAACTAAAATTTGAGGGTGAATTCGCCCTTGATTTTTCAGCTCAAAATTTCAGTTACCAAAAGTAAACTTTTTTTCAAACAAATGAATAACTCTGCGGAAAATGTGTGGAAAAATTGTCTTGTTTTTATAAAAGACAATATTGACGATCGGGCGTATGAAACCTGGTTTGCGCCTATTGTACCTATTAGGTTGAAAGAGAATTCGTTAACCATACAGGTGCCGTCGCGTTTTT',\n",
       " 'TGAGTCCTATAAAAGGGGATGGTTAATTAAGCCTGATCCTTCGAAAGATAATGTGAAGATGAATGCCTGGAACAAGATGAAGATCCGTGTGAAGGGAGATGAGGTGACAACTTGGGTAAATGGAGTGCAGATGGTGTACTTGAAAGACCAGGTCTTTGCTGATTCAGATGGAAAGATTGCCCTTCAGATTCATGACGGAGGTGGAATCAAGGTAAAGTGGAAGAATTTAAAGTTGAAAAATTTATAATAT',\n",
       " 'AGATTTGTACAGAAAACCTTAACGGCAGTGCTGAACTATTACTCTGTCTAGATTAAATATCTAAAACCTGTATCAGAGCACTGCCGTTTGTTGAACAAGAACCATATAGAATTTTAGTCTTCGCCGGACTGTTAAGGGATTTAGTTTCATTCAACATCAAGGTTATTTATTCCACTTAACAACCCAAAGTTATGAATTACAGATTATTTGCAGGCATTGATGTTTCAAAACTGAAAATAGATGTTGTGTT',\n",
       " 'TGCTGTTTACTAAAACGGCTACTGAAACACCTAATGTTTTTGATGTTAATATTTTTTTTAAATATCTCATGTTATTACACTTAAAAATTGAACATGATAGTTTAAAAAGTGAGGTTAATTTTTCTTTTTCATAGCCAAAATTTTCCCACCTTTATTAGTAGATGTAAAAATGTTTAAAAGGTTGCGTGAGAAATTAAAAAAAAGATTAAAAAAGTGGTATTTTAGCACAACAAATAGATAAAAAAAAGAT',\n",
       " 'GCGACTATCAAAGGAACATACACGATTACTCAATCGGATATCGATGCGGGTAAAGTAGTCAACACGGCTTTAGCAACAGCGAAAGATCCAAAAGGAAAAGATGTAACAGATATCTCTGGTACTTCAGTTGATAACAACACGCCTACTGATACGCCTCTAACGCAAAATCCAAGTATTGCTCTTGTGAAAACAGCGGTAGTAAGTGGAACAGGTAAACTAGGTGATGTAATCACGTATACTTTTGCAGTAA',\n",
       " 'AATGCCATTGCCATAGCAGATGAAGATAACGAGCCTATTTTATTTCAAAACACCAATCCGTTTAGCCAAACCCTATATATCAGAGCCGAAAACATCGGTGATGCAGATATCAACGGAACCGGCTGTTTTACCATCCAAGCCTTGGAGCTGCAAGTAGAAGAAAGCCCACGCATCCAAACACTAGAAGACTTGGTGATTTGTGATGATGATACACTCAACGGATTTGCAGCATTCAACTTGGCACAAAACA',\n",
       " 'TGAATGAAACTAAAGGACAAAAATACAACTTTTAACAGCAATCAAATAAAAAAGGGCCCTGAATATCAGGACCCTTAGTGATCACTTTAAGGAAATTCTCTTTTCCATAGTAGTCAAAACCAATAAAGTGAACAAGAATGAATAATGCTTTTTGAGTAGATGTGATAATTTCAAAAAGGTTGCTTTTCTGATTGTTATATGCAAAAAGAAGTGGTAATTTAGTCACCCTTTTAATACAAGAAACAGAAGA',\n",
       " 'GAGCGCATGATTCATAATCATGAGGTCTCCGGTTCAATCCCGGATCTCGCTACAAAATGAAACCCATTGAGAAATCAATGGGTTTTTTATTTGAATCAAATTAATATTTTTATTGATAGTGTTTCAAAAAGTGTGTAAATTCCGAATTGATTATTTTTGTAATGCAATTTTCAAAAATGAATAATTATGATAGTGTTTCAAAAAGTGTGTAAATTCCGAATTGATTATTTTTGTAATGCAATTTTCAAAA',\n",
       " 'CGTTTGGTAAAAAAATAATTAGCAAGAGCTATGATAATACCAAAATCGAACTCGAACTGCATCATTTATCCTCAGGAATCTATCATGCAATTTGTAAATCCAACACAAAAAACCAGCACTTTCAATTTGTAAAAAAATAGACTTATGAAAATTGTTAAAAACTCATTTTTAGAATGTCTATATCGGCTCTAAAAAGATAATATTTTTACTATTTTTACTTTCTAATTATTAATTTCAGAAGCGAAGCAAA',\n",
       " 'AAACAATACATCAAGCAAGAACTTACAGCCATTAAAAACCACCCTCAAGCAAACGAAATTTTAGCTATGCACATCCATCCGCTAATTAGAGAAGAACGGTTTCAAATGTTGATGGAGAAAATTGAGAAAATAACAAAATAGAAGTTTTTCACTATTGTGGAAAAACCGGTCAAATTGACCACCACTTTCCAATGTAAATTGACCACCAGTTCCGGAGCAAACTGACCACCACTTTCCAATTCAAATTGAC',\n",
       " 'AAGCCGTACCGGCCGATTCAACGCTGTAAGCAAACCCAAACGCCTGATCCGGTAAGAGACCAGGTGTTTGGGGCGTTTTGAAGGGCTATGTGGCTGACACAGACCCGTCTGAAAAACAGCCTTCGCGTGCTCCGGTTTAGGGGTTCCGGAAGTGCATTTCCGTTCGGTCAGAAGCCCTAATTATTTCCGAAACAGACCTTGGAAATCTGCGCGTTTTTGGGTAATTTTATCTGTTTAAACAACCATCCAA',\n",
       " 'ACATTTTTAAAGGTAACGGTTCTGCCATCTGCGCTGATCACATCAGGCGTAACCGCTGTGCTGCTGGCAGTTCCCGGGCAACCGTTGATGTACCATTTCCAGGTAGCATTGGTAGCACCGTTTTCATCGGTACCAAGGCTGCCACCCTGGAGGGTGAGTACCACATCTCCTTTGTCGCAAATTTCTGCTGCATTTACACTGATGCCGGTAGGCGGTGTGGAAGGCTGCATGATTTTCACGGAGAACGGTA',\n",
       " 'AATAAAATATTCTACCTCATAAGTACACTCATAGGCACATTAGCAGGAATGATTACATTCATAAAAGCACTGACTAAATTGGCAAATAACATAACCCTCTTTAAAAATAGTATCAATTATATTCTATTACTAACCTTTATAACATTACTTATCATACAAGTATTAAAATACTATAAAATTCATTTAAAAAAGGTTTAGTATTTGATATAAACGAAAAAACCCTATCCTTATTGGATAGGGTTTTTAAAAG',\n",
       " 'TAGATAAAAACAAAAGTCTTATTTTCTTACTTCGAGCATTCAGATCCGATAATTCTATTAATTACAATCTTATTAAACGATGGGAAAATTTTGTCTTATGCTATGACATAATCTATTGGAACGGTTTTTTTTACCGTGCACAATATCGAGATAGTTTTGGTGCTATTTATGCAAGTTTAAAACCAAATTCAGGTTTTAATGATTGTAATGACTTGTTGTTAGAATTTTATAAGGGTAAATGGTTTGGTTC',\n",
       " 'CATTGAACATACTCACAATTTTCTTTCTGCTGGCAAACTACTAGAAATCAGAGCGACGCCACGTGGGGCTATTTGAATTGGAAGACTAATTGCTCGCCAAGCTTGCATAAACGAAATCCACCTTGCACCTTTGCACTCCCAATCCGAAACGCGGGTCGGTAAACAAGTGTTGAACTTGCTTTCGACAGTCGCCGGCTAAAAAAAGTTTTGCCGGTGGGTTGCAAAAGCGGCGGCGGGGGTTGTACCTTTG',\n",
       " 'GCCCGCCAAAAGACCGGTTTGATCTGGGTATCAATGACTACCTTTGACAAAAATTTTAGCATTATTTATTTTTCCCAGAATCAGCAAATATTTTTAGCATTGTGGGCACAAAATATAGCTTGTCTATGTTACCCACAGCCGACCTAGAACAGCCTCAACTAACACCTAGGAAGCGGCATTTCGACTTGTAAAAACGGCCTAAAAAGCCTAATTTCACCAAACCTAAGCATTTATACCCCAACCCCATTCT',\n",
       " 'TCAATGTTCGTTAGTTCAAAGTTCTGTGTTGGCGTAGTTGCCGCTTTAGGAAATGAATTGACAAATGGAGATGCAGCACCAGGTTTTCTTTGCCCGAAGAGCATAAATTAAAATAGCCACGGGTAAAACCCGTGGTAAAAAATCAATTGCACAAACAACCCTGAAAGGGTTGAATTAAACGAGTAACCAACGGTAATCCAAGAGGCAGCCTATGTGTTCCAGCGGAACACTTTATGGGTAGAAAAAGTAA',\n",
       " 'AATCCAGGTGAAAGTAGTGGGCAGTCCGCACCACAGCGCGAATCGCTGCATTCATTCCGGGCGCATCGCCGCCGGAGGTAAGTACCCCGATGGATCTGATTTCTGTAGCCGACATAGAGAGCAGTTTTTAAACTTCACAAATTTAATTAAAATTTCCTTCCCAGAAAATGCTTGATAAAAGTTTCCCCCATTAAAAATATCACCGCATATCTCTTCATTTTTTTATAATTTTGTGAATATTTAAGGATAA',\n",
       " 'CTGACATGGGCTGACGGATTGATGTACTGTTCAGGAAAAGGCGCTGTTAGCAAAACTACAAATTTTGGGACGCAAATGCGGATATACAAAAGGCAAAACCGCTTCTGTAACCTTCTGGACACGATTAGCCTCATGATTTTATTTTTGGGTTTGCAGATACACCCCGCACCTGTTAAATTGAATATCCGTTTCATCTGGAGAGATCAGGTATTTTTATATCTTTGCCGTCCTTTTGAACTATGATATTCAG',\n",
       " 'CTTGGCATGGGTCAACGTAGCGACGCTCAACGTACCGATGATCACCTCTTTGCCCAAGCATGAGAAGAGGGCGTATCCGTGGTTCGAGAAGTGCTTGAACCGCAAACTACTGCGCTTGTTGAAAATCGTTTTGTACATAAAATAAAATAAAAAGAATGCCTTGCTTCCTGCGCAAGACGAGTGCAAAGGTAATAAAAAAGGTAAAAAGGTAAAAAAGTAAAAAGGTAAAAAGGAGAAAAAGAGGGCCTTT',\n",
       " 'TCCTGCGAAGCAGATACAGCGGATGGCCCGACCCGATCCCGATCACTATCGGGATAAGGGTAACGTCATGATAATTGTTAGAAGTATTCCATTTAAAACCTACGTAAATTAAAAAGATAAGGCATATTGCCTCCTTCCTCACAACAATATAATTAATCATAGACGATTCGAAATAGACCCTAAAATATTTTACTAATTATTTTAGCATTTAATAAAAATAGTTTTATATTTGTTCAAGAAACAATTACAG',\n",
       " 'CACAGCCATAGTTCCTTCAGGAAAATTAAATAATTCTCCTAACAATTTATGTTTACCTCCTTTTTTTTGATTAGTAATAAATTGTGATAAAAACCCATAGGGTTTGTAAATCATGAAGTGACGATGGCTTGACATCTTTTCTTTTTTTTAAGAAGCACAATATTACAAAATGTAACATAAAAAGATAGGATATTAATGCTAGTTTTTCATAACTTAGCCGTTCTTATTACTTAAAATAATTAGCACGATT',\n",
       " 'GGTGGTTATAGCGACGGGGCTCACCTCTTACCATTCCGAACAGAGAAGTTAAGCCCGTTAGCGCCGATGGTACTGCATTTGTGGGAGAGTAGGTCGTTGCCTTTTTTAGAAACCCTTCATAGTAATATGAAGGGTTTTTTGTTTTATAAAATCTCTAACATGTAATTGCTTGGAGATTTTTTTGGTTTTACTGAAAATATATTACATCTATAGTCAGAGTTTAGATCATAATGGGGCCCGCTAAGCTTTT',\n",
       " 'GCCCAGTCGTTTACGTCCGGACCGCTGGCCGCAGCGGGCCCAGGCGGCGCGTGATAAAGTGCTTACGCGAATGGTCAGCCAGGGCGTCTGGCCGGAACAGGCGGTAAAGGAAGCGATGGAGGAGCCAGTATGGCTGTTTCCGCGCCAGATGCCGCAGCTGGCGCCGCTTTTTTCACGCCGGGCGCTGGCGACCAGTCGTGATGAAAAGGTGGTGACGACTCTGGATGCCGGACTGCAGCGGCAACTGGAA',\n",
       " 'GTTTTACATTTAGATACATACTTACGCAAGAGGTTGCTTTGGTAGATGTTAAATTTTATTCGGAAATATTCCGCCTCTAGGTGTTCAATCTCTTTAAAATTACAATTAAATAGGAATTTTTCCAATAATTTGGATTGATTTCATTGGTGTGCATTAAAAGAAATAGTACTTTAGCAGCGTGTAATAAAGAATCTATAGTTAGTAGTGATTCTTTAAAAACGCACTCAAAATCAGCGTTAAAGACAAAAAC',\n",
       " 'TGCCTGGGCTGCGGAGTGGTAACTACTGGCCCCTTGGTCATCGCTGGTACAAAAAAAGCAGCGGCCGCCATGCCGCTGCTACAGCTGAGCTGACCGGGGGAAAGGCTAGTATCATAAAAAATTTACGAGGTCGGGGAGCAGGCAGCAAAACGATTGTCTTTGGCCTGTTCCAGCGGGCGGGGCGCGTGTACACCGAGATTGTGCCGGATTGTTCTAAAGCGACGCTGCAAGGTATTATTCGGGGCAAAAT',\n",
       " 'ATATTGGGATAGAACAACATACTTCAATATTTTATATACAAATATAAATTCTTTAAAACATTACTCCAAATGTTCACAAAAATATATTGCGTTCATATGTCGTTCTAAAAAAATCATCTATCTTTGAACTACAAATTGGTATATTGTGCTTCATCCCGAACGATGTGGCAATTAACATCAACAAACTCAGCTACAGTCAGGATGATAGACATTTTCATCAGAACAAACAAATAAATTAATAGCAAACATT',\n",
       " 'GGTGTTAGTTGCGATACACAAAGCAAGCAACTCAGTTTCAAGGAAAAAAAAGAATTGCCTTATTCTCTTTTGTCTGATACGGATCAAAAAGTAGTTGAAGCTTATGGGGTTTTTGGAGAAAAAAAATTTATGGGAAAATCATATAACGGTATTTTTAGAACTACTTTTATAATAGATGAAAACGGCATTATAGAAGAAGTAATTACTGATGTTAAGACCAAAGATCACACAAATCAAATATTGAAATAAA',\n",
       " 'CCTGCACCAACTGTTGGTCCTGCTGGTGTAAAAGTATACGTTAATACTCCACTGTAATTTGTTATCGTTGATGAACCTGTTGCAATACATGTAGGCGCTGTAGTAGATATCGTTGGTACTGCTGGTGTAACTAACATCGCTAAATTGGTAAACGATACTGATGCTACTGAAGTACAACTTCCATTGCCTGCGGTTACTGTATACCCTGTTCCAACTGTCATACCAGAAATTAATCCGCCTGCACCAACTG',\n",
       " 'TTTAAAGAACTTTAATTCCCGAAAATTCGGACTGCAAAGATACACCAACTTTTTATTCCTAAACAAATAAATTATCAAAAAAATATAACTTTTTTTATTAGCATAACCATAACGCTTATTTTCAATTACATAGAAATATAAATGCATTAAATCTACACAATAAATAATTCAGTATGACTCTATAAGTATCAATATAATCAAGAAAAAAAACATACAAACCAAATAAAAAATCTTAAAACTTATTACAAAT',\n",
       " 'AGTATTACCAGCAATTGCAAACTCCCTCGGGATTAAGAAGGCTTGAAACGGAGAAAAGAAAAAAGATCAGATTACAACAACAAAAAAAGATCGCCGCCCAACTAAAAAAGATAGAAGTACAGGAATAAATGACACCTATATTGGTAAATTTATTAATAACTTCATGAGGTTGAATTAAAGCTATAAAATGATAATATTTTTAGTATTTTTGACACCAAAGAAATAAAGAAAAGACACACAAAACTAATAT',\n",
       " 'AAAGTAACACAGAATGGATCTATCAGATGGAAATCGTATTACTGGGTATATGTGACCGCCTCATTAATGGGGAAATATGTAGGTATCCAGGAAATGGGAAACGGTATTTGGAGGGTATTTTATAGAAACGTATTTTTAGGTTTCTTCGATGAAAAGTATCTAAGAAATAAAGAACAAGCAACAAGGCTGGAAATTAATTTAGTGTAAACCTTAATCTTTAACTTGTGTAAACTATGTGCCTTTACGAACA',\n",
       " 'ACATTATTTTAACAAATCGTTAATCCGGTTAACACTCAACAGTTTAAATCCAACATCATTGTAACTGCCTGATTACTAGACTTTTTTAAAGCGAAAAAAATTTACTTTTACAAGCGGTTGATTTTAAAACGAATATCAAAAAAATGAAAAATACAAGCGAAATTTTATTTTTTTTTAATGTTTTTTTTCACCAATTTAGTATTCGCAATAAAAAAATCATCATTAATATAAATTGTTAGGAATTAGCTCG',\n",
       " 'CTGTTTCGCCGTAGCGCACTCTAACATGTGTAAGTGTATTCTTCAAAATTTTGTGTCGATTAAAGAAAGTTTTTTTGTAGTTTTATCGAAAGGGAAGTATGAGAAAAAAAAACTAAAAATTCAACCCTAATGTAGTTTTTTTTATAACTTTTTTGTTCACATATTTGCACTGTTAGGAAATAGCTCGGAAACTCTCCATCCCCTATTTTTTAGCCACACCTTTTAAAAAACAAAAAAACAGAATTTTTAA',\n",
       " 'TCGCCATCCTGGTGGCCGTGGTGCTCAGCCTGCTGAATTTTATCGTCAAGCCCCTGTTGATCATCCTCACCCTGCCGGTGACCATCCTGACACTGGGGCTGTTCCTGCTGATCATCAACGCCCTGATCATCCTGATGGCCGATGGGCTTATTACCGGTTTTGCGGTGGACGGCATCTGGTGGGCATTGCTTTTTTCCCTCCTGCTCTCCATCCTCCAATCCCTGCTATTCTCCTTTCTCAAGGAAGAGAA',\n",
       " 'GATTGCCTCTGAATAAAAGATTTTTTTTCGGAAGCATACCTCGTATCCCCGGATGAAGATTGTTGATTATTATCTGCTTCTGAAAGAAAAAATGCCACTAATTCACAAATGTTTTTTTGATATTTGTGAGTTAGTGGCTTTTTTATTTATTTCTTTTCTGTATATCCGTAAACATTCCTAAATACCGGAAAATATCCTATATTTGATTAAATATTTAGATTTAACATTATGGATATATTTTCCTTTGGCG',\n",
       " 'GGTAGCTCGTCTTAGTTGACTTGTCAGACCAAATTTTTCATCTGAAGGAAATTGGTTTGTAGCTAAATAAATATCTTTAACCAACTCTCTTGATTTTTGCCATACTCCCAATTTAGTTTATAAGTCGATAAGTTTATAAGTGGATGGTGTAAGGGTATTTAACAACCATCGTCACCTTTCCCTCCTTTGTTGCCACCTGGATATAACGGTTCGATTAGTGCCACCCGTTTCGGTGTAATTGAGCCACCCA',\n",
       " 'CCACATCTTCCTTGTATTGGTCGAGGTGTTCCCGCAGTACCTGTTCGACATATCCCGAAACGCTCGCTCCATGCTCACCGATTCTCCGCACCACGAAGTCTAACTTTCGTTGGGTTTCCTCTGATACATACACGGCTTTGCGGTGGCTGTTGCGAAAGGGCTGGAGATATTTCCCCTGAAACTCGGATAATTGCTTTCTGTCCTTTGTTTTTCCCATTTCTTGATAGGACGGTTGAGAAAAATCCTTGTT',\n",
       " 'TTGAAGCCCCAGTAAACGGCGGCCGTAACTATAACGGTCCTAAGGTAGCGAAATTCCTTGTCGGGTAAGTTCCGACCTGCACGAATGGTGTAATGATCTGGACACTGTCTCAACCGTGAGCTCAGTGAAATTGTAGTATCGGTGAAGATGCCGATTACCCGCGATGGGACGAAAAGACCCCGTGAACCTTTACTATAGCTTAACATTGAATTTGGGTACTTGATGTGTAGGATAGGCCGGAGACTTTGAA',\n",
       " 'CTGGGCCGTTGCCGACTGTGTCACCGATGAAGGGTTGTCTGCATTGGCAACCAAAACATCGCCCGTAACCTGGATATAACTCTTAACCGTATCGCAGTTAAGCGCATGGTCGTTGTCACAGATCGTGTATTCCACTTCGTAGTTTCCTGAGGCTGTGCCCGGAGCCACTGTGATGGTTTTGTCTGCGTTGATTGTTAAGCCTGCAGGAAGCGTGCTTACCAATGTGAACGTTACTTTTCCTGCTCCTGTC',\n",
       " 'TTTTATTGATGTTTTCAAATTTCACACCATTAAAATTAATATATATTATATTACATATATATAATAATCCCAAAATTGAAATTGGGGGCATATTAATAATAGGAAAAAATAAATCGGATTAAAATAAATTTTAAAATCAAATTCTCATCAAGCAATTTTAAAAATCCGTGATTGAAGAATATTTTAAAAATACCCCTTCATAAAGTCCAATATAAAAATCGATATCCAAAATCTTGATTGCAAATTGTTT',\n",
       " 'ATTGATGACCGTTGGCCAGCCGCTTCTTTTTTGGCGCAGGACGCAGGTGCAAGGGGAAGGAAAATGGAGCAATGAGCTCAGGAAGACACTTTTCAAACAAAAACATTACGCAAAAAGATTACAAAAATGCACTTATCGTCATAAAGTGAAAATATTTTTGCTTTTTTATACATAAAGTGTTGCGCGGTAGTTTGCTTGTGTTTATATTTGTGTCACAACAAAACAAAAGCAGTACTTTCAATAAAACAAA',\n",
       " 'ATAAAATATGTGTGACCTACTTGCACACTTTATTACACAAAATAAAAATATGTAAAAACAATTATCTGTTCTCAATTAACAAAACTCAACAAACCCAGTAAAAACAGAACCTGTAGAGAAAATACATTTTTAAAAAACAGCACTTATTTAAAATAAAAACAAGCAAGCTAAAAAAGTTCTGTTTCCTATTTTTACATCTATAAATTCGTATTTTAGCTACCAATCAAAATAATTAAATACACAAAGTCGA',\n",
       " 'CCTCAGCCACAAACGGCACAGCCTGAAATGCCGCAACCTGCCCCTGCACAGCAGCCGGAACGCGTTGATACGTTGTAGTTTGGGTTATTTTAAATCCTGTCAATTGACTCGTTTTTAGGTCATTGACAGGGTTTTTTCGTGCCTTTTTGTAGCTAAACATTACGGATAAAATCCCGTTTTCTATTTTCAAAAATAGCTAGGAAATCTGGCCATTTTTGGGTAATTTTAACTGTTTAAACAACCATCCTAA',\n",
       " 'CGATATGTTCCTTTTTCACAAAGCTATTTTTGACAAGATAATTGTCAACGGTTTACAAATTTCTACTAAAAACCAAAGTAAAAATGTAAACCTAAAATGTTAATTAGATTTAATTATGGCTCATTTCATAGCAAAAATTTCCCCACTTTAAATACTAGATGCAAAATGTTCATAAAGGTTGCGTTATAAAATTGTAAGATGAAAAAACTTATATTATTTTAGCATCAATTACTTAGAAAACAAAATTAAA',\n",
       " 'GGTTGTTTTGTTTAGATTTTAGTCCTGGATCAGGTTGACAGTATCAGCTGTTAATCCTGATCCAGGACTATCTTTTCTCTTCGTTCGCCATCTCCTTACTAATTCCCCTTGTTTTGTATGTGCCTGATTTGGAGTTAGGTAGTCGCAGCTTGCATGAGGCCTTTGTTCATTGTAGATGCGGATAGACGCTGTTACTATAGCCGCCGCGGTTTCATAGTTTTTAAATAACCGGTCCAGACCAAATTCTGAC',\n",
       " 'ACTTATCCACACTCAAACCTTCCCAAAGAGGCTAGGCATTCATATAATTATAACTGCATAAACATAGGAAAACGACAGATAATAATCTCATAAATAATATGTACAATACGCGTTTTTTCATTTCGTTAAATAGAATGCTACACATTTTCGGACAAATGTATAAAAAAAGACTGAAACTTCCTAATTTTGTTAATTCATAAAATTTTCGTACATTTGCACTTATAAACATCTAAACAATAAAAATCCAATC',\n",
       " 'ACTCTTTTAGAGCGTTTAGGATAGAACATTCTTACTAACGATAGCAGGTCTTAATTTGCTTTTGGTAGATATGAAGGGGTGGGTTGGGATAGGCGTTTGTTACTCTTTAAATTGAATAACAGAATTAGACGAAACAGCAACGATGTACCAACTATGTTTTAGAGGGCTTAGATGGACTGGGAGTTTTAGTATTTTTGGAAAATAAAAAAAGCCCTAAATAGTCCTCCCTTAAAAACAATATTTCAGCATA',\n",
       " 'ACAAATAACTGCTTGGCTTTAACACTTCTCGCGTTGGCTTTAACAAATATTGCACCCGCTTTCATAATAGTACCTTCCGCTCTCAAGAAAGTCTTGGTTCTTTCAGCAAACTTTGCTGCGCTTGTCGTAATAAGCGGTGTTGATTCTTTTTTGTTAACAAAAATCGTTTCTCCCTAGATTTTACTTTTGCCCCAAGCACAAAGAAATAGTATCTTAGCTACTTAAAAATTCCATCATAAAACATACTGAA',\n",
       " 'AGGAAATAAAGACCAAATGCAAGTATTAAAAGATTATCTGAACATAACCCAGAATTCAAATTTTCATTAAAAAAATTCTCTTTATTTCAGAAAAAATATATTTTCAAAAAGGTTACTGCATCTGCTTCGTTATGAATGACATCAGCTATAAAAAATTATCATTTTTTAACTTTAAAAACATATTTCAGGGATAAATAATATTAGTTTTTGATATTTAAATTATGTATTTTTGAGAAATTATTTTAATAGA',\n",
       " 'GGTCATCCCATTTTTTCCTTTTTCATAGCCTTCTCTGAGTCGTAAAAAGGGGATTGACCACCATTAACCACTGTTAAAAAAACAACGGGTCTGTACATTGAGTTAGTAATGTATTTACAATAAGATGTTCCTTTTTTGAAAAGGTTGCGTTTTTAAATCCATCAAGCCCAGACCACTGTGCATAAAATAATTTTGAGTGCTGGAATTATGACAAAAGAAATGGTAAATTAGCATTCCTAATAAAATATAA',\n",
       " 'CACATCCAGTGCGTAAGGACGTATCATCTTTGTAGTGTTATTTGAACATTGACATTGACATATGCGTCTGTTGTGCGTTAGCCCCCTTAAATTTTTATAAAACAAGCATAACAATAATAAACGTGCGAGGTTAGATCTTTTTACTATAACATTTAGCATTACGCAGCCAAAATGCTAAAAAATTTAGGATAATAGAAAATTAGGTCATAACTTAGCACACACCATTAAATTTGTAAAAAACACTTACTAA',\n",
       " 'TGAAACTATCGTTACTGCTGGAACTGACATCAGTGTAACAGGAACTGGTACAACTGCCAATCCATACATAGTAAACAGTACGTTTACAGAAGTGGATGGAAGTACTTCTAATGAGATTCAGAACTTAGGACAAGTATTGACCGAAGGTAACGATGCCGGCGGAAGTGTTATTACTAATATGGGGACTCCCGTAATTGGTACAGATGCAACTACAAAAGATTATGTTGATACTGCAATTACCGCTTCTAAC',\n",
       " 'TTTTGAGCTCTTTTCTTTACTACAAAACTACCAAACCCGCGGAGATAAACATTTTCATCTTTAGATAAAGATGCCTTCACTGCGTCCATGAACGCTTCAACGGTTGCAAGCACTGTTACTTTGTCGATTCCGGTGTTCTTTGTAATTTCGTTTACAATATCAGCTTTAGTCATTTTTTTCTTAAAAAAAATATTATTACTATAGTTTTCTAATTTTTTGGACTGCAAATATATAGCTTTTTGGCGGCTCT',\n",
       " 'TGCTCCGGCAGCCGTTGCGTCGCACACTTCGGCGGCGGTAATTCTGCTGAACTTTTTTTTACTACGCACATTCCCTGCGCAATGCGCATGCACCTTTGTATTGTCCATTGCGTGTTACCCCAATTAACGGGAGAACGCACGATACTACAAAAATTAGCATCAAATAAAAAATGCTAAGTTTTTTAGGATCGTTTCAGAAAATAATTATACCTTGCATTACCATTAAATTTGAACAATAAATACTTACTAC',\n",
       " 'ACCAGTTTCGGAGCAAACTGACCACCACTTTCCAGTGCAAATTGACCACCTGATTTTGGGGTACAATTGACCATTAAAAACTACTAACTTTTTCATGTTGTTAGCACCATACATTCGTTAAAAAAATACGGATTATGGCAAACAAAATAACAGACATGAGTAAAATTAGAAAAGCAATTAAATTCTATTGTAACGGCAAGAGTAAGTTGTTTATAAGTAGCTACTTATCCCTTTCTAGGAATACGGTAAA',\n",
       " 'GTGCTAAAAATATTAGCAATACGCCGGAAAATAATCTAAAAAAAGGCATAAAAAACGCTAGGGTTTTGGCACTAAAAAGTACCTTGGTCTGTTACAAATCAGCAAACGGAAGCAGTAGCGCTAGTATAAAAAGAGAATACTAAAAATACTTGCAAAGCATTGCTAAAAATAGTAATTTAGGCCTGAAATTACGGAATATATAACATATACAAGCTATAAAAGAAAAAGACAACATGAGTGCAACCGACAA',\n",
       " 'GCTGACCTGGACGGTAACCAGCATTGTAAACGGTGTAGTAAACACTAAATGTCCGGCTACAACTGACGTAGTCACCATCTATAACTTCGCAGCAAATCCAGCGGCTAACGCAGGTGCAGATCAGGAAGATTGCGGTAGAACAACTGCCTTCACCCTCGATGCAACCCCTGTGGTATCCACTGGTAACATCCAGCAGATCGGAACCTGGACTGTTCAATACACTGGTGCTAACACTGCTCCAACAGTAAGC',\n",
       " 'GGTGAAGCAGAACCGCTACGGAGGTATTCGGATTGTGTCGATGACGCCCCGAATTATTGAGGTTTACCTGGCCGAGCCCAATATTTAAATAGGCTTAACGCTAAAGTCCAATGCCTGACTACTCGTAAGAGGTAGTCAGGCATTGGACTTTGAAGAGCTAACTTTAGGTTATATAATTATTGATCCGTGAGTTAATTTGTAAAGAAGGCAACTTCTTTTTTATGGAAGAAAACTTGAATCAGCCTTCGAT',\n",
       " 'CTATTTTTGCAGTGCGCCCGATAGCGGTAAAAGCCCCTATATATACATTCTCCCCAGAGAAGAAGAAGGGTCAATAGAGACAGGACTTTCTATTCCCACTTTAGAGGAGATACGCATTTGGTTATAGAATTCGAGTAGTTGTGTAAAAGCAGAATAAGGATCTGCCACTCTAATGAGGGTAGATTGTAGCGGTTGTTCAGGTTGGAAATCATCTTTTACAATCACAACAGAAGCTGTAGTGGTATAGATA',\n",
       " 'TCGATCTTCGACAAGGCTGCCGGTATCGCGCTGACGGACACCTTCGTGAAGGTCGTTTCGTGGTACGACAACGAGTGGGGCTACTCGAACAAGGTCCTCATGCTGATCGAGAAGATGGCCGCTTACAACAACAAATAGTCGTAAGCCATCCGATAGAAAAAGAGGGAACCTTGTAGGTTCGGGTTTTGTAGGTAAAGAGAAGCGCAGGAAAGAGTAAATATCTTGTTTACAGGTGTTTAATTCTCTGTTC',\n",
       " 'AGCCTGCTTTTTTGAAATCCTAAAAAAGTTCCAGTTGCTGCGTTGGAGCTTCGGGAGCAGTTTCTTTGCGCCCTTGAAATAGTTCGATCATTCCAAATTGCTTATCGGTAATTTGCATAATACACACCTTTCCTTTTTTGGGAAGGTTTCTTTTGGTGCGTTTGGAATGTACCTCAGCATTTTCACGGCTGGCGCAAAACCGGGTGTAGATAGAAAATTGGAACATTCCAAAACCATCATCAAGAAGATC',\n",
       " 'TGAACCTTGTCGTTGGGAGAATAAATTGTTTTTTTAAAATAATTTTATATGAACGATGTTTTGGCTCCGATTCTAAAACATTAATAAAATGGTGCAAAGTTACCATACCGCATGACGCCATTGTCGCAGGCAGGCATCAGTGGTGGATGGGCTGCAAAGGAACTTTGCGATAAGGGGCTTAAAACACAAAAGGAACGCGGGCGGGACGTGCAGCATTTAAAGATTATCCAACGATGAACCTTGTCGTTGG',\n",
       " 'AAAACCGGGGGCCGCTGCGTTAGAAATAGCCGTCGAAAAACAGAACGGTAGCCAGGCTTAGCCTCCTGTTGTGCTGCCTTGCTGCGGTAAACCAAAATACCGTATTTTTACAAACCTAAGTTTCTTTACACCCCAACCCCTTCATGGCCTTAGCAACCAAAAAAGCCGACAAACCTGAAACGGTCGAGAAAGCTGACAAGAATGCCCCCTCCAACCCAGCTGCCGAGAAAGCCAAGGCACTTGCGCTGAC',\n",
       " 'TTGTTCGTCGTTGATTCCTAGAAGAGGGCAACGACATGGCGCAAGACCGACAGGCGTCCCCCACCTGAACGCCTGCTCCAACGCCTGTACGCTGCCGCGCGTGAACCGGAAAAAGCAGCGGAGCCGAAGGGCCCGCGTTTGCCCGCCTAAAACGGGTGTTTCGGCGCGTGTTTCACGGCGTTTTCGGGCCGTTTTCGGGAACGGCCCCGGGCCGTGGGGTCCCGATACCCAAAAACGGCCCGAAAATGCC',\n",
       " 'GTGGAACTGTGAGTCAATTAAACCTCTTTTCTTTATAAATTACCCAGTCTCAGGTATGTCTTTATCAGCAGCATGAAAACAGACTAATACAGTAAATTGGTAATGCAGATAGTGGTGTGCTGCTCTAAGGATATCAAAAAATGTGGAAGTGACTTTGGAACTGGGTAATAGGAAGAGGTTGAAACAATTTGGAGGGCTCAGAAGAAGACAGGAAATGTGGGAATATTTGGAATTCCCTAGTAGAGACTTT',\n",
       " 'GCAGGCAAGCACCATTGCCAAGCAAAAAAGTATTGTAGAAAACGCCAAAGAAGAAATAGAATCGTTTAGTTTGGTGCCCTCTTATGTGTTTGATGAAATAAGAGAGCAAGGGTATTATGAGCCACGCCAATACGACAAAGTATCGGTGTTGTTTGCCGACCTCGAAGATTTTACCAATGTGTCGCAGGGAATGGGGTCTGATAAATTGGTAGAAGAACTGAACGTTACTTTCAATAAGTTTGATGAAATA',\n",
       " 'TTGCATGGCAGATATATTTGTGTGGCTCGCAGTCCAAAATGCGATATTTGTGAATTAACTTACTTTTGCCAATACTTTGAAAAACAGCAAAAAGCTAAAAATATGAGCAAAACATAAAGGAGTAAAAAATATTTCTAAAAACATTTGCACTTAATGAAAACATTTTGATATTTTTGCTAAAATTATTAGTTAAAAATAATTAAATATTTGCCGAAACCTATTATTATATTTATTACCAGAATTTAAAAGA',\n",
       " 'AATGACGATGACTCATTTACTTATACCAACCTAGGCAACCTCGTCACAGCTCCTACAGGAATCGACTTGTTTCAAGAAAATGGCACTTGGTTCGCTATCGTAGCCTCTAATGATGGACCTTTCTATAGACTAACCTTTACCGATGGCATCACAACCATCCCCGATGTAGAGACATTAACTGGACTAACTACCATCTCCCGTAACGGAGGTTTGAAAATCGTCCAACAAGGAGACGATATCTTTGCTATAT',\n",
       " 'CAACGGCAAGTTGAGCCGGAAGATGCGAGTCGCTATCAAACGATTTTTGCCCGAAACGAAGGTGCTGTCGTTGCTCCCACTGCAGGATTGCACTTTAGTCGCGAGTTGATGAAACGTCTTGAAATTTTAGGCGTAAACTTTGCTTTTCTAACGTTGCATGCCGGTTTGTGCAATTACCGTGAAATTGATGTTGAGGATCTGACCAAGAACAAGATGGATTCCGAGCAAATGTTGCTTACCCCGGATACTG',\n",
       " 'TAATCAACGATAATGGAACTGGTATGTCAATGGATATAATCAAAAAACATTTCTTGAACATAGGGGTTTCTTATTACAATTCAACAGATTTCTTACTTAAAGATTTCGATTACAAACCAATCGGAAATTATGGCATAGGATTTCTTTCCTGTTTTATTGTACGTCTTCAAACTAATTTGGACTTTTACTAAGAGAGTGTTCTGTTAATTAATTCAAAGATAAATGTTTTTCTTTGTTAGTTGAATTTTTA',\n",
       " 'GACGCGAATACATGGGTACCGTGCGCACGACATTCATCACCGATGCCGACCACCGCGTGACCCATATAATCAACAAAGTCGACACCAAAAACGCCGCCGCGCAGATAATGAAGCTGCTCGCCGAAAGCCAACAGTCATAAACCCTTAAAAACGCTCAGCACTACATGGAAAAGCCCAAGAAAGCAACAATAAAGAAAAACGACCCCGCACAGGAAGCCGCAGCCGCCAAGCTCAACGCCCTGTCGCAGGC',\n",
       " 'TTAGAGATAAAAGTTGGTGATGTAGTTCGAAAAAGTATTAGCGAAATAATAGTAATGAGAAAAAACTCAAATGGAGAATATGTTGAAATTGGAAAAGAAATAATTAAAGAACCGAATAAAAGTTATTTCAATTATTTTTTTGGAATTTAATATAATTTAAATATTCTAGCATCATTGAAAAAGCAAAACTTGGAGAATGGGAACTACTTTGTAACTAAATAAAAAACCGAACGCATAACAGCCACTACAA',\n",
       " 'CATTGATAAGAAGTTGGTAGAAGAATTCGGTGTATGGGGAGAGAAGAAACTATACGGGCGTAGCTATATGGGAACCTTCCGTACTACTTTTCTCATTAATGAAGAAGGAATTATAGAACGGATTATCACTCCTAAAGAAGTGAAAACTAAAGAACATGCCGCACAGATATTAAATCAATAAAATCCATCTAACTATATAATAATAAGGTATGGCAAAAAAAGACGAACTTAATTTTGAAACAGATAATAA',\n",
       " 'AATGTTGAGGACTTCGACCCGGATCCATTCCTCGACGTGCTCAACAAGCAGGGACTGCCATGGCACGAGCTGCGCGACATCGACCTGGAGCTCTAAACACGTCGGGGAGCTCCTTTGCGCGCTCCTCGTCGAGCACAACGTCGCACTGCGGCGTTCCCCTCCCACCCCTTCGATAAACAACCACAACCAACACGCCTCTTCATTGAGGCCAAAAACAAGCAACAATGGCAAAGAAAGAAGAAACTGAAGA',\n",
       " 'GTTCTCCTTTTTCGTCGATCACCTTCCCCAACACCTTGCCCGGTTTCAGGTCTGCCGGCTTTTCATCGATAATGATATAAGTGCCGTACAGCCGGTATTGCAGATGGGTATTCCGCAGGATCTTGCGCAGGGCGTCGCCCGCCATCATGCTTGCGTTGCTGAGCGTGATGCGCTTGCTCTCCTTTTGCAGGGTTTCTTCCGAATAAGAAATACGTACGCCGCTTTTTGTTGCAGCAGCACGAGGCTTTCC',\n",
       " 'CGTTAATCGCTGACCGGCTTGATCAATTAACTTGGCTCTTTCTTCTGCGCTTAAGGTGTTATACAGTTGCATGCTATAAACAATTAAGGGTTAGAGATGCGATTTGTCGCATCTTCACAGAAATAATAAACAAACGAACTCTAAATGGAAGAATTCAGGTGCAAAGTTATATTTTTTTAGAAAATCACAAAACATATTAACAATCTTTGTTCCGATTAAAAAATTCTGTATTTTTACAAAAATTTATTAT',\n",
       " 'CAAAAAACCCCATTCCGATAGGAATAGGGTTTTTCAAAAGAAAGGCGACGACATACTCTCCCACATAACTGCAGTACCATCTGCGCAGGCGGGCTTAACTACTCTGTTCGGGATGGGAAGAGGTGAGCCCCGCCGCAATAACCACCTTAAGAGGTTACAATTGCTTTGGGCAATTATTTTGCAACTAGTGATTCATTTGGAATCAAAAATTACAATAATATCTTGACATACTGAGATAAAGAAATTTTAA',\n",
       " 'AGCTCCTACATTCCAATAGAGGTTTATGAGTTCGGTATTAACTGCCTTTATTGCATTGTTTCTGGATTGCTGTATAAGCTGTATGAGGTCGGTAAATCTCTTATCCATTGATCAAATGTTAAAGTGGATCATACCGAAAGTTTGGGGGGTAATAATTTTTAAGCATACAATTTCATCACCCGATATAAGAAAAAGGTAGTATCTCTAACTCCTCGAAATACACTTCTAAAAGCCTTAAGTTTTGCATTGA',\n",
       " 'ATGCTGTTTTAGAAAATGGTAAAATGAGATTAGAAAAAATAGAAAATTAATTTTTGAGAAATCTTTTAAAAATTTAGAATTTAAGCAAATTAAAAAACTTAAGTTTTAAATTGTTTTATTCTTAAAAGAAGAACGAAATAATTAGATTAAAATAAATCAAAATAGTAGAATTTTAACATAAGATTCTACTATTTTTTTTACCCATTTTTTTGTACTTTAGCTTCAAATTTTAAAAAAATATTTTAAAGCT',\n",
       " 'ACCTACCGTGATCTTGACCACCGACCCACAGTACGAGACCATGTACACCGAGCTGTTCGGCCCGGTGGTGACCGTCTACGTATACGAGGACAAGGATTGGAGCGAAACGTTGAAGCTTGTGGACGGCACATCGGAGTACGGGCTTACCGGGGCAGTGATCTCCGGCGACCGCTATTCCATAGACGAGGCCACCAAGGCCCTGCAGAACGCAGCGGGCAATTTCTACATCAACGATAAGCCGACCGGCGCC',\n",
       " 'AATCTCGGGCAGGAAGCCTTTTGATTCTAACTTTTGGTCTTTGTATTCGGATGGAGGGAGATTTTTTTCTTCCAGGTAGATGTGCAGGCCCGTTAAGCCTTCAACGATTTTAGAAAGTTCGAAGTAATCCAGGATACCCTCAGGTAACAGGAAACGGACTAGGGCTAAATAAGACTCTTGCAATGCATTTAATATTGATTCATCGCAAAACAACTACTTTTTTTATCACCCCCCAACTTTTCGGACTGAT',\n",
       " 'ATAAATCTCTTGACCAGCTACTAATAAAGATAAGAAATTCTATGTTTAAAAACATTGAAAAACATGTTAATGTTTATACTTTACCAACAACATCACTCACTGACAATGAAATGTTCATTTATTGTACTGCCGGCTTAAACATGTATAATTTCAGGGGGTGTATTTTACCGATAAATAGGATTAAATATTCATCGGTATAAAAAGAAAATAGTATTTTAGCACGATTCATTAATTCACAGAAAAACACAAT',\n",
       " 'AATTTCAAAAGGGATAAAGCCATGCCTTAGTATCCATATGCTTGAAAAAGAAAAGGCACCCGTACTAGCTACGGATGCCTCTGTGGGAGCTACTGGATTCGAACCAGTGACCACTCNCGACCTTGCAGGTCGGGATGCCCTGAACCAGCAGGCTACCTCCCGTTAATAAGTCTTTCGATACGTTTTCGGCTTTTCCACGACTTCAGCTCCCTTTCCCTTACGTTGGCCGATGATTTTTCCTGATAGGATT',\n",
       " 'CTGCATCATTAAAATCTCCGCCACCTGAAGGACCGTTAAAATAAATATTTGTTACTTAAAATCCAGCATCAGTAGAACCGCCTGCTATTAAAACAACTTCCTCTAGATTTTGATTGCACATAATACATTTAGAGCCATCATAACAAGGTCCGTGATATTGACATGTGCCTGAATTTTGAAAAAAAGCCGAAATACTACTGCTAAAAAACAGTGAAGCTTTGTTTTTTTTCACTTTACTTTTAAACTGTGC',\n",
       " 'TAACGTAGCTTCTCACAAAAAGTTTGCTGATAAATTCGGCTTTAATTTCAATCTGATCGCTGATACAGAGAAGGAAATTCTACAAGCTTATGGTGTGTGGGGCGAAAAAAACATGTATGGTAAAAAGTACATGGGCGTTATTCGTACAACCTATGTGATAAACGAAGAGGGTGTTGTTGAAGAGGTATTTAAAAAGGTAAAAACAAAAGATCACACAAGTCAAATAATCAAAGCTTTAGACTTATCGTAA',\n",
       " 'GCCGCACTCTCGCCTACCGTAAAAATACCAAATTCGGTAAAGATGTTCGGCTCCGCACTCCCTCTTCAGCACAAATGCGTTTTATAGTTCGCAGTATCTCTTCGGTCATGTAGCGGTAATCGTACTCTACCTGTATCGAGGTCTTTATTGGAAGCCCCACCAATATCTATCGTATCCAGTTCAGGGCAAACTTCTTCAGTTCGCAATATTTGCGCACAAAACGGCTAAGCTCCGACCAGTAATACATGTA',\n",
       " 'GCCTACAACGAAACAGGAATGCAAGGAGTGAGCTACACAACCGGCGTGCCGGCAATGGTGGGCGCAATGATGTTCTTTAAAGGATTATGGCGCAAACCCGGCGTATGGAATGTCGAAGACTTCGACCCAGATCCGTTCCTCGAGGAACTCAACCAACAAGGACTGCCATGGCACGACGAAATCGGCGGAGACCTCGAACTCTAAAACCAACCCCGGAAAAGAAACAAACAACCTAGAAACAATAACGCAC',\n",
       " 'TTGCTGTTTGACTAAGGAGATAAGAATGAGGGTATTCTTTTTAAATATGATTGTTTACACTCCTTTTTGTAACCCCAAAGGGTTGGTTTGTTCGCCTATTTCGTATGGTAAAAGACAACCTTTTTATAGTGTTTGTTAAAGGTTTTTATCATTTAGTTTTGCAAAAAAAATGAGAACCTAGTATCCGCACGTAAATATTTGGAAAAATCGGCAAGCCCCATAAATAAACTTTCATAGGGCTTGCGCGATT',\n",
       " 'CGTCGGCCTCCTTGATATCATCGGTGATGAGGCTTTTTCGCGAAATCGCCAGACAGCGATCCTCCTCTTTCACCGCGGCCGCCAACGCCTCGATAGCCTTTTTCGCCGTGGCATTCGCACTCAACGTCGTCTCGGCCGCGAAACGCTCGCTCACCACTTTCATAAACTCATAGTGTGCGCCATTGTTGATGCGCACAAAATCGACAGCTTGAATGTCTACCATAACTTGAATATTTTTTATGTGATTAAT',\n",
       " 'TTATACACTCTCCTACCCAGAAGAATTGAAACTAAACATTACCGCAAATACCATATCGTGCTATAATGGTAATAGCGGAATTCTTTCTGCCCTTGTAACAGGCGGTACTGGAAACTATTCCTACCAATGGAGTAATGGGGAGACTACTCCTACTATTAAAAATCTACCCGCCGATAAATATACTCTTCTTATTACCGATGGAAAAGGGTGCAATGTCTATGGAAAAACTGAAATAAAACAATCTTCTGAA',\n",
       " 'ACGCAAACAATTAAGTTTAGTATTAGCCGGAAAACTAAACCCTCATGACGCTACAGAGCTAAAAGCATTATTTATGTAAAATTATTTTTTTTACGTTATTTTAGTTTAGAATTATGAAAATTAACTCAAAAATAAAGTATTTTTACAAGCATTAAAAATCAACATTAAAAGGAATTAAAAAGATACAATTGATACTTTAAACTCCTGACAGCCATAAAATAATATAAATGAAAGAAAAGGTAAAAGAGAA',\n",
       " 'GTTAATATTGCATGGCAGATATGTATGTGTAGCACGCTCACCTAAATGCAGTATTTGTGAGATCGCACATTTTTGTAAATATTATCAAAGCAACAATAAAATAACTAAAATAATTAGTGATATTACAGGTCAGGTAAAATAAAACAACTTTATTTATTGATTTAAAATTAAATTACATTATATTTGCTAATATAATTAGCACTAAAGCTAAGCATATAGCTAATGTTTAGCCTAACAAGAATTATAATAC',\n",
       " 'TCATCGCAACTTCAGAGAGAAGTATGAGTTGCCCTTTCCCCTAATTGTGGACACAGACGTACAACTCAACGAACACTTCGGTGTATGGGTGGAGAAAAGCATGTACGGGCGCAAGTATATGGGCACGGAGCGCACCACTTTTTTGGCTGACGAAGAGGGTGTGGTGATGCGCATCATACGAGGCAAGGAGGTCAATACCAAAGACCACGCCAATCAGATATTGAACGGATAATAACAATACAAACACATA',\n",
       " 'GATACCAGGGGCAGCAGGTGAGCCTGGTGGTTAAAGGGATCTGCAGCGAATGTAGTAATCAATGCAATACAATTGCAGGCCACTAATTAGTAAATTTGATATAAATGACGATGGAAAATATAAACGGCGCTAATGACCGGTTGAAAGAATTAACCCCACAGGTTAGGGAAAAGGCATTAGCCCTTGCTTCTGGATATGAAAATAATGGAATGAATGCAAATGAAGCGCTGCAAAAAGGAATTGCAGAGGC',\n",
       " 'TTCGACTGCTTTTATTTACGAAATCCCAAGCTAACTGTAACTCTTTGTTATTATTCATTAGTGGCAAAATTAAGAATATAATAAAGAAAAGGAATCAAAAAAGATATTAGCTATGAAAATATCTAAAAAACAAAAGACCCTTACTGTAACAGTAAGGGTCTTCAAAAAAGGCGGCGACCTACTCTTCCACAAGTGCAGTACCATCGGCGCAAACGGGCTTAACTTCTCTGTTCGGAAAGGTAAGAGGTGA',\n",
       " 'TATTTAAGTGCCCTTTCAAGTTAGTTTGAGTTAGTCGTATAGAATTTATTTTGATACTTTGGATAGCAAAAAAACTTCTTACTTATTAGTAAGATACATGAGTTTAAAAAAGGTTGCGTCTAAAGCAAAGAATTATTTTTTAACACCATTTTTTATGAGCTGAATTTTAAAAATTTATGTTGAAAACTATTATTGTGATATGACGAAAGATATAGTAATTTAGCATTCGTAATTCAGAAAAAATTAGAGC',\n",
       " 'AAGTATAGATGCTAACTGGTTTTACACTGATCCAAATGGAGATTTTTTTCAAATTGGTACAACTGACACTTTAGTTGATGAAAATGATAGTACAAATGGTTCATTTAACCCAACGATAGTAGGTCAATATGTGTTGACTTTAGAAGTTACAGATGGTAGTCTTACTAATGCAGCAAATATTGTTTTTGATGTTACTGCTGATGTGACTGATCCTGTAATCTCATGCCCAAGTAATGTCTCTGTAAATGCT',\n",
       " 'TAATTTTACCTGAATTTAATGTTGGCGCCTTTAATTTTCCAATATATCCTTTTTCTATTGTAGGAATTATAGAAAAAACATTATCCCCGGCAGATATGGTTTGATTTTCTGTCCAAATTTGTAAAAACGATACTTTGCCGGCAACAGATGATTGAATTATGCTGCGACCTATTCGCGATGCAACTTTTTTAGAAACTTAAGATAGTTTTTTAAGTTTTCATTTCTATTTTCTAGGCTAAAATCGGAAATA',\n",
       " 'CCACAGCCAACGTTGCTTTTGGCGAAGATGGTTCTACCCTATTCATCACGGCAGATATGAATTTATTGAGAGTTAGAACGAAGACGAAGGGATGGTAGGAAGTTATAAATTATAGATTATAAATGTGTGAATGCCTGAATGACGTTGACCGTTTTATGTCATTTATACTTGATTAGTTTTCAAGTATTTTTTTGTTTAGCATATAGCTTGATTTAAATTTAATAGTTTTTTTTCAAAATCAATAGGTGAC',\n",
       " 'GGCGTATGGGCCGAAAAGAAACTGTACGGACGTTCATACATGGGGACTCTCCGCACCACCTTTATTATCAACGAAGATGGAATCATCGAAAAGATAATCGGTCCGAAAGAGGTGAAGACAAAAGACCATGCAAATCAAATCCTTAATTCATAAAAGGGATGGCAAAAGAAGATAATTTATTCGAAGAAGGAAAAACACCGGAAGGTAAACCGGCAGTAAATGCCGACAAGTTAAAAGCACTTCGTGCAGC',\n",
       " 'ATTTTTTTAAAAAAAATCAAAAAATAGAAATAACGTTAGCCACCGTCCACTTTACAGCTACTCATAAAACTTATGGTAGCACCGCCGTGACGGGAATTCAAAATCATATTTTTTTTGAGAAATTTCATAAATGTTCTCCTTGCTTTTAAAGTAGATGCAAGAAATATAAAAAGGTTGCGTATAAGATTGTAATGAAACAAAACTTATAGTACTTTAGCACCACTTGAAGATAACATAGAAAGCGATAGAT',\n",
       " 'GAAAGACCCCGTGAACCTTCACTACAACTTAACATTGATTTTGAGTAATAGGTGTGTAGGATAGTTGGGAGACTATGAAGCAGCTTCGCCAGGAGTTGTGGAGTCATCGTTGAAATACCAACCTCCTGTTACTTAGAGTCTAATCCGTGAAAACGGAGACATTGTTTGGTGGGTAGTTTGACTGGGGTGGTCGCCTCCTAAAAAGTAACGGAGGCTCGCAAAGGTACCCTCAGTACGGTTGGTAATCGTA',\n",
       " 'AAGGTGTATGGATATAGAAGAAAAACAACATAAGCCTAACAAAAAATATAGGTCATTTGGCGGAAAGTTCTAATTTTGAGCATGGTAGCAATTAATAAAATATATAGCGGTTTGATAGGTTGGTGTTTCAAAATGCCAAACGCCCCATATTCAAACCGTTGAACAAAAACCGCCTACAGCGGTAGCTTACAAATAAGGTTGTAACTTGCTTAAGTATTTATTCATTAAAATATTAAGTCATGAAAAAAAA',\n",
       " 'AAGCAAAAATGTATTTTACGGCTTCAAATAAATGGGCGATCAGAATTGGAGAATTGAAATCATCTGTTAATGCATCATAACATTTGTTTTTCCATTCTGTAAGACTGAATGCTGATTGCTTTTTGTCATCAGGCGTAATGGAATTCAGTACTTTCACAGCTTCCATCAACCTAATAAATCCTTTTTCACTGGCAATCATGGCATCATTGGAGATATCCAAAACACTTCTGTAATGTGCCTGCAGGAAGCA',\n",
       " 'TATCTGTTTTCATCAAATACATCATAGGTAGGTAAAAGTGTTTTATGTACTTCGGCTTTTACTTCTTTCTCATACAGAAGAAATGCCGCATTGAATAAATCTTTTCCTTCGCGTTGTGGATTGCGGGCGGGCGCGCCAACAAGAATGCCAATGCTATCTGCATGTTGTTTTATTTTATCTATAGCAGCGTAACTTTTTTCAATAAAATCTTCGAATGCCAAAAAATCCCTTGGTGGATAACCACAAACAC',\n",
       " 'CTCTTCCTACTTCAAAATAGGATGGATAATTTCCATAATAGATATAGCCCATTTGATCGGTTTCTCCATATCTTACTCTTACTTTGGTTGTTACTTTAATCATGGTTAAAAATCATATACATTACTTACTAATAAATTTCTAAATAAACAACAGGTATTCCACTTTTTTTTTATAAAAATAATTAACAACTTTGCCCTACAGATTCAACTGTATTTATTATCAATTTAATTTTCTAGCCAAATTTATAAA',\n",
       " 'GACGTTATGTTTGTGTGGCCAGAAACCCCAAATGCGATGTTTGCGAAATTACCTACATGTGCAGGTACTTCGAACGCCTAACCGCCCAAAACGAAAGAGATAAATTAAAAGCTTAAAAAATTATTTTCAATTTACTATTGAAATTAGCTAAAAAACATTTACCTTAGCTAAATATTTTAGTATTATAAATATCAACAATTAAGTATATTAGCCGATAATCAATTATATTTACGCAATCAATGAAAAAAGA',\n",
       " 'AGTTTGGCTAATTCGTTGTTATACATTTTTATAATAGTCAAAATATAACAACGTCAGCCCCCATCGATTTTACAACTACACACGGTGGTAAATGAGAATGATACCCCGTGTACATTAGTTATAGATGTTTTAATTAGAAATTTCAAATTCTATCTTTACCATTTAGATACACAATAAACGAATGGTTGCGTGAATAACAACAATATTAAAAAGAAATACTATTTTTACAAAAACGAATTCAAATAAAAAA',\n",
       " 'GCTTTCCAGAGGCAAGTGTTTTCTTAAGGATAATTGGCCTTTTCTTCATGTAACTTTTCACCCTCCCATAATTAGACACTTCATAACCATAATAATATGGTATCTCTTGCCAAATTTCTCCTGGTAAATCCTCCTTCGTCTTACTTTCCATACTCCTTAAATTAAAAACCCCGCTACCTAAACAATTCAGGTTGCAATGGCTGTAGTTTTTCAATCCTTGTTTTTCCAAGTTCAAAATATTCCTGATCAA',\n",
       " 'AACATCGTGACGCTCTTCTTCGCCGGCTACTTCTTCTTTTATGTCTTTAAAATGAAGCGATTTTACGCGGCCTGATATTTTCTGCAAACATTTTACCGGGTCCAGTCCCATGCGGGCCCAGTGGCCGACGTCGGTACATGCGCCAATGCGGTTGCTTAACCCGTCAACGGCTTCCATAAACATGTCCGGGTTCCAGTAGTTCGACGGCTTCGGGTGGTTGTGAATGGCCACGTCAATTTTGTATTTGTTG',\n",
       " 'TGTGCAAATGCTCCCGCAAGTCCAATCAGAAAAAAAAATGTGACAACTACTGACTTTTTAATATGTTTTTTCATTAAATTATGTTTTCAACTGTAAGCTTTTCAATTCTTATACCAATATTAGCAACATATTGAAGAAACCTGATTTTGGGTGCCAGAAAGTAATACGTAATCCTTTTTGGAAGAGTTGGGTCTCCAATTATCTATCATTAATTTCAAATTATCAAATCAAAGAATTGTTAACATATAAA',\n",
       " 'ATCCGGTTCTACTGGTAAACCAAAAGGAGTTCCTATTACTCACAAAAACTTGGTTAATCTCCTTAGTACAGTTGCTATTGAACCAGGTATAAAAGAAACAGACAGACTCCTGTCTATTACAACTATTTCTTTCGATATAGCTGGTTTAGAATTATATTTACCACTTATTAAAGGTGCCACATTAATTCTAGCTGACCACGATACAGCAAGAGATGGTAGGCTATTACTTGAGATGCTAGAAAAAGAAAAA',\n",
       " 'GTATACAGCTCTTTGTTCTTCACTGCCAACAGATTTACTTTTTCCAGCAAATTGATGATTTGACTTTTTCTTTCACGTGGATTACTTACCCCTTTCAGAATCGCCAGGTGTTCAAGCAAATTATAAGCAGACACTTTTGGATATACACCAAAATCCTGAGGCAGAAATCCAAGATTTTTTTTGACAAATGCAGGCTCTCTGACTATATCAACGCCATTAAAAAGAATGGTGCCGCTTGTAGGCTTCTGAA',\n",
       " 'CGGGGAAGGTACATCCTTTTCTGGTGCCTGCAAGAGCATCAGGACTGCAATAATTATGGATTGTAGGTACAGGTTCATGTATTTTTTAATGGGCTATGATCAAAGTCTATACCATTTTGAATATCAACAGCCAGCGTTTAAATATCCAAAAGTAGTATAACGAAATACAAAAACAATGGTTATCCACAGTTGGTAATGAAGCGGCTAATGTTTACTTTCACATTATCAATTGAAAGATTTGAATACATAC',\n",
       " 'GCCGCTTCGGTAACGAAGCAAAAGCCTGAAAAGGCAAGCCAAATGCGATTTTTGGCAAATAAAATTGAAAGCATTTGATCAGCAATTGATCGATTGAAATAAGTTCTCTGAGACAGAGAGCGACGAAAGTTCTTTAAAGGAAAGATAATCATGTAGCGTAGCGGGCTATGTTAAGTGCAGAGAAAGCGAAAGCAGACGAGGCACAAAGAGTAACATAGTACTGTCAATTAAACTACTCTAAGAAGAGTAG',\n",
       " 'AAATCAGTTGACATTGAGCTTGGAAAATGGGGGGAGTGTAAATGTTGACCTAAGCAGTTTGAGTGATACTTTGACAGATACAAATACCACAATAACAAATTTTGAAATTGACGGTACCAACACCAATCTTGTAATCACGGATTCTGATACAAATACTTTTTCAGTTGCATTGGCAGATATTGCAGCATTGGTGAACACGGATGCGCAGGATCTGAGCATCAGCGGCAACGACCTTAGTTTGAGCGGTGAC',\n",
       " 'AGAAATACCTAGGGCAGCAGCGGCATAAACCCTATTGACGACGGCCACCCGCATTGCTATTTTAACTAGCAATCTCATAAAAATAAAACTAAATAAAGTAGTAAATCAGGGGACAAATTCAGTACTTTGGGTGTTTCTTCTATACACCTCCGGCATGAGTCTGGAAAGCAGCTGAAACGCCGCGGCAAGCGTTTGCAGATTGGCTCAGGAAGTTGTAATTTCATCTAAATTTAAGCAAAGAAAACACAGA',\n",
       " 'GGCAGGTATATTTGCCTTGCCAGATCGCCAAAATGTAGCATCTGCGAAATCACCAATATTTGTAAATATTTTCAACAAAACAACAAAAAAACTAAAATAATTAGTGACAAAGAGGTTTGAACAAATAATAAAAATTTTATCTCTTGTTTTATATTAAACAATCGCTATCTTTGCTAAGATAATTAGCATGTAAGTAAAGTTATTTGTTCTTCCAACGGTAATATTTTATCTTACTCCCAGAATTTAACAA',\n",
       " 'AAAAACTTATAAAAACAAAAAAGGCCCTTACGATTTGTGATATCATGGACGTAGATAATTGCGATACCGCAACCGTAACGGTAACTGTGACCGAAGGAATGGGTGGTAACGTAATAGATGCCGTAGATGATACCTATACTGCAACATTTGGTGAAGATGAGGCGATTGACGGTAGCGATGTGCTTTTAAATGATACCTTGAACAGTTTACCTGTTACTCTGGCCGATGTACTTCTGACTTCCACGCCAAC',\n",
       " 'GAAGTCTGTAGCATCTATAACGCTAGGGTATGGGTTACCAACTAATGAAGCTGTTTCACCCGTTAAAGGGAAGCTTATAGTACCATCATTAGGAGTACCAACAAAAGTATAGTTTTGTCCAACAACACCTGTAGATTTCATGGTGTAACCTCTTGCTCTACCAATAGGCTCTGTTTCTAATACTCTTACGTAATTTGAAGAACGATCATCTGCAGCTGCAGGATCGTTTTGGTTTGTATAAATCCAATAA',\n",
       " 'GTTAATATTTTTTAGCAGAACAGACTCAATCTTTAATATAGCTCAGTTCTAATTTTATCTAAAAGCCTATAAAAAAGTCGTTACGTAGTCGTAATAGATATATATTCAAGATTATCTTGTAGTGTACTATATAGTGATTTTTCCCTTTTCATATAGTAGATGTAAAAAGTTCAAAATGGTTGCCTCATAAAATTGAAAAAAGTAAAATAAGTGGTATTTTTGATGTTAATTAAACTTAGAAATTAGAAGT',\n",
       " 'CGGCAATGCCTATTTGAGCCATAGACAAGATGAGTACCTTTTTAATATGCTGTTTTTTTATAAACATCCCAAAACCTACACCCAGCTCGCTGCGCTTGTTTCTATCTTTCATACGTACAATTCTATAAAACGCGGCTTGCAATGCAAAGTTTACCACCGCCATTACAACGGTAATTATTAGGTATAAAAAAACATTGTGATAATTGCCACGATGCCTACTTCCTCATCACTATAACTATTGATATCATTA',\n",
       " 'CTCACCGATGCGGGCGGGGAGGGGATCGCCGGCTACCTGTCATCCAACCGCAAGGGCGGCAAAGGCAGTGACGACGTCTATTCGTTTACCTACGAAAGGCCGAAGATCGTGATCCTGCTGAGGGGGACGACGTCGGATAAGCATACGGGCGAACGGCTGGCCGGGGCATCGGTGACGCTGTACGATGGCAACCGGGAGATCGTGGCCAGGAAGAGCAGCGACGGAGAAGGTGCTTTTGAATTCGTGCTGG',\n",
       " 'CCCCGCAAAACACGGAAAGTTCCTTGATAGATTGGTAAGAAAAAAAGAGAAATGAGACGAAAAAAAAGTTTCAAAAAAACTTTAAAAAATTCTTGCTAATTAAAAAAGAAGTTGTAGTTTTGCACCCGCTTTGAGAAACAAGCGAAACAAAATTGAAACACGTTCGTAGACATATTGAATTGACAGCCGCTTTAACAGAGATGTTAGAGCAAAAGAATAAAGAGTAAGATAATCGAGAGATTAAGAAATG',\n",
       " 'TTTTGGCTTAAACTATATGAAGTTTATGGAGAACAAGGATTACATGGAATCTCCAAAAACAAATTCACTATAGAAGAAAAAATTCATATTATTCAGGAACATCAAAATAGTGATTTATCTTTGACAGATACCTGTGTTAGATATAGAATCTCAAATCCTTCTGTCTTATTCCAATGGATAAGAAAATTTAAAAGCAAAGGATTTAAAGGCTTAGAAGACAATCGGGGTGTACATTTAAAGAAAAATAAAA',\n",
       " 'CTGTCAGGTCATAATAAAGTTTACCTGTACATAAAACAACCTTTCTTACTTTCTTTGGATCTACCTCCTTATCATCAAGTACTTCCCTGAATCGTCCTGAAGTAAATTCTTCTTTAGGAGATACAGCTTTAGGACTTCTCAACAATGATTTAGGAGACATCACTATTAAAGGCTTTCTAAATTGCCATGCAAGTTGTCTTCTTAAAGCATGGAAAAAGTTACTGGCCTCAGTAATGTTAACTACCTGCAT',\n",
       " 'GCATGCAGGGTGTAAGCTATACCACTGGTGTTCCAGCTATGGCAGGAGCAATGATGTTCTTGAAAGGCATTTGGAAGAAACCAGGCGTATGGAATGTTGAAGACTTCGATCCAGATCCATTCTTGCAAGTACTCAACGAGCAAGGGCTACCTTGGCATGAGGTTTTCGATGGTGACTTGGAACTCTAACCTCCAGCAGTACTATACTCAAAGGAAAGAACACAGCAAAAATTATTTAGCACTACAAAAAA',\n",
       " 'AGTTTTGGCTGGAAAAATGAACCCACATGATGCAACCGAGTTAAAAGCCTTGTTCCTTTAGCAATCCCAATTAGGTTGTTATTTTTAATTTAAAATATTCCTGAAAGAGAAATTTTTGATTAAAAAAAGAAGTATTTTTACGAAAACAAATGTTCTTACACAATTGAAATTTTCAGGACAATGAGTCATCCTGTCAGTTTCTTACAGTTATAAAATAATACAAATAGATGAAAGAAAAGGTAAAAGAGAA',\n",
       " 'GACATCCTTTTTCTGCGTTGGATTGTTAAAAAGCGATGGCGAAAAAGATATAGTGGAAAGCGGGATTAAGCTTCAAAAAAACAATCTTTGAAAAAATCGGATTTATATTTTCAAAAATTCTATCTTGATTTTTGCTTTTTAAATGCAATAAAGTTTATCATTTTTTAACGTTAAAATCAAATCTCAAAGACAAAAAATATTAGCATTTGAAATTTTAAATATGTATTTTTGATAAATTATTTTAATACAA',\n",
       " 'CGGTCGGTGCTTGCTGAGTCAAGCCCAAAGTTGGTAAAAGAAAGAAGAGAAGGAGTAATCTAAACTGAATCATGATTTTTTTTGACAATACCTGACAAAAAGAAGTTATTTTTATAGGTAATACGAAAAAACGTGCCGAATAGTGACGAAAAGTACGAATTTGGTATCCGAATTCAAAAGTAAGCCAGTTTTGGCAAATGGATTCTCTTCTTGTAAATTCATTGTTTTCATTCTTTTAAAATCCTAAATA',\n",
       " 'CAGAGATGCCATAGCCGAGCCGTACTAATTGCCCGAGAACTTTCCCGCCCCGAAGGCGCGTACCCTATTCGTTTTCCCTCCCCCCCAGTATCTCAAAGCACCCCCCGACATCATTAGCGCTCCGAAACGAGACAAGATAATGGTGGCTATGTCGCGGGTGTCCACCTCTTCCCATTCCGAACAGAGAAGTTAAGCCCCGCCGAGCCGATGGTACTGCGGTCACACGCGGGAGAGTAGGTAGCCGCCAACC',\n",
       " 'CAATCGGAACAGTATTTTTAATAAGATACCAAACCAACCTAAAAGTTGCGTTAAGGAAACAACTATTTTAACAAACACTTATCCCTTAGACGTATACCAAGCTTTAGCCTTACAGCATTTATCAATTATTTTAAAAAACACTGTATTGCATATCCTCTAAAAACATACGCCCCATTTTCAGAAAATGAACTTAAGAACTGGCATTATGATAAAAGAAATGCTAATTTAGCATCCCTTAAAAAAAAGAAAA',\n",
       " 'CAGTTCAGCCTTTTACAAACGTTTATTTGTAAACAAAACTATAAATTGCAATCGATTGAACTGTCCTGTACTATCCTGCTAACTATCTCTTTATAATTTAATTATGAAAATATAGTATAAATATTTATTTATTAAATATATGTAATAATGGTTTTATACAACAATAGATATTTTTCCTTTTTTGAATAATTGCTAAAATTTTATATAAAATATCTTCTAATTTTGATTTTTTTTAAGACTTTATTTCTTT',\n",
       " 'CAGGAGAAAAGTATCGTACAAAGCTAATATACATCTCAAAACATTGTTCCATATGGCAGCTCTTTCAGCTGTGAAAATGAAAGGAGAGTTCAGAGATTATTTTGAAAGAAAAGTTGCTGAAGGCAAAAACAAAATGACCGTCATTAATGCGGTAAGAGCGAAACTCATCAACAGGATTTTTGCCCTGATCCGAGACAAAAGAAAACATGAAATAAATTACAATATAACCCTTGCCTAATCCATAAGAATA',\n",
       " 'ATTTCTTGAGAAAACAGGCTAGAGCTCCACAGAAATGCGATTGCAAAAAAATAAGTGAAAAGTCTTCTCATAGATTTTAGTGACAATACCTGACGAAAATTGAGTTTTTTAGTAGGTATTACGAAAAAAAGAGCTGTTTGGTGAATAAAATTACGAATTTGGCCATCGAAAACAATGGCTATTTCTTCTTTGGTAAAAGCATGTTGTTTAGTTAATTTCACCTACTATTGATTCTTCTAAAACGAAAATA',\n",
       " 'GCGTTTTTCAGGCACGGAAAACGGTTCTATGTGCCATAGAACACACCTTGCTATTTTCTGACGAAAATCGAAATCCGTCACGGACGGATTGGGGTTAGCGTGGAACGGTAAGCCCAGCCATTCACAGCCCTGTTTTACACCTGCGCCCCCTGCGGTTCGTTACTCTCGCTGCAAAGTAACGGTGATTTATAATGCTGTAAAATAGGTGGTTGGTGGACAAAACGGGACAGCGCAGGACAAATCGGGACAA',\n",
       " 'TAACCACCTGAGCTACAAGCCCGCTTTTATTCTTGTATAATCTTTTTGAAAGCTGCTCTCTTTCGAGCAGGTTTCCTTTAAGCGTGTGATAAAAACAAAGAAGATGAATAATCACTCACGTGATCACCCGAAAATAATAGCTTCTCCAGAAAGGAGGTGTTCCAGCCACACCTTCCGGTACGGCTACCTTGTTACGACTTAGCCCCAATTACCTGTTCTACCCTAACTGGCGGTTTAACGGCCAGCTTCA',\n",
       " 'CCGGAGCACCACCACAAGATGTTGTGTTCTGAACAATTCCAGTTATATCTTGCTCCCCATTATCATCAGATTCACAAGCTAATAAGAGAACAATTAAAAGTATTAATAAGCTATAGGTTTTAGTAAGAAGTTTCATATTTTTATTGATCCTATTAATAGGATGCTGTTTTTTTTAAAAGGTTGCGTAATAATATTGTATTGTGCAAAAAGATGTAGTATTTTAGCAAGCAAACTTCACAAAAAATAGATA',\n",
       " 'GGTGATGGACGACGAAGGAGGGATCTCAATAAATAATTTTGCTCCGTTGAGATACATCAGTCTGCTGCGCTCCCTTCAGGGTGACATTTTTGTTCATTTGTTTGCGTATTTGTCAAACTGAGCCCGTCGAATCGAAGTTCGTTACAAATTGCATGTTCTCCATCTACAAACATAAGATGATAAGTCTCTCTAGGTGTCTTTCTGAAAAAAATGAAATGCATTGAAGAATCCCTTAATCTCTAAAAAAGAA',\n",
       " 'CTGAATGATTACCACAGCATTACACAAAATTCTAATTTTCATTAATTTACAAATGCTTTCAACAGAAAATAAACGCTCTTAACCAGCAAGTAATAAATAGAAACGGGGCTCTCGTAAACCCGGTTGAGGCTTTCTGAATAATAACGCATTTTTTATAATAATTTTAACTATAATATAGGTACCTAAAAGTAAATATTACTAGTTTTTGACGCTAAATTTTCGTAAATTTGATACAGTATTTAAGATAACA',\n",
       " 'ATCTCTCCTGAAATCAAAATGTAGTTCAATAGTGTATGAAGTCTTATGAAAATATTCCCAATATATAATATGGTAATATTTCAAGGCAACACTTGAAAGTTATCCACACTTTTCTCATAAGAGATAGGACTAAAATAAGATGCAAGCTTTACACCCCTTTTATAAAAAAATAAAATAGTTTTTTTGCTAGTCTTAAGCCACTTCATTTCACTAAGTTTGTATCCTTTTCTTCAAGAAAAGTGGCTATTTA',\n",
       " 'TTGAAGTGAAAATCCTTTTGAAGCTTTTTACGCTTCAAAAGATTGCAACGAAAAGCCCGACCGAAAACAGGAGCGATAGCGACGGTTAGAGGGAACGCCCAAATGATTGTGATAAAAGTTTTCTCGCTTTCGCGCCTTGCCTGCCGGCAGGCAGGAAAGCGTAATTCCGAACCATCCTATCGTTAATAACCATTGCATCACGCTATTGGAAACGGCGCTTTCAAAGCCTATTTTTACAGAAAATATTTAC',\n",
       " 'GGTACTTTAATTTTAGTGTCTCACGATCGTGATTTCTTGGATGGTTTGGTAACTAAAGTTTTTGAATTTGGGAACAAACGTGTTCGTGAACATTTTGAGGATATTAAAGGGTTTCTATCTTTCAAGAAAATGGAGAATTTGAAAGAAATTGAGAAATAAATAATAAATAAAAAAGGGCAGTATAACACAAACTGTGTAAGTTAAAAAGTTATTCTGAAAAATTAGCTCGCTTAAAAGAGCTAAAATTTTT',\n",
       " 'CGAAAGATTAGAAATTCCCCAAGTGAAAAACAGAATGTGGTTTCCAAAAAGTAGAATTTTTTACAATAAAAATATTCGAAGTTTAATACCTCGCAAAAAGCAAATTGCTAGAGGAAATAAAGAGCAGGAGCAGGTTTTGGTAGATTATTTAAAATTTAAAAATAATGTAAAAAACCATTAACCTAGAAAAAAAAATAAAATAGTATTTCTATACAAAATTGCTTAATTTTGTAAAAAATAAAGCTAAAAA',\n",
       " 'TTATAACTTTCTTCAGGCATTGCTTCAGCAATTTCTAATAAGTAATTTTTAGAATTTTCCCACTTCAGTAAAAAAGCCGAAATAACATCGTTTTGCGCATTCATATTTAAATAAGTTAAAAGGGTAATTAGTAAAAATAGGGTGTATTTTTTCATATTAAAAACAGTTAATAGTTTTATAAACAAAGGCTAAATATAGTCAATACTTTTTTATATTTTAGCATCGAATAAATTAATAGATTTTAAAAGAT',\n",
       " 'GAACCATTCAGGTAACCATTACCGGTGGTACCGCAGTACGTGGCACAGATTATACAACGATACCTGCAGCAGGCCCTTTAAGCATTACGGTTCCAGCCGGAAATTATGACGGTACGGCTGCAACGGCCATCAGTCTGGCTTCTGTTCTGCAGGTCAATCAGGATTTTATATCGGAGGGGGATGAAACCATTATCCTGAAGCTTGAGGATCCCGGAACAGGAGACATTAGGCTTGCCGATTCAAACAGCTG',\n",
       " 'TTTTCTATATACAGGTATAAAAGTAGCTTTAGCACCTTTGCGAGATTAAATAGAGATGCATTGAAAGAGGTGGTGTATTACAAGTTAATACCAAAAAAGTTGTAAAGTCGACAAAACAGCACCTCTTATAAAAGCAAAAATTGCAAAAAGTACAACGCTTAAAGAAAAACCTTTCAAAAGTTTAAAAACATAGAAAGTTAAGTTTAGTGTTATCAGAGAGTTAAGAAAAAGAGATAAAAAAGATTAAAAA',\n",
       " 'TATAGAGAAACCGGCATGCAGGGAGTCAGTTATACGACTGGAGTGCCTGCAATGATTGGCTCAATGATGTTCCTAAAGGGTATTTGGAAACGCCCGGGAGTGTGGAATGTAGAGGACTTCAACCCCGATCCATTTATGGATGAGCTCAACAAACAAGGGCTTCCATGGCATGAAGTGTTTGATGGTGACTTAGAACTCTAATCTATATACGGGACAGCTTGTCTCATTTAATGATATAAATCCTAACAAA',\n",
       " 'GCTTAAAATTGCGCCTAAAACGCCGATAAATAACTGAGATGGGCAGCTTGGTAATTGATAATTTCAATTTTCGGCAAAGTCAGCAAATCAGGCTGCAATTGCTCCTGAAATTATATTTTTAAAAGAAAAACAGGTTGTAATTCTGAGCAAAATTCGATATTTTTACAACATAGTAAAGACCCGATTTCAGCGGTTTTTGATAAGCAAAAGCCGCTTTTTTATGTACAAACTAAATTTTTTGTAACCATTT',\n",
       " 'AACTTGTAAAAGCTGAAATCATAGCCCGAGGACCAGCCGATAATCTTTGGTTTATTAATCCTCTGATAGTATTCAATGGTGACCGAGTGACATTTGCTAAAACATACGTTCGGAAAAAGACTTTAGCTGCCCAAAAGAAAGAAGAAGCAGAGAAACGACAATTATCACTTGGCTTTGATGAACAGTAACACTCCATTGAGTGAAGCTGCCGTTTGGTCGCTCCCCCTTTGGGGGCGGGGGGGGATAGATA',\n",
       " 'GCAAAACTTAAGAAGGCCAAAGAAGCTAAAAAGAAAAAGGCCCTTAATATTATAGATAAGGAGTTGAAGAAGCGGAGTGTGGATAAAGGTTGATTAGGTGAGTAGTTGATTAAGTGAATAGTTGGTTATCTTCGCCAATACTAACCTAATCAACTACTCATTTAATGAACCATTCACTATAAAAATAAAATACTAAAAAAATTAGTATTTTTAAAAAAAATGTAATTATATTTGTTGAAGAAATTAATAC',\n",
       " 'CTCATATTATCCCTATTTTTTGAAGTAAAACTACCGCTAAATGCTTCACTCACTTTTTGCTGTAAGTCAATTCTATGTGCATTTCCAAAAGTGCCTTTGGAATCAACGATTGTTAAATTTATTGTTACAGAGGCATTAATAGTTATTGAACCGTCTTTATTTTTAACACGATTCAATCTCACATGAATATCATCAGGTCTCATCCCATCCGGATCAGTAAACCTAATCGGATTATCAAAGGCATAATTGT',\n",
       " 'TCTTATTATTGTATTCAAGTTTACCATTAAAAATAAGAAGCTATTTTTCTCCTTTCAACCGTTGGGATCTTTCAGGCTGACAAAATATGGTAATACAGACGAGTCCAATGATATCAGAAATATAACTTGATAAAATAAAGACAATGTAAAGAGAAAATAAGCATCAGGGATTCTACAGGCTCAGCATTCAATAGAAACGGGCTTTAGCCAAAACATAGATACTAGATAATATTCAATACTTATTGCTTAT',\n",
       " 'AATTGAAACGAAAAAAGGGAATAAAATTTAGCCAAGATTTAGGCAAGAATTAGGTTTTTAGTCGGCAAAGATAAGGCTGAAAATCGAGTAATAATTAGGAATACTTGCTAGAAACAACCCCCGCATAACAGCCACTACAACGGATTTGGGCATTAGGCTTAATGGAAAGATGGTTTTGTATTTGGGATGATTTGGCAAATCCGAAAATAGGGCTTAATTTAGTCCCAAACCCGCTGTAGTGCCAAGACGT',\n",
       " 'GTCTTTTGTCAATGTGGCTTCCGCTAACAATTGTTTTTGAATTGTATAATCTACAAAAGCCTCACAGCCATTGTCATCCTTAATACCTAATGTATATTTACCAGGAGCATTAAACACTGCACTAGATCCTGCAATAGCCAAGCCGTTTACAGTATATGATTTAACACCGCCGTAAACAGTGGTATAACCATTTAAGTTAACCGTCAATGGGGATCCAACAAAACATTGTGCCGGAGGAACCGTAATCGTC',\n",
       " 'AAAGGCGATTTTTCTATTCGAATAAAAAAATTTAACATTTACCTATAAAATTTGCTTATTCATCGAACAATCAACACATTTTAATAAAATAAGAAGATGGTGTTAAAGGAATACTTCAATACAAAGCAAAACTTTTCAAATAATCAACCCCTATTCAACTTTTTTTTTCACTTTTTTATGAGAATATTTGCTCTCTGAAAAATTCAAGGGCTTAACAGTTGAGCTATGAATCTATTACGCTGATTATTTT',\n",
       " 'CAATACCGAGGGTTGCTATTTGTATAGTAGGCACTCCTCCCCTTCCAACTTATATTTAGGGGAAGCCTTGGCCGCATTGGAAGGTACGGAAACGGCTAACGTTACGGCCAGCGGTATGGGCGCTATTACGGCGGTCATCCTTCAACTATGTGATTCTGGCGACCACATAATAAGTAGTAGAACCATTTACGGGGGTACCTATGCGTTTATGAAGAACTTTTTAAAGAAGTTCAATATCCATATTACCTTT',\n",
       " 'CAACATTGTTCACAATTGAATTGGACAACTGGAAACAAATCGTTATAATAGATTTGTGCTTGGTATTTCAACAAGAGTTTGGAATACAAATTCTTTGATTTGGGGATCAAGAATTGTGATCCTGTCAGGGATCGAACCTGAAACCTACTGCTTAGAAGGCAGTTGCTCTATCCAATTGAGCTACAGGACCATGCCATTGTTTTGTCGGGGTGGCAGGATTCGAACCTACGACCTCCTCGTCCCAAACGAG',\n",
       " 'GGGGCTTTTGTTTTATGTATTTCCTATCCTTATGACGTAGACTCCTACCAGGTGAGTAAAATAAGTTTTCTTTTCTGTTTCTTTATCCTGATAGACTTCGCTTCTTAAAATACATGCAATCTTATAAATTGCTGATTTATTTAAATTTTCAATCTGCGAAATGTATTTATTGTAAAAGCTTATTTCAAAAACTTCTGATTTTCTCCGGTGTAGAGCTAAAACTTCAATAGTTCTTTTCTTCATTCCATTG',\n",
       " 'CAATACAAACAATCCTATGGCTAAACTGAGTATTCTCATGATTTTACTGATTTAAAGACAAAGATACAATTCCGAAACTACACCTGTCCAGGCGCTCTGGCTCCTTATGTGAAAAAAATATTAAAAGGTCAAGGGTGATTTAGCGGTAAAAAATTTAGTGAAAACTTGCTAAAAATATTAGTGTTGATATTTATTTCTCATCTATCTTTGCTGTACAAATAAATTTGAACAGTACTAAAAACAACAGCTA',\n",
       " 'ACATAAATAACAGATTGGGTTTACTCCAGTCTAAATTACCAAATTTTCGTAACCAGACCAAAACCGTGCTTCTCCCCTGAATTCCATAAACAGATTGAGCCTGCCTGTAAGTCATTTCGCCTTTTTCAACTCGGGAAATTACAGCTAATTTAAAAGCCATGTTATAATCCTTTTGGCTACGTTTAATTGCCTTACTTTCGTTGTCTTTCATAATAAAGTCGATTTGGTGTCAACTTATTTCAGGATGGGA',\n",
       " 'CGGGTCAGCCGCAACCAGCTCAACCTCAGGCGCAACAGCCTCAGCAATCTGCCGCTGCTGATTCAACTTTGTAGTTTAAAATCGTCATCAAAAGTCCGCCAATTTCCCTGAAAATAAGGCAATTGGCGGACTTTTTCAGTTTTACTTTTTCTACCTAAATCCGCAGCTAAAAAGCCCCAATTATTTTCAAAAACCGTTTGGCAATCCGGCGATTTTTGGGTAATTTTATCTGTTTAAACAACCATCCTAA',\n",
       " 'GTCTCAAAAGTGAGGCAGCTTTTTTTGTGGCATAAAAAAAAGGAAAGTTTTCGCTTTCCTAATTCTTGCAATTTAATTAAATTGCGGTGTGTGTATAGCTTCAAAAGTAGTCTTTAAAGATTACATTCCCAACCAAAATGTGCTTTTTCCTCCGAATTTATCGGAGCTTATTGACAGTAAGCACCCTGTAAGAATAGTTTCTAATATCGTTGATGGTCTGGAACTAAAAAGCCTAATCCATAAATACAAG',\n",
       " 'AAAAATCCTGATGCAAAAGTATGGTTTTCATCAAGAATTACGAATTATGTATACTTAATTGTATTATAAAGAAAAACAAGCAGCATTAAATCCCTTGTATTATAGTATTTTTCTTTCTTTTTGTAATGAAATGAACCACTTAGAATAAGAACCAATAAAAATAAAGGCATCTTGAAACGACCAACGGTTTGATTGCCGACTTAAAAATAAATAGTATTTTAGCAGCATTCATTAAATCATAAAATATACA',\n",
       " 'AAAGTAAAAAATAGATACTTATTTCCGAAATCAAAAATCATATTCAATAAAATATATGAAAAAACTATAAGCCGAGAAGCAAGGATAAAGAGAGGAAACAAAGATCAGTTAAAAGTTTTGGAGGATTATCTGAACACGACAAAACAATCAAATTTCCATTAAAATATAATCAACAAATTTACAAGCTCAGGAAAAAATAATATTGGATTTTGATTTTAAAATTCCGTATTTTTGAGAATAATTTTGAAAC',\n",
       " 'AAACCTGACAACGTATCATAGTATCAAGACTTGATTTTTCTTTGCAATAATCTACAAATCAACTGTAAATCGCAATAAAAAAGGGCAAACCCGCTACAGGCATGCCCTATAATTTAACAATTCACGACTCACACAATAAAACGAGCATGACAAAGATTGCCGTAATAGATTATCAGAGTTTTAGATATAAGTAATTTAGTCAGTAGTCAGTAGCCAGTAGTGTGAATTATAAACACAACATACGTCTTTG',\n",
       " 'TTAGATACAGTGATTTCTCTACCAGAAGTGTTATTTTTTCACTTCGCTATCATTTCCATTCAGGTAAAAAAGTAAAATCTAAACCAATACATATAGATAACTCTGAAGAAGAAAACCGTACTAATAAATAAGAATAGGTTATCCATGATGAAAAAAGCATCTAAGGGGAATGTGCCTCACATAAAATATACGCATTCTTTTTGCAGGATAAATGAAATAATCCTTACATTTACACATTAAATTTTATATT',\n",
       " 'TGTTCCTCTAATGCCAGAATTATGTACTGTGAATGGACAAAGCAACCTATTACCTTTTTGTAGTGTGAATATTAGATGTTTTATGAATTTTTCCGTGAGTTTATCAAACCTCACGGAAAAATTTAAGTTAAAGAAACAAAATGATATTAAGAAGTAACCAATGAAACTAAAGAAAATTAAATTGTAATGAACTTGAATTATAACAACAACAAATCCATATATTTAGGGGGTTTTTCGATTCTTTTTATTT',\n",
       " 'ACTGGAAGTATTCATCCTGCCCCGAACGGCATTGCTTGCCCGCATACAACAACATTGGAATCCCCTATCCATTGACAAGTGGAACACTGTCTGGAACGTAGGAATAAAGATACTGCTCTACTAACCGACAAATCATATCACCATGCTTATTATCATATTGTTAGCCGATACAAATGTATCCGGCCTGATCTCCTTATACCGTGAAATAGGCGCCATGCTGATAGGGGTAGGCTTTCTATGTGCCGGACTA',\n",
       " 'CCCTGAGCTTACCATAAAAATTTTTTTCAAGGACGATGATTACGCACATTCAATGCGTAATGGCTTCGGATCTTTGTTATGTCGTTAGGGCGAAGCGAAAAAAGTGAGAGCGAATACGATATAAATACTAGTTTTTTTAGCATTAAAAATAAAATGCTAAAAAATTTAGGAAAATCAAAAATTAGGTTATAATTTAGCATTCCAGTTGGAGATATGCTTTTCGATTAAATTTGTAAAAAACAACTACAGA',\n",
       " 'ATAACTTGGTAAGTACAAACAACATCCGTCAAGGAAATATTAAAAAAACCTGGACCGAGTTGGGAGGGCTTTTGATCGGGGGTTTTGCTGGTGGTAAGAGGATTTTAAATAATCTTTTATGATCTCACCAAATTTAAGAATCTACGATGAAGAGTTTGATCCTGGCTCAGGATGAACGCTAGCGGCAGGCCTAACACATGCAAGTCGAACGGTAACATAGAGAAGCTTGCTTTTCTGATGACGAGTGGCG',\n",
       " 'TCCGTTATGATTAGCTTCTCCTTCTGGCGCTGTACCTGTTGGTGCGTCTTGATCGCTACCATTATGGATTAGCTCCTCACCTTCTAAGGCGTTACCACAGTTGTCTACAACTTCGTATGTGTAAGTTAATGTCCACTCGCAATCTGTTCCTGTTACTGTTGTATCTGTTAGATTTACGGTAACATCGTTACAGTCATCTGTGTAGTTTAACGCGACAGCATCAGCATCGAATGGTAATTCACTCTCGGCA',\n",
       " 'AATTATTTTTAGTTAAGGGTTAATTGGATTAGTCTAACATTTTGTCGATTACGATGTAGATCGTAAGTCCGATTACGATTCCTGGAGTGATTCCACCTTCTACAGCTTGTAATTGGTTGTCGTTCAATTCTGCAACAGCTACTTTATTGAAAGCTAACTTGTTGTTTACGTTTTGTTTTTTCATAATTATTTTTAGTTAATGGGTTAATTGGATTAGTCTAACATTTTGTCGATTACGATGTAGATCGTA',\n",
       " 'TAACAAAAAAGTATTAATGGTGGTTCAATGTTTTAATTGTAAAGGTCGTTTACAACCGATTCATTGTAAAGGAGATGATTCTGACAATGGTTAGGAAATCAATAAATAATATAAAAAACACATTATAAATTAAATAGCTAGTATTTGTTGTTAATAACGATTTCACAATCCATATCTTAACTATAAAAAGAAATAGTACTTTAGCAAAAAGTTTAATCCCAATGTCAAATCCAGATATATTTGATCAACA',\n",
       " 'CGATGGTATACATCTCCTTGAACCACTCCAAGGCTTGTTCGGCAAGGGAGAAGCGGATCTGGTTTACAAAAAAGGAAAGTTTTTCCTTTGTCAAACCATTGAAGTTTGCCAGGAAGAAACTAAAGACGTGGATGATTTTATAGGTTGCGATTTTGGAATCACGGATATCGTTGTAACCTCTGATGGTGTTAAGCATTCTGCTGATGGGCTTAACACCTACCGCAAGCATCGGCAAAAGGTTCGGAGTTCT',\n",
       " 'TTGCGATTAGTCAACCAGAAGATACAAACATTAACGAATTTACAATGGGACCAACTTCACAACCTTGGTAAGAATGGTATTAAAAGATAGTTCCTTTTTTGTTGACATATGAAATAGTTTTTAATCAACTTTTTTTAGAACAAGACAAGTTTACAAAAAAACCTCGCCATATCCTGAGGGTACTGAAAAACCTCGTTTATTTTGATTAGCGTTCTTTTTTAGACAATAAAAAAACGCTTGTAACAGGATT',\n",
       " 'CGCCCATTCTTTATCAGTGATATCAAATATACGCTCGTAAAACTCCTTGATATGTCCCATCTATAACTCTAATTATCAATAACAAAGGTACAGAACATTTACAGATCACAAGCTACTCAGTTGCTATAAATTATATCATAGCAAAGGCAACTCGTCATACTGCTATAATTCATAGCATAATACAGTCCCGCTCTTGGACTCTAAATAAATTATATTACTTTTACATCAGTAAGAATCTAATTTTTAAAAA',\n",
       " 'GGTAAAAACTTTTCCCGGCGTAAAAGAATGATGGAGGGGCTAAGAAATAAAGGTGTGTTTGTGGTGCTGAATACTGGTTATGACCGAAAAACAGCCTTATCGCTACTTTTAAAACTAGGCTGGGAAACAGGGAAAGACATCGATGGATTGGTAACTGCTGATGACGTGACAAATGGCAGACCACAACCGGACATGATTTACAAAGCCATGGAAATATGTGGCATTACAGCGCCTCAGGAGGTACTGAAAG',\n",
       " 'ATCTACGCTTTTTTTATGGGCCTGATAGCCAAAAACATAAAAACAAACCCACTGTATTGGATGAAAAATGAGCAATGATAATCCAAAAAAGATATAAAACAATACAGATAAGGGGTAAGAAATGATTTTTTCCATTAAAAATTTAAATAAACACAAAAGTAAGGTTTATTTTTTTATAAAATCAATAACAAAAAAGTGAACCAATAATTTGTTATTTTTACAAAAAATTAAAAGCACAAAATTAAAGAGA',\n",
       " 'AGTGCGACCAATAACGGTAACAAACCGCCGGCTATAAAAGAACCCGCTGAGGCTAAGGCCGCGGTCAGCGGTTTCGCCTGTGTAATATCGTTAATTCCCAGTTCATCTCTTGCATGAGAGGCCAGCGCATCATGCGTGGTCAGTTGCAGGGCCACCTGCATGGCCAGCCGTTCATCCAGACCGCGTTTTTGGTAGAGGTCCGCCAGCTCTTGCAGTTCTTCCGCCGGCATGGTCGCCAGCTCTTCTTTTT',\n",
       " 'TGTCATTTCACATGTCAGTGTGTTTGATATTCAGTCCAATTTCCCGGGAACAGGATGGTCCGGAACAGCAGTGGACAACAGATATATTGATAATTCCAACAACACGGCCTCTCCACCATCATTCAGTATCAAAACAACTTCTAACTTATTTAAAGTAAACAGATTCTGGATGTATCTTTCAGATTTACCCTACAGCTCAATGTAGTGGGAAGTTTGACTATCACAGGAAAGCTGAGTGGTGTAACTAAGT',\n",
       " 'TAGTAAGGAGCTTAAGAAACGAAGTGTGGATAAAGATATTTGATTGGTATTGGGAGGTTGATTAAGTTTATCTGTTATTATTAAGACTTGTCATCCTGAGGAACGAAGGATCTATTCATCAACTTGCATGTTGCATAATAGATGCTTCACTGCGTTCAGCATGACAACTTTGTTAGGGTAGTAAATAAAATTACTAAAAAAATTAGTATTTTAAAATAAAACATTTTATATTTGTTGAAGAAAATTTTAA',\n",
       " 'GAAGCCGAGTAGTACTAATTGCCCGTAAGCTTTAATTTTTTATACTTTCTTCAGCGCTGCAAAGCGTGTGTTTTTACAACTTCCCAATATGTAAATTTATTGTCGTCAAGACTAGAGATATTAAAGATCTTATGGTGGTTTTGCCGAGGGTGTTCACCTCTTCCCATTCCGAACAGAGAAGTTAAGCCCCTCATGGCCGATGGTACTGCACTATCATGCGGGAGAGTAGGTAGCTGCCATATTTATTAGA',\n",
       " 'CCTACCTGTGCAAAAGTATCCGCGTTGGTATCGTTAAACACCGCTGTTTTTACTAAGGCAATCGCAGGGTTTTGTGGTAAGGTTGTTACCGTTGGCGTATCATTCGTTGTGCGAACGACCCTGCCTTTGCCGAGAACACCAGCCGAACGTTTTTTAACGCCGGAGCGGGATTGTTCTACTACACCAACAAATACTACTTAGCCGCTTCGGTACCGAACATGTTAAAGTCGACGTATTTGGATTATAACGG',\n",
       " 'TAGTCCTGTTATTGCCTAAATCAAGCCCTTATCAGTAATTGGGAGTTTTCGCTATATTGGTGTTTGGTCGCAACAATCTTCAAAAACACGCATAAATGTCTTTGTCATTGGCACTTAAATACTGTCACATTTTCGGCGTAGAATGGTTTAGGAGTGAAGTGACATTAAATTGTTGAAAATCAATATTGAAAGAAGTGCATTTAAAAAAGCAAATTTTATTGGTCTTTTTTTTATTAAATTTTAGTTGCAC',\n",
       " 'AAAATGTGGTAATCTTAATAAGATCCAAAGGTTTTCCGGGATTTCTGTTGCTGTTTTCGATGTTATTTACGGTTTAATTCAGTTTAACATGTTATTCTAACATTATAAGATCAGGGGAAACCAAAAAATCATACCTCATTACCCAGGGATTTATTAAGATTTCAGTTCGAATATAAATGCCCCGAATTTAAAATTGTGATGCACCAAAACTTATAGTAATTTAGCAACTTTCATTTAATATTATAAAAAT',\n",
       " 'TTACGAGCGTACCCATACCGAAGCCTTTTTACTAAAAGCCGAAGCGCAGCAATTAAAAAAAGCCGAGGATGTTAAAAAGAAGCGAAAGCTCGATTTGATTAGCAAAGAGCTCAAAAAGCGCAGTGTGGATAAAGATATTTGATTAGCCACAGGCGGTTAGGTATGTTTACTCAAAATAAAATTTAATTTTTTTTACCAAAAAAATTAGTAATTCTAAAAATATTAGTAAATTTACACCATACAATTGAAC',\n",
       " 'CGTTGGAGAAGAGCGGCCCGCAGGCCCCGGAGCTCACGCGGCGGCGGAAGTAGGTGGTGCCGGTGGGCACCCCTGGGGTGAAGCTCTCGGTGGTGGCGCCGGACACCGGCACCCAGCCCACGTTATCGGCCGAAGCTTCCCACTGGTAGGCGAAGGTGCCGGTGCCGCCTGTGGCCGCAGCCGTGCTGGTGAGCGGGGTAGGAGTAGCCCCCACGCACACGTCCTGGGTAGCCCCAATGCTGCCCGCCGT',\n",
       " 'CCATCTTTATCCACCTCAGTTTTCAATTCCAAATGATGCCATCCGGAATATTATGGGGTATTAATCTTCCTTTCGAAAGGCTATCCCCCTGATAAAGGCAGGTTGCACACGTGTTCCGCACCCGTACGCCGCTCTCTCTGTTCCGAAGAACAAATACCGCTCGGCTTGCATGTGTTACGCCTCCCGCTCGCGTTCATCCTGAGCCAGGATCAAACTCTCCATTGTATGTTTTTCCTGACCCGCTCAAAGT',\n",
       " 'GTCTATAGCCAAAGGAGTTTCAATCGGTTACAATCCTTGAAAACCTTTAAAAATGATCAATTTTTAAAGGGGCGGGAGAGAATTGCCTAATGGAAAAGATTTCTCCCTGCTTATGCCAAATTAAATAAAAAAAATCAGGATTCAATCAACTGAATTACCAGTCAATTTCAGCTATATTTTACCCGTATATTCCAAACACTCGTTAAGCACTACTTAAGCACAGATATAGCACTATTTACGCAATCGTTGC',\n",
       " 'TATAGAATTAGGAGAGATAGAAAATGCATTATCGAATTTAGTGTCAGTAAGTCAATGTTGTGTATTAGCTAAAGAAACAAGTACAGGTAATAAAATACTAGTGGGTTATGTAGTTTCAGAAGATGCTTTTGATAAAGAAGCAATTCAAGAGGCATTACAAGAAGATTTACCAGGTTATATGATTCCATCAATTTGGATAGCATTAGATACAATGCCATTAACGGCCAATGGTAAATTAGACAGAAGAGCT',\n",
       " 'CGGTGCATCATTTCCTATTGTAATTAATGCAAAAAGTAAGGGATTATGCGGAAGCATTTCAGTTCTTCATTAATTAAATTATTAATTCCATATAAAATAATTACCGAAATGAGTAAAATCATCTCTGTTCAATAAAGCCGGGGAAGCATCCCAAAAAAATTATCAAAAAAATACTAAATAAATTAGTGTTGATAATTAAAATTACTTTACTTTTACTGCCTGCTTAATTTTGAAACTATAAACAAATTAA',\n",
       " 'AGCTTTATATCAATAAAAAGTAATGTGTTATTGGAATTTTTCCGATAATTTAGCAATGTATCGTTGTTTCCATAAAAAAGAAATGGTACTTTAGCGCTTTGATTTATCTATTCAATTTTTGAAGCATTTTTATTCAAAAACACTTGTAAATCACCCTGTGCGGAGAAACATTAAGATAATCAAGAGGTGTCATTTATTTTTAGACATCTACAGAAATAAGACCTTAACAGGTAATAAAGAAACTAAAAAC',\n",
       " 'GTTCGATCCGGATCCATTCTTGAAAGTTCTCGGCGAGCAGGGACTGCCCTGGCACGAGATTCACGACGGTGACTTGGAACTATAAGCTTTCCACCCTGGCATCATGCGGATGAGCATCGATACTCATCCTCTCCATAAACCCTAAAACGACAACAACAGAAATGGCAAAGACAGAAGAAGAATTGGCTGCAGAAAAGGCAGCACAAGATAAGAAAGAGCGTGAAGGCAAACTGAAATCGCTCCAGGATGC',\n",
       " 'AGGGGATGCCGTTGGCAAAGGCCAGGCCCAGTTCCGTGCGCAAAAAGGCGAGCCGGGCCCGGCCATAGTCACAAATTTCCGGCAAATCATCGCAGCCGGCCAACGTGCCGCACAGCAGCAAGGCCAGAATATCAACCAGTTGGTGCAGGCATCGGCCCTGCACGCGCGGGTCCGTTAAATGGGCAAAGGAAGCGAAAGGGTCCATTCCCGAAACTAGCCTACGACCAGCTTACTTTTGGTGCGGAAGCCC',\n",
       " 'ATATTCAAAATCTGAATCTGGTTTAATCTCAACAGCAAATTTCTTCTCGGGTTTTTGGTCAATTTTTTCAATATCATTTTCAGCCTGATTGTCACTCAAACTTTCTGATTTTGTTTTAAAAAAATTGAATATTTTCATTTTTGGTCAAATGTTGCACAACTCAGGGTTAAACGTAGTTCTGCTTTGAGAATGAAAAGATAATAAATTCTTGAGCAATAATTAGAGAAAAGCTCTTCCTTATAATCTCTAA',\n",
       " 'TTGCCCAGCCGTTTTATCGGGATAGAATGCTTTTCCAGGTAGGCAATGATGAGTGCTGCGGTCTGATCTTCTTCCTTACTGAAACTGGGTGTTTCTATCAATTGTTTTAACAGCGCTACTGCTTCCTGGTAAAGTTGTTCCTGCATAAAATGAAATTATAGCCATATGGCAGATTAATAAATCAATGTTCCTTCGTTATTGTTTGTTGTATTTTTAATAAGATCCTTTGCATCGCCGATCAGCACTTCCT',\n",
       " 'GCAGTCGCCCATCACTGGCTTATTCTACACGGTAGGTATATTTGCCTGGCTCGCTCTCCCAAATGCGACCAATGTCCCATTACCTATTTTTGCAAGTATTTCGAAAAAACGCGAAAAGCAGAACTGATAACAAAACACCCAACTAATTAAATACATCGATTCCCATTTTTTTTAAACAAACTAACAATTTTAGTAAAAAATTTGGCGATAAGAATTAAAGGTTATATATTTGACACATCAATACTAAAAA',\n",
       " 'CAGGACAATATTAATTTTAGATTGGTTTAGATTGGCCCATGAGACATGAAAGTTTTAAGGGCTTTTTTGTGTGGTCTCCGGGGGCTCTATATGCTTTAGCTAGATTTTGCATGTTCACATTTTTCGTGGCTGCTTTGCCGCCATCCACAAAAGGGTGCTTTTTTGTGAAGAAAGTTAGTGGAATGTGTATATGAAGTGGGGGCTGGCTGGCTGTTTTTTGCCTTTGCTTTACTGAAATAGACTGGGAACA',\n",
       " 'CTTTTAGGATCCTGATTAATAAGTTCTTTTCGTTTAGCTCCGTCTATAATAAAGGCATCATTAAATCCTGTTTTGATTCCGTAATTTATCCTTATGTCCCAATCTTTCAACGGTGTGCCAATCTTCTCAATTTTGTTCTTTATCTGCTGTTCGATTGGAGAGAGAATTACCCAACTTTCAGAATTTGAAAATGACGACAATGAAGAATTCTGTCTAAAATAATCGCTCAAATTAATTAACAGCTTTTCTT',\n",
       " 'CAAGTACATTCCCTTTGGTGTGCAGTCACCGTCTTCGGCTCAAATGGCTGCACCACCACAAGAAAAACAAGAACTGGAGGAACAAGAACCGGTGCCTATTATTTATGTGGATAATAGGGTTGAGTTGACGCAGGAGCTCGACAAAATTTATAAGCACGTGCAAGAGAACGTGCAGTATCCCCCCGAAGCCAAAAGGCGCCATATTCAAGGAACTGTTTTGGTCAGATTTGTACTCAAAAAAGATGGAACC',\n",
       " 'TGGGAAGAGAATTTGACGGAATCCATCGAACTACCTTTCTAATTGATGAAAAAGGAATCATCGAAGAAGTCATTGAAAAGGTAAAAACAAAAGAACACGCAAAACAAATTCTGGAAATTTAATTTGTGGATAATTTTATTTACAACGACACGTTTTGTCACTTTTTCCAATTAATTTTGAAACAAATAAAAGAACATAATTATAAGGGTTGAAACCTCAAACTTTGAGCCTTAAACTTAAAACATTAGAA',\n",
       " 'GAAAAACTTCAACCTATCCGTCTTCCAATCTGCTATCGCAGATTCGGAATCCACCTTTCCTTTTTCTAGGAAAGGAGCTATTTAGATTTCAGATCCTAGTTAAAATTATAACAGAATAAGGCTCTCGCCTTGAAGCCTGCATCCGACGAGCTTTTGCGAGAGGAATGCATAAGAATAGACAGGTCTCGTCGTTTGCGGCGATGCTATCATGAATGGTTGAATTTAAACAAAGGTTTGTGTTAAGCTTGTA',\n",
       " 'TAAAAAATATTATCAGAATTTTCCAAATTTATGAGGTGACTCTTAGCGCGTAGCGTTAACATTGAGGCACCTTGCGCAAAGGAAAAAGAAGCACTACGTGCTTGTCCTTAATCCTTTGCACCTAATTTGCTTGGTAACCATAGCGTTTTGGACCCACCTGACCCCATGCCGAACTCAGTAGTGAAACGAAACAGCGCCGATGATAGTGTAGCATTTGCTATGTGAAAGTAGGACATTGCCAGGCTCCAAA',\n",
       " 'TAGATGCAACAAATATGAAAAGGTTGCGTCCAAGGCCACGATTAATTAAGGCTAATCGTAAAAAAACGAATAAAACTGAAGTCGAGCGTTCTACAAATGCCTTTAAATTAAAGCATTGACAAAGATTTTAAACTGTTCAATATTAATATTTCAATTTAAATAATCTCCTAATTTCTTCACATAAAATCCGTACCATAGGTGGTATTATGCAAAAAGAATTGGTATTTTAGCGTCCCTAATATGATATGAA',\n",
       " 'TAAAAAATATTTTTGCAAAGGTACATTAATTAGGTAAAACACAAATTTTATAGCGAAAAAGGACTTCATTTATTCAATAATAACATAAAATACACTCGTATAATCTTACAATTATCTTTTTACAACCAATATTTTTACTTATTTTATTAGGTAGATTCTGAACCTGACAAAAGGTTGCAGAATAAAGTTATTAGATGAGCAAAAGAAATAGTATTTTAGCAGCTCTTATTTCAGTATAAAAACACAATTA',\n",
       " 'TCCGCCTTATAGCTGATACCGACAAGGTATTGGTTGAAGCGTTTGGAGTCTGGGCTGAAAAAACTCTTGCCGGTAAAAAATATATGGGTACATTACGCACAACTTTTATGATTGATGAAAGTGGTGTAATATCACAGATATTCACACCTAAAGATATTAAGGCTAAAGAGCATGCCGAGCAGATATTGGAATGGCTGCAAAGTCTGAAAAAATAAAATAAGATACTGATATATCGAAATAATTAAAACCA',\n",
       " 'ACAGGAAAAAGTGGAATGGAAATCTGACGGTTGTCGAAATACGGACTGCAACGGAGAGAAAATCTGATGGTCAGAAATCTTCCGAGAGGAGGTTCTATGTCTCCAGTTTTCACGGAAGTGCCAGGCGGCTGAGTACAATAGCCAGAATGCATTGGGCAATAGAAAGCATGCACTGGGACCTTGACCGCAACCTGAGGCAGGACTTCATCAGGCGGAATAGTGCAAGGTCCGCCAGAAACCTTGACACGAT',\n",
       " 'AAAGAACGGAGAAATGGACTGGAAAACGATTCGTTTTGTCTTTGAAGAATTTCAGGGTAAACAATATCTGCTAGCTGTTGTTAATGACCAATGGACGATTTAATCTAATGCTAAAAGAATTAGAATTAAAGGCTGAAATTTATTGGCCTTTTATCCTTGTCAAGGTTCAAAACCTTGACATTCTATGTTAATTGCCAACTTTTAAAAGTTAAAATATTTATATTTTATTAATAATTGTGTTGATATTGTA',\n",
       " 'CGAGGGGCAGGTTGCCGCCCATTCACCCCTTGAGTCCTTATCCCCGTGAGCCCTTGCCGCCCCCACCCGAGCAAAGCGAGGGGTGAATGCAACAGAATTGACCCCTTTACCCCTTGACTCCCTGCCCCGCCCCCACCCGAGCGAAGCGAGGGGCGATTTGCCGCTCATTCACCCCTTCAGTCCTTCACCCATTGACCCATTGACCCCCTTGCCGCCCATTCACCCCTTCAGTCCTTCACCCCGTGAGCCC',\n",
       " 'GGGAATCCGGCATCCCAAAGGAAAGGAAGATGAAAAATAGCGCTATTTTAGCCTTTAGCTGCATGTTTTACGGGTTGATTCGGAGGCCTAACTTCAAATCCCATACCATCTTTGAAGTTTCCACGGATCCGCAAGCGGCCAAAGATAGTAGAACGTAATGGGAAAACAATGGTTATGCTTTGTTGGTATTGAGCGGGTGAATGCGTACTTTCACATGATTATTTAGATAAACTTTTACTCTTTAACGAAC',\n",
       " 'AAAAAAGTTCTAGGCCCATCTGATAAAAAGATTAGGGCAAACTATCTCATTGAACGATACATTATATCTATCACACGTGCATGCAAACTCGTAAAACTAAGCAGATCCATGTGGTATTATCAAAGCAAAAAAGATGATACTGAGGTTATCGCCAAACTGAGCATGCTAGCGGAAGAATATCCCACGCGTGGTTTTGATGAATACTATTACAAAATCCGACGTGAAGGGATCCAATGGAATAGAAAACGCG',\n",
       " 'GGTATACCAATATTTTCCAGTGAGAGGGTTTACTGTTTTTTGATGGGTGTACTCATGGTATGTTTTATCCCAGGTAGCCAATCCTAGTAACCAATAGCTCAATTCCTCCTTGGTTTTGATTAGATGGAGTTTGGATACAATTCTTCTCAATTCTTGGCCAGCAAGGCTCTTAGGTTTACTGGAGAGCCATATTCGACACATTCGTTGGACATGGATTACGCATCGCTGCAGGGTAATGTTGGGACAGACA',\n",
       " 'TGTGTTGCCGAAATTAAAGCTTTAACGATTTTACCCGACATTAGATCCATTAACTTCTAAATAGATTTTTCTACGCCTCATCGGCGGCGGGCCTAGTCCTTTATCCTTGATGATAAAGGGATCAAAACCGAGCCCTTCAGCGAGCTCATTAATGCCTATAAATAAAAAACAACAAAATATTAATACAATCAAGGCTTGGATCTAATGTCGGGTAAAATCGTCAAAGCTTTTATTTCGGCAACACAAGTTC',\n",
       " 'GGTTTCGGGGTGGGCATCCTTTCCCAGTTGATCGCCTACCTGATAGTAGGCTAGAAAAGCTGATCACTAAAGCCAGATTTTTTTCACTGCGCATATCCAATGCGTAAGGGCGCTCCATCTTTGTGTCATGATTATGAATAATGATTGCTACAGGATTTAGTATTTTGAGAAAAATGCTAAATTTTTTGGGAAAATCAAAAATTAGATCATAACTTAGCACACCATTAAATTTGTAAAAAACACTTACTAA',\n",
       " 'AGGTATTTGCAACTGTACATAGCAGGAACATACTGCACTTTTTGATATAACAGTCCGAGTACCAAATGCTGGAACATACTTTTAAGAAGTAAGATATGCCCGGATCGGTAAACTAAATTTTCCTGCTGATGTAAATCGTCAGCAAAAAGTAGACATTTTATAAAAGAAACTAAAGGAGTGTTTTCATAAAAAAATGTAACTTTAATTATGGCAACACCAAAAAAGAAATCAGCAGAGAATTTTGTAAAGG',\n",
       " 'AGGCAGGCTCGGCCAAATCGAAGTGCTGGAGGGGAGGGTTGCACCAGCCACCGTTGTCATTGGCCTGAGCAAAGTTGGGAGGGCAGAAGTTGGTGGCGGTGACGATGATGCTTCCGGGAAGGCACCATCTAGGGTCATTGTCACATCGCATTTCGTAGCAAGACCCGCAGCTCAAGCCATCGTTGAACAGAGCTGTGCTTAGTGCTGCAGTGTTGGTTCCATACCCTTGGCTGTACAAGTTTCCATATCC',\n",
       " 'ACAAATTCATATAACTAGTTTAGTAAAAGGAAATTATATTATAGAAGTAGTTACCAATCAAGGAAAAGCGACAAAAACGTTTATAGTAGAATAAAACAACTTTCACTTTTTTAAAAAGGTTGTCTAATATTATTTAGACAACCTTTTTTGTTTTATTTCAGATTTTAGAAAAATTAATATTTTATTAAATCTGAATGGTATTATCATTTATTAAATTTCTTCTTTGTACATTTAATGCATATTAAGAAAA',\n",
       " 'TTATTAGAATAACAATATAATTTTGTTAAAGCAATACTCTTCGAAATATCGAAACTTGTTAATTTATTAGAATAACAATGTAATTCTTTCAAAGCAGCATTTTGAGAAACATTTAAGCTTGTTAATTGATTTGAATAACAATTTAAATTTGTTAAAGCAGTACTCTTAGAAACATCTAAAGCCTTTAATTGATTCTCATAACAATGTAAATATATTAGAGCAGTATTATTTGAAACATCTAAAGTTGTTA',\n",
       " 'TGTGTATATTTATGAGGTCGCTAAATCTTTGGGATTTAGCTTTGGTCAAAAAAAGAAAAAGCGAAACCCAAAGGTTTAGCTTAGCGCAAGACAGGAAATCCGTCGGATTTCCGCCCCGCACTAAGCATAGCCGAACCGTTACCTGCAAGCTGAAAAATCATTTTTTTATGAAGAAATCTCATCACATTTTAATATTGATTCTTTTAGCTACCGAAATTACGTATGCCTGCTCCTGTCCATTTAGAAAACT',\n",
       " 'GGCCCCCTTTGCCCCGGATGTTGTTTGCGAAGTGCTATGCAAGCCTCATACCACATGTCGGTGGGCGAGGGCTTAGGGGGGATGGGCGGTGCGGGTCGATCGCTTTGCGCTGCAACGCTGCGGTGGAAAAGCACGGAGCGCGCCGTGCCGGCGTCGTCCACTCGTCAATGGCCGGGCAGCTCCGCGCCCCACGCCGCCGTAACATTGCCGCCCAGCCGCCATTCAGAAAACGGGCGGCGCGGTGCAATCA',\n",
       " 'TGTATAATTTCTTCCTTTAAGTAGAGTAAAACCTTTATTAAATTTGTTTCAATACTGGAACCATTTTCAACATATTATTCTTCTTAATTTACGCTTTGTGCTAGATGTAATTATCATAATTAAGTATTCTTCTACGACCTTTTTAGGTTGTTAATAATCATTTTAGAATCCATATCTCAACTACAAAAAGAAATAGTACTTTAGCAGAAAGTTAATTACCAATGTCAAATCCCGATATATTTGAACAACA',\n",
       " 'GAAATCTTAATGAAAAGCTGAAAGGATCATCTATAGTGCTGTCTTTTTTAATTTTTTGTTCAAAGCCTGTGTTGTCTAATTGAGCCATCACTGGATTAGCAAAAAAGGCTAAAATAATGATGGAAATACTAATTATTTTGAATTGCATAAAATTTAGTTATAAAGCAAGGCTAAAGCATTTGGCAATTGTTTCTTTTCCTGCTAAATTCGATGCAGCAATTTACAAATAAGCCCTATACAAATTATTAAA',\n",
       " 'CCTCCTCAACCTTAAATAAATGTTTAAATTTTACAACCTGCTATTGAGGGAGTTAGTGTGTTGTGTGAATTAAAAGTAAACTTTATGTTAAATAAAGTTGGTAGTGAGGGTTAAAGTTTCTATCTTTGCCCCACTGAAAACGAGAGATAGTAGGTAGCGCAGAGACAGTAATTGATATAAGGAATGAACTAAAAAATAATCGGAATTTAATTTTGATAATTTAAAAAAGTTTGTATCTTTGCAGTCCCTT',\n",
       " 'TGTTTGCCCTTTCAGGCTTTTTCAATCTTGGTTAACAATTGCTGTTAACCGCTTTCCCTTTTGATTCTCAGCCGTTTGGCTTCGTTCCGTTTGGGAGTGCAAAGGTAGATATCTTTTTTACATTTCCAAAAAATATTTTTTTTTATTTTTTGGCGGGTCGTTTATCTAAAAACCTATTCCCCGATACCGCTCTGCCGCTTTTCAATCTGTTTCCCTTTCGTTGCGATTGGGAGTGCAAAGGTAGAAATGT',\n",
       " 'GCGAATTCCTCGTGGAAAAAGGCTTCCTGGATTTCGTGATCAACCGGAAGGACCTGAAGCGTAAGCTGAGCGATGTGATGGACTGGTTTGGCAAATAAAAACCAATTATCCCACACCGGGTAAAGAATGAAACAAGCGGGCATTGTGGAATCAACAGGGGCCGGGATATCGCCTGCCCATTATTAAGATATCCGCACGTTCCCGGAAATAAAGCTGTAAACAATTTCACATCATATTTAAATCAACAAAA',\n",
       " 'CTGTTTCAGTATATGATTTAACCGAAAAAGATTGTCTTGTTAAATGGAGGGAAAATGAAGTTTTACTTGAATTCCAAAATGAAGAGATAAGAAAGTATGTCTCAGAGTTGCTAAAAAAACCGATCCATACTATGGAAGAGTTAGAACATAATGATATTTTTCATTTTTTTTATGAAAATGAACTTTTATTTTTAATACCCAAGATTTTACGAGAATAAAAAATTGTATTTTTACACAAAATAAATTGATG',\n",
       " 'CTGATATCCAAACAAATTAAAACAGATCCACTGAATAGGATGAAAAAACACCAATGCCAAAAGAAAAGTTAGCAGGGCGATTAAGGATATTGGATAAGAAATAATTTTTTGCATGATATAAAAAATATGGGCAAAAATAAGAAATATATTTTGGTTTGCCCGATTTTAAAAAATTAGAAATTCTTTATCAATTCGTCACTTGCAACTTTAAAAAAAATAAGTATTTTTACTAAAAATTATATTCTACATA',\n",
       " 'CACAGATCTATATAGTAGATGAAGACCTGCAATTGTTACCGGTTGGGGTAGCAGGAGAATTGTGCATAGGGGGCGCCCAGGTGGCCAGAGGTTACCTGAACAGACCCGAACTAACAGCTGAAAAATTTATAAAAGACCCATTTACTAATGAGAAAGGTGCGCGTTTGTATCGCACCGGCGACCTGGCCCGTTGGTTACCAGATGGCAACCTCGAGTTTTTAGGCAGAAGGGACGAACAGGTAAAGATCAG',\n",
       " 'ATTGCCGCCGGCACCAATATCAATGAGAAGGACCCGTTCGGCGGATCGAGTCCCCTCATCAGCGCGGCCGTGTTTGGCAAGACGGAAGAAGCCAAAATCCTCATCGATGCGGGCGCCGACATCAACTTCCAAAACAACGATGGGTCTACGCCCCTTCACACCGCCGCATTTTTCTGCAGACCGGAGATCGTCCGCATGCTGCTGGACAAAGGCGCGGACAAGACGATCAAAAATAAATACGGTGCCACCC',\n",
       " 'CATCGTCAGATTTTCGCCAACCTTTATTTCCTTTTTGATGAATATATTCGGTATCATATACCCTAAAACTAATAAGTTCACCTTTATCAATAATAACAATACTGTTTAAATTTTTAATAGAAACTTTAGAACTCATCTTAAGATTTAATTTGTGTAAAAATACTATAAAAATGAAATTAAAATATTAGGATTTTAAAAGTAGTTTTTTGTAACTTGTCTCACTTTAAAAAATAAAAAACTCAGCACGATT',\n",
       " 'TTTAAAGTTGTTTTCACAGTGAGTAAATCGTCATAAAATGCAGGCTTTTTATAATCAATACTTAAATGCACAACAGGCAAATGTACATTGTTGGCTTCCATCCATTTATATGAAAAACCAAGCTCTCTTAGCCACTCCGTTCTACCTTGCTCTAGGTATTGGGCGTAGTTACCGTAGTAAACAATACCCATCTGGTCCGTTTCTCCATATCGTACTCTAATTTGTGTAAGTGTATTCTTCAAAATTTATC',\n",
       " 'GCGTACTTACAAGTGGTATTTAAATGGAAAAGAATTATCGGATGATGATCGAAAAGCGATATTAGATACAAATGTAACATCAAGTCTTACGGTATTTAAATTTGAAGAGGCAGGAACCTATAACATAAAGCTTATGGTGTCTTCAAAAGAATGTAAAGGGAAGTCACTTAGCGTAGAAGCAGAAGTTGATGCAGACTTAAACGTTAAAATAATGGACCAAAAAGAAGCTGTTGAAGAAGGAGCTCCAACA',\n",
       " 'CACACGCGTAAGTGCCTGATTTTCAGGGTTTGGTGCGTTTGCAAGTGCGCAAAATTGGTACTGCTTTTGTGAAACATCGTAACTATCACGTTTTTAAGCAGTTACAAATCGTGTACACACATTGAGGAAAATTGGGCATTTGCAAGTTTCAAAAATTTGTTTTACCTTTGCACTCGGAAACAACAATAAACTCTACAAGCCTAAGTCTTGTATATTGTTCGATTAAAATTTAAAAAATATAACATTCGCC',\n",
       " 'TCGCGGAAGATTTCAACCAAAAGATCCAAGCTTCCAATGTACAGTCTCATAGCCGTAGTGCGGTTGTCAAATCCTTGAAAAAACAAAAAGGGGAGAAGCTCAACTGTACGGTAGCTACTGACATTATCGAAGAGTCTGCCGACTTTATGGTTGCTAAAGTAACACTAAGATTTGAAGACTTTACCAAGACTGATCTGGTAACTTTGGTACGTGAAGGTAATGATTGGAAAGTGTCCAAATCAATCAACTC',\n",
       " 'ATTATCAATGCTTACGGAGTTTGGGGTTTGAAGAAGTTTATGGGGCGAGAGTACGACGGTATTCATCGCGAAACTTTCGTAATTGATGAAGAGGGAAAAATCGATTTGGTGATCACGAAAGTGAAGTCAAAAGCTGCCGCTCAACAAATTCTTGAAGCATACGCCTAAACTGTCGATAACTTACCCGTTTTAAAACGGATAGCCCCCTTTGGAAGGCCTATATTTGTGCTTCCAAGAAAACAAAGTTGTC',\n",
       " 'ATGGATGATTTCCGGCACAAAGATAAGCATTCGGGATCGGGAGAAAATAAGCGGGCCCCAATTTGGGGTCCGCCTACGTTGTTGAGGTCTTTTTCAAAGCTAAATTTCTTCCCACCCTGTATTTGCGAGCTTGGCACAGCTCTATAAATATTGAGTTAGTACCCGTTAGATACGATGTTATTAAAAAGGTTGCGTGCCTTTTGCCGTATGTAGAAAGAAATGGTATTTTAGCCTTCCTAATCATTTGAAC',\n",
       " 'ACTTTATCTTTCTACATGGGCCCAATTGCTGGAAGATCAGTTACTTTCCGAAATTACGCTGCCTGACTTTACCACCAAAAAAGAAAAAGCTCAGGCCAAAAGCCCAAGCCTGATACTTTCCTGAAAATGTCTGGTCCTGAAATAGCGATACACAAACTGTACAGCTATGCAAGAGCAACCTGAAACTAAGTATGTTAAGCGAACCCAAAAAGATTACTCAATGTCCTTTAAATTAGGGGTAGTCAAAGAG',\n",
       " 'TCTAAGATACAAATTCTTGCAATAAAAAACAAGCTATTTTAAACCCAAAATACTAATAATCAGTAAATTATAGGTGGTTTAAGGAGGGACTATATAATATATTTTTTGATAGGATCAAGGCCGATCATTACGTTACAAATCAAGATAAACTATTGTCGCCAACAGCTCTGTAACTGTCTCGGCTATAATATTTCAAAAAATTAGCAATTCAAATTTAAAATGATTATTTTTGAGAATAATTTTATGATAT',\n",
       " 'CTCTTTTTATAACATTTTGAAAGTTTCTCCATTCAGAATATCCCAAAAGTTGCTGCAAATCTCTTGCAAACCAAAATTCTATTCCGTTTTCAGTAGTTTGAGAATGATCTTCAAAATTTTCTGCTAAAGTTTGTATAATTTCTTTTTTCATCTTTTCAATTTTTTATAAAAATACAAAAAAAATAGTGCAAAAAAAGAAAGACTTTTCGTAACTTGTCCTCCCTATTTAAAAATAAAATTCAGCAAGATT',\n",
       " 'GTTATTCCTTGGTTATTCATTAACAAGGCGAAACCAGAAAAGCATCCGTGGATAACTGAAGAAGAGCAAAAATTGATTCTTGCGGATAAAATTGCCTTTTCCGAAACCGACGATACTGAAAAAGAGAAAGGATTATCCGTAGCTAAAATATTAAGCTACAAAGAGTCTTGGGGCGTATTGATGTCTCGCTTTTTTATAGAGCCTATATGGTGGCTTTTTGTAGGCTGGATGCCACTCTATCTAAATTCTA',\n",
       " 'CCAAGGTCCTAGTCCGAAAGGGAAAGAACCCGGACCATCGTCTAAGGTCCCCAAGTGATAGTTAAGTTGAACTAAGGAGGTTCAGTCGCTGAGACAGCCAGGATGTTAGCTTGGAAGCAGCTATTCATTCAAAGAGTGCGTAACAGCTCACTGGTCGAGCGACAGAGCATCGATAATGATCGGGCATTAAACTATCCACCGAAGACATGGATTTGTGCTTAGGCACGAGTGGTAGGGGAGCATTCTGACG',\n",
       " 'CTAGAAATAGCCCTTATTTTTGGAGCAGTGGATAATTCTGATATGAAGCACAGCCAGAAGAGGGGAAACCTTTGGAGGTTGTGCTTTTTTATTTTTTTGAAAAAATATTTTTGCTCCGTAATTCATTTACGGTCTATGCCTATAATTTTGTTAGAGTAATAAGAAGATAATTAGATAAAATATTAGAAAAATTTCTATATTTTCGGAAAATCGATACAAATCATTTAGATCATAGATAAATTTCAACGAT',\n",
       " 'TCCTTATCTTTGACCCTTTATTATACTAAGGAACACCCAATAAACTTTTTTTCCTGATAAAAAAGACATAATGAGTTCGGGCAATAGTATTTCCTGTTATCCATTTTAATTATCATATTCTAATTTATCTTTTGATTTAGAAATACTGACTTATTCATTTGGATAGCTATTTTATTTTGCCTGGCATTATCATTATATTTTCCAAAAGCATTTAGAAACATTGTTATTTAACAGCCAAAAGCAAAACCAC',\n",
       " 'CAAACAGACGGCAATTGAAACGCCCAATGCGCTGTTAAAAATAATTTTCTTAAAAAATTTCATCTGTTACATTTTAAAGGTTATTAAAAGTCAGATGAAAGTTGTCACTCATAAAGTGACCCATTTCATAGCAAGATTTTCCAATCCTATTAGGTAGATGCGCAAACAATAAAAAGGTTGCGTCATAAAGATTCTTAAGATGAAAAAAAGTCGTATTTTAGCTTCAATAAAAATTAGAAAAAGAACGACA',\n",
       " 'AATTAAATTTCTGCTCTTTTTTCTAACCCTGTCAACCGGCCCGAAAACCAATCAGCAACTCTCGCTTAAAGCTTTTCTGCAGCTAAAACCCCTTCCTTATGAAGCGGAGTGCAAAGGTACAACCCTTTTTTAAAGTTGCAACACCTAACCCAAATTTTATTTTACAGCCTGTGTTAGCTTCTAGCCTACTCCCCAGCTCCTGCCGAACCGGGTTGCAAAAGTAAAAAAACTTGCTGAGTATGCAAGGAGC',\n",
       " 'TCCGAAATGGTGGTTTATGTTCCAACCTTCTTCAAAAATAAGGTGGTAGCGTACAAATTAAATTATTGATCAAAGCAGTTTTGATCCAAATCAGATCGGATCAATTGATAGGCTCGTCTTGTCAATTGATCCGATTTTTTTTAAACCCGGATTATGCATTAGAGTCTGTAGTGAGAGATCAAACCGCAATAAAATCAAGCATTTAGCGAATGAGGCATAGCACCGCTACGGTGATTGAGCTAAATGCAGC',\n",
       " 'TACATTACAATAAAAATTTTTCTAATTCTTTACCACAAAAAGTGATCATTAAGAACTATTTTCTAAGCTGTATCTTAAAAATTGAAGTCATATTCTTTACAAAAAATCCAGAATTCTTGGCCATACTTTGCTCTTCTTTTGTAACAACTGCAACAATTAACTCTAATTTTTAATCCTTCAATTAAATCACTCAGTCAATCATGTAAAATTATTCTCCCACACTGTCAGTAAGTTACCAATAAATATTACG',\n",
       " 'TCATGGGTAAAAAGAATTTCTGAAGGGATGATTGAAATTCCTCCTGTAATGGTGAAGTTTTCTAATTCTCAGAAGAGTTTTGAATAAAAACGTACACACTCTGCGAGGTTTTTTTGAATATCTTTTTGAAAGATAAAGACTTTAAATATTTTTTACTATATAGTAAAAAATACTTCATTGGTTTTTAAGTTGTTAATAAATATTAATTGTAAAAAAAGAAAAAAGAGGTATTTTTACGAAAAATAAAGAA',\n",
       " 'AGGCTCCTGTGATCAGTGCGGCGCCTGCTAATGTAACGGTTGAGTGCAACGCGGTTCCTGCAGCAGCGATCTTGACTGCAACGGACAACTGCGACACACCGGTTGTGGTCTTTACCGAAGTAAGGACCAACGGCAGCTCGCCATTTAATTACACACTCACAAGAACATGGACGGCAACGGACGGATGTGGCAACACATCGTCTAAAACGCAAACGGTTACGGTGCGCGATACACAGGCCCCTGTTCCAAC',\n",
       " 'TTTCTTTGCATAAAAGAAATATATGAGAACATCAGAAGAAAAAATGTTAGCAGTTGAGGCTTGGCGCACCAGTGGGCTTAGCCAGAATGAATACTGCAAGACCCTTGGAGTCAAACGTACCACTTTTGCCAACTGGGTATCGCGCAATAGACGAAAACAAGCTGTTCCCAATTTTGTTAGAGTTACCATCCCTCCAGTTGCTATTTCGACAGCTGTAGAGGTTATTTACCCAAACGGAGTAATTATCAAG',\n",
       " 'ACAATTGGTGAAACACCTGCCCAAAGAAACGATTGCTGTGGCACATCATTGGTTGATTTTGCATGGACGCTATATCTGTGTAGCAAGAAGTCCAAAATGCGAAATCTGTCCAATTACCTACATGTGTAAATATTACGAGAAACAATTGAAAACTAAAAAGAAAATAGATTAAATAAAAACTAATTTTTTTAGCAAAATAATTTTTGTATTTCCAAAATTAAGTGTATTTTTGAATCAATAATACTAAAAA',\n",
       " 'CCGTATATTGTACTGATAATCGACAGTTTGATAAGGCGAAGCAGTGGTGTTTCCTACTTTTTTGGACGTTAATTGCCCAATGTTGTTGTAACTGTTCTGCGTCAACACTTCTACTTTTCCGGTGTTAATTTGATGCGTATGTTTGGTTAAACGCTCGAATTTATCATAAGAGAAAACTTCTGTGGTTTTAACAGGAAAATTATTTCCCAATCGCTTATGCGTGGTCACGACTTTTGTGGCTTTTCCTCTA',\n",
       " 'CCACTGTGCGCAGGGTGTTTCGTTCCTCCACACCATCGGGCGCACACCTAACCGCTATCGCTTTTCGGTGCTGTCGCTGTGGGGGCTATGCTGCCCCCTACACCCCCATCTAACATTTTCGCTTGTTCTTTTCTTGTGGTTGAAAATGTTTTTGTACCTTTGCTGGCAGGTAAACACTGTGTACAGGTTATAGCCCACTATAACCCTTGCATGGTTGTGGGCTCTCCGAGGGCAGGGGGCTGCACCCCCT',\n",
       " 'ACTACCGGAACAGTAAGTGTACCAACGACCCAAGATACCATTGACGAATTGGATGAAACCTTCACAATCAACAATGGAGCAGTAAGTGCTACAGGTACTATTTTAGATAATGATGCTGTGCCTGTTGTTGCAACTATCAGTCCTGCTAGTGCTACAGAAGGATCAAATGTGGCATTCAACTTTACGTTGAGTAACCCATCTGCAGTGGCAACTAATTATACGTTCACATTAACCAATGGAACTGCTGGAA',\n",
       " 'CGGAAAAGCTCTACCCTTCCAAGTTCGAAGTAGGTTGCATAATTTCCGTAATATACATATTTCATAGGGTCTGTTTCTGCGTAACGTACTCTTAATGAGTGAGTTGAATGTATCATTTGAAGTGTTGAATTATTCATACAAATATATTTTTAAATAATCAATATGAGAAATATTTTTTTTTGAAAATAAAAAATTAGACCTTTGTCTTCCTCCTAAAAACGAATAATCATAGTATAAATCAGGGCATAAA',\n",
       " 'ATTAAGCAACTTATCAGATCTTAGTAATGGTGTATATATAATCAATATTTCTAGTGGAGACGCAACGACAACACTTCGCTTCATAAAGGAATAATTGTTATTTACTTTATTTATAAAGGAGCTCTTTAAGAGCTCCTTTTTTATTTTTCACGCTTTCGCGAAAGCAGAATTATCATAAAGTTAATAACCCAAATCAACTTTCATTGTTCTAATAAATAATGGGTTGTATTTTTACAGCAAATAGAATTAA',\n",
       " 'TTTTGCGGGGATAATCCTTTCGATGTAGTAAGTTTCGGGATCTTCGGCATGTTTTAGCAACTCATTTTCGTTGCAAAACTCAACCGATGCCCAATCAGTAATACCCGGTTTAACGGATAAAACGTAACGTTGTTCTTCATTGTAAAGATTTACGTATTTTCTAACTTCTGGTCTTGGTCCAACAAAACTCATCTGCCCTTTTAAAACATTCAATAGCTGGGGCAATTCATCTAACTTGTATTTGCGCAAC',\n",
       " 'CAAATTCTGAAAACAAAGTATCGAGCGGTGAAAAGAGTTTGTGGGTGGAAAGCTGGGCAATTTGAAGATAAATCAACGTCGTGTCTATACTTTCGTGACCGAGAAGATTTTTGATGCTCAAAATATCCATCCCATCTTCCAGAAGATGCGTCACAAAACTGTGACGAAGCGTATGAACACTAACTTCTTTCAAGATTTTTGCTGCTCTTGATGCCTGTTTTACCGCCCACTGAACGCCTCGTTGTGAGTA',\n",
       " 'GCCACGGCCGCAAGGCAGTTGTGCTGTCTGTTAAACACACCACAAATGAAGTCCCTGGAGGCTTACATCGCCCGAAAATCGGGAACTGCGCAAACCCCACTTAACAGGTCTTGTAGCTGTAATTAAAAGTTGCATTTCTGCTCATTTCAGGCCGTTTTTTCAGACCCAAAAACCTCTTAACTATTTCCGGAAAGCGTTTGGTAATCCGAGCTTTTTTCGCTAATTTTATCTGTTTAAACAACCATCCTAA',\n",
       " 'AATTCCAACAGCAGGATGGGTTCTGCCAGTTGCATCCTTAAATTCAGTTTGCCACGTTCCAGAGAAATAAGTCTTCTTATCAGCAGATCCCTGGAATAGTTGTTCACTGCCCGCCGAAGCCACCAGCGGCACGCGGTAGGGCCCCTGGGCGTCGTACTTCACCCACGCGCCTTTCAGCTTACCGGTGCCATCGGCCCGCACCACCAGGGCCGCGTCGAACACGTGGAGCTTGATGGTAGCCGAGTCGCCG',\n",
       " 'GTCCGTCATCAGAAGGATGCCGACGGCAATGAATACGAGCGCAAGATCCGGAAAGGTCAGATATGCTGCATCGAGATCCGCATTGAGCGCATCGGTAGAGGGTATGGCTGAGATCATCGAGCAGGGCAGGCTTATGGAATGGTGCCGGGAGTCAATCAAGTGGGCGCAGAAAGAACATGGCAAGGAAAACATCGTGAGTGCGGTTCTGCACATGGACGAGTGAGACTCCGCACCTTCATGTGTCTCTTGT',\n",
       " 'TTGCGATTACAGAGCCTTCTCAGATAAAAGATTTCGTCACCCCGTACGCCAGTAATCAGTATATCATGCAGCTGATTGATACTTATGCGAAAAAGTATCCGAGGAAGGTGTTTTTTAATAGAAATTGCAAATTCCGGTTATATTGATCACCCCATTCCGTTTTAAAGTGAGCACCTGATTCCAGTTCAAAATGACCACCTAATTCCGGTGCAAAGTGAGCACCTCCGTTTTGATTAAAAACTATATTTTT',\n",
       " 'AGAGGAAATAAGGATCAGATGAAAGTACTTGAAGACTATCTGAATATTACAAACAATTCCAATTTTCATTAAAATCAAATGACTTTTTTGATCCGAATTTTATCTGCTCAAAATATTCAGAGACTTTTGTTTTAATCATCGCATCAGTGAAAAATTATACTTTTTTTAACATCTGCAAACATTTTCAAACCCAAATAAAATTAGATTTTAATAGTAAAATTTCGTATTTTTGATAAATTATATTTAATCG',\n",
       " 'TGTAACCGTACAATAAGAGATGTAAATCAAAATGATCTGTTTCACGGTAATGAAGTGGCGTACATTAAAAGAGTATTGGACCGATTGATTATCGATTGTGATACAGCTGTAGATGAACTTATTAATGTATTGACTCAAGGGAAACTGGAAATGAAAGATGATGAGCGATTGGAGCGAATCGATAAACTATATCAAAGTATGCAGGAGAATTATAGTTTTTGCGAGGATTTCAGTAATCAAACCAGAATGA',\n",
       " 'GATTTAGGCAGCGTTGACAAAGACTTTGATTATTTGTCTCGTAATTACAGAAAAATATTTTACAATCATTGTAAAATAACTTATCGAGAAGGTACTACTAAAATTTATATCTGTCGAGTATTTGATACAAGACAAAACCCTAATAAAAATAAATAACAATCTACAGCGCAAAACACCTCCCAAAATAAATTTAAAATAAGTAATTCACATTCTAAAATTAAGTATTTTTACGAAAAATAAGTGCCAATAC',\n",
       " 'TCGTTGCCCTCCGTCAGGACCGCGTCAAGGTCCTGGATCTCGTTGGTGGCCGATAGGTCTCCATCGGCAGCGATGTGGTTGGCGATGTCCGTCGCATTGGTCGCTATGTCCGTTGTGTTTGTTGCGATGTTGGTCGTGTTCGTTGCAATATTGGTCGTGTTGGTCGCGATGTTCGCCGCATTGGCAGCAACCCCAGCACTGTCGTCAAGGTCGCTCAGATTGACCGTCACATCGGTCGCCCCCTCGCTGA',\n",
       " 'CTGATGTGACCCTGCAGGTGCGTGCCGGGTCGCCGACAGGTAAAGTGCTAGGCAAATATACGGGTAAGTATCCGGGGCAGCCGATCAAGCTGGATGTGGCTGATGCAGCGGGTGTTAACGATCTTTATTTTGTGCTGAATGGCCGTGCCGTAAGGGTGAATAAAATAAAATTAGCTAATTAAAAATATTTACTAAATTTATTAGTAAATATCAAAACTATGTTTTATATTTGTATCATACAATTTTAGAC',\n",
       " 'AGTGGCAGTTATTCTGGAGCGGTATGGTCGGTTACCAATGGAACCGTAATTTCCTCTTCTTCCACGCAGGCAACCATCCGTTTTAATCAACCTTCTGGAGGAGCTGAGTCTTATGGGAGTGCTCATATTTCGGTGGCCAATCCTTCACCTGTCGCTAGTTTGGATGTTACTGTTTCGGCCGGTTTAAGTTCAGCGTCACTGGAAGCATATCCAAGCACTACAACACCGGGGCATACAGTAGAACTCTATG',\n",
       " 'GTCGTTATATTTGTTTAGCTAGAAGTCCTAAATGTGACATCTGCCCTATCAGCTACTTCTGCAAATACTTTGAAAAGAACAAAAAAGCAAAAGCAATCCTAAAAAATTAACATAATCAATTCACACTTTAGATTCAATAGCCCATAAAAACTATTATTTTTAGAGATTAAAATATTATAACTAATTTTTTTAGCATTTTATTTGTAGATTTCAATATTATAAATTATTTTTGACAACGTTATACTAAAAA',\n",
       " 'GGGTACTTGGGCCGATGTTATGTGTGAAATAAAATATAAATAACATATAAGTATTTTAGCTTTTTGCCTGAATGCTACGGGGCCTTTGTGAAACTGTTTAATCTGTGTTATCTTTAGCCCGGTAATAAGGCGTGGAATACGCTTCATGTATTATTGATTATTTTACAAGACTTCCTTGCAATTTTGGCCGAAAAATGCTAATTTTATAAGGTTAAACATACTAAAAATTAATTTTTGCGTAAACACATCA',\n",
       " 'TTCCATAAAGTGAAAATTGAGGACAAAAATAGGTAAAAATCAAAGGATGAAATATAAAACCAAGATAAAAAAACATTAAAAATTAACATAATATACACTTTTCGCACACTTCTTCACCACTAAATCCCTCTACCTTTAAAGTTAAAATAATTGCTGTCCTAAGGGAGGAAATAATTTGTTCAAAACTCATCTGTTTTGTATCCTATTCCATCAAAAAAAGCATTATTTTTATGCCACTAAATTTTTTAAA',\n",
       " 'CAAACGCGCGCGAGCTGGGGTCGAATTCATGTAGACGTATACTAGACGTATACTAGACGTATACTAGACGTATACTAGACGTATACTAGACGTATACTCGACGTATACTCGACGTATATACGATGTAAATAAGAAGATGACCCGTCCTGAAATAACTATATGACCCGTCCTGAAATAACTATACAGATTAGTGAATAAATCCTGGATTAACTATACACTGGATGTTGTTAATCCTAATTAACCTATACAG',\n",
       " 'AGCCTTGCCCTGAAACCCCAAAGCTCAGAACCCCTAATCACATAGAAGATCTTATACTGTATTTGCGTAAAACTTATTATTTTGGGCAATTACGAATCAAATGGTAGTTATCCCGTTATCATGGAATTGAGTTATCTTCAGGCGCTGTTTATCATGTATTAAAAAGGAATGATGTGAATAAGTTACCTCAGAATATGAAGAAGCGATCTATAAAAACCTTCAAACGATATGAAAAACAGGTTCCTGGTCA',\n",
       " 'AAATCGGTTTATCTATAATATTTACGACACCCCCTTTTAGTATAAGAAGAAACAGATTAAATATGAAGATCCTGAAGGGATAGGGGTTAACAAACAGGTATCAGGGTTTATGTTGAGTTGAGGGCAAAAAAAGAGCCCTTACTGTTTCCAGCAAGGGCTCTGTATAAAAAAAGGCACCGACCTACTCTCCCACCTGTTACGGCAATACCATCGGCTCTGGCGGGCTTGACTTCTCTGTTCGGAATGGGAA',\n",
       " 'CAATCGACCGACGAATGGATACGGCGCAAGTTACGCTGTTTTAGGCTTAAGCAATGTAAAAGGGTGATAACGCTCCAGCGCTTTTTAGAAAGCATGGGGGTCAAGGAATGGCAAAGCTGGATTTTAGCGCTTTCGGGCAAAGGTCATTGGCGGAAAGCAAAATGCCCACAAGCCAATCAGGCTATGAGCATTTTATGGTTTGAGGAGCAAGGCTTGTACAACCTTGTATTAAAATACGAACGTTTAACCA',\n",
       " 'GGGGCAAAGTTATAAAATCCAATCGGCTAAAAAAGAAAAAGGGTTTCTTAAAAAGAAACCCCTCCCAACCGATTAATCCTTTTTCATAGCGCAAAATTTCCCTTTTGCCCAAAGGCAACGAGCCCTAGTTGGGCCCGCTATGATAATACGAGTTAGTATGGAGTAGATACGGTTGTTTAAAAAGGTTGCGTGGGCTTGTTGTTACGTGCCAAAAGAAATGGTATTTTTAGCCTTCCAAATAATTTGATAC',\n",
       " 'TTTTAGTGGATCGACCCGGTCGGGTTCATTTGGAGCGTTTACCTGCTTACAGCCCCGAACTGAATCCAGTGGAGTTGGTCTGGAGTCACTTGAAGCGAAGTTTAAAAAATCGAGTGTTTACCAGCTTAACTGCGCTTCGAGAAGCCATCAAGGAGCAGGTTAAGCTAGTAGAGGAGGATCCTAAACTAGTCCAAAGCTTCTTCCGCAAGAAAGAAGTAGCCTTTATTACAAATTAATGCTCACCTCTATA',\n",
       " 'ATTTCATCATCAGATTTTCGCCAACCTTTGTTTCCTTTCTGATGAATAAATTCTTCATTATTAAAAATAAAACTAATTAATTCGCCTTTTTCTATACGAACTTTACTATTGTTATTCTCTAAAACAATTATCGATTTCATCTTAACTAAATTTTAGTAAAAATAACATAAAATGCGTTTATTTTGTTAGGTATTTGAGAAGAGTTTTTCGTAACTTGTGACACTATTTTAAAATTAATATTAGCAAGATT',\n",
       " 'GAGCTTCGATATTTGATGAACATGCAGGAATGATGCTTTCTCCAAACTTTGCAAAAATCGTTTCTTGGTACGATAACGAAACCGGATTCTCCAATAAACTGACCGACTTATTGTACCATTCATCCACTTTATAAGAGATCTTTATTTCTTCATATCCATAACCTCTTGACGATTTGAGAGGTTATTTTTTTATCCACATTTCCATTTTTTTGAATGAATAATTGTGTATTTTTGGCAAATAATATCAACA',\n",
       " 'AGGGAAGCTGCAACCTGCTCCGTGCTTTTTGCAATGGCCGCAAAAGAAGCGTCCGCAGCGATCTCCACTTTATTTTTTAAGGCAGACTGTGCCATTGGCAGCGCACTTTCAGGGCTAGCCTCGTCCCATATCAGCTGCAGGGCCAGCCCTTTGCGGTCATCCGCCCGCAGGCTGACCTCTGTCGCACTGCTATGCAATACTGCCGGAGCCATACCGGTCACAGCAGGTAGACCGCCCTCCTTTTTGCAGG',\n",
       " 'TATACCACACCCATTTGATCTGTTTCTCCGTATCTTACAGTAAAAGAAATTTTATTTTTTCGCATATTATATCAACAAAAATTATATATTTAAAGGATGGGAAATTCTATGCTTACAACATGCAAAAAAAAAACTTCAAATTCAATAGTAATTGATTTTTTTTTTAGAAATTTTGTTCACATATTTGCCTCCCCTGATAAGGAAGTTAAGATCCCCGTATTTTCTTTCAGTGAGAACACAATACTAACCA',\n",
       " 'GTTGCGCAAACCCCTGGCAAAAGAGCAGTACATACAAGCAAAAAAAAGCCGCAAAGGTAAGACGCATGTCAGGAAAAGAGCTGGTAAAAGGCAGGATTTTTAAGGCCCGAAAGATAGTTTTTTTGCATTACTTCAGGCAAAAAAGATCACAATATTTACGCATAAAATCTATTAGTTTCGGGAAAAAGTGCGTAACTTGTTACCTCAAAACTAATAGTAAAACCAGTAAATTTAACACAAAAACTTTCAA',\n",
       " 'GGTTGCATAAATGGAATTCCTGATGCGGGCAGTACAAACGGGTAAAAGTGCCTTGCTTTGCAGGCAGTAGTATATAGTAAGAACTTCAGGAGGTTGAAATAACGGGCCGCTCTTTCCAGGGCGGCTATTTTTGTGCACTTTTAGCAGGAAGCCAAAAATTTTGACAAAAAAATGCTAAGAAAATTAGTGTGTATAATTTATTTAACCTACTTTCACATCCTTGTTAATTTTGAAGGATAAAACAGCGCAA',\n",
       " 'GCTTTATACGAGCGTTTATAATTCATTACCAACATTTTAGTGAATAAAACGACCAGCGGTAAACAGCAGGAATTTTTACTCCTTTTGTTTGCCGCTTTTTATTTTTTATCCTGTAAACTTTAGCATTACTTACTATACGTGCCAAAAAAATTGGATAAAAAACTAAATAAGTTAGTGTTGATAATAAAATTATTGTACTTTTATGGCGTTGTTACATTTGACAAACGAAAACACACTAAAACATACTTAC',\n",
       " 'TTTAGTTCCCATCGGAGTAAGCGGCGAGCTGTATATTGCAGGTTCCGGTTTAGCCCGAGGCTATTTAAACAGAGCAGACCTTACTGCCGAAAAATTTGTAGACAATCCTTTTGCAGAAGGCACTAAAATGTACCGCACAGGAGACCTGGGAAGGTGGTTGCCGGACGGTAATATCGAATACTTGGGAAGAATCGATCACCAGGTTAAAATCCGTGGTCACCGTATTGAGTTAGGTGAAATCGACAGCCAG',\n",
       " 'TGAGCGTTCGGCGCGAAAGCTCAATCAGAAAAACGTACCCAATAACTACTAAGGTTAAAAAGTTATTTTTAAAATACCGGGTCATTAAATTACTGCCGGCTGGTAAGTGATCAGAAAACAACTGCCACAGCAAGCCGATCACCAGCAATAGTATAAGCAGGTACTCCAGCCAGAACCAACCTTTGCGAATACTAACTTTATTGATTAGTTGCAACCGTAGGGTTAAGATGATAAATATTGCCAAAGCATA',\n",
       " 'GCAAAGGTTGCTTTACAGTCGCAATTCGGGCATTAAGCCCATGGCTGTATAAATTCTTTTACAACAAATTAGTAAAGTCGTCCATAGTGGCGACTTTTTTAATATTAAACCATTATAGACCGATTAACAATGTAAAAAACATTGAAACGCCTATATAATATGCAATCCCGCCGGGATTGTTATTAATAGGGTAGGCTTATTATTTCTATAAATATTCAACTTCTCCGAAGTTGTTTTATTATCTCCAGCG',\n",
       " 'GTAATCGCTCCAGCCGGTTTCCTTCTGTAGTTCTTTACCGTTGTACTGGTAATTGTAGGATGGATTCCCGGCTTGGGCATTGTAGCCTTCATGCTTCAGCCCGAACGGGTAAAAATTGTTTTCTTCAAGAACTTCTGCGCTGCCACCGGCGTTTTTAAAATAACTCAGGCGTACATTTCCCAAATGGTCTGTGTAGCTGTAAATATAGCTACTATTTTAAATAAACTTTATTAACATAAATAAAAAAGGT',\n",
       " 'CACTTCAAACTGATCCCGCTGGCCCTAATGCCGTTTGGAAAGGATGTGGTCGGGTAAAATGCGGATAACCTGTCCCCCTCCAAACACGGATTTTAAAAGAAAAAAGCGACCTTTTCTTGCGGAACTAAAAATATTAGTTTTACATTTGCTAAATAAATTAGTTTGTATTTACCCCCAAAAACTTATTAACCATGGCAGCGCATTCCGATAAGTCCGATAAGACGAACGGTCAAGACAAATCGACCAATAA',\n",
       " 'ATATTGACAAGGCCAATGCACTTAGCGTCAAGAAGCAGTGCGAAGTGTTGCAGATTTCGCGCAGCTCCCATTATTACAGGAAAGTTCCGCAAAGCAATCTGAACCTAAATCTGATGCGTCTGATCGATGAGGAGTTCCTGAACCGTCCCTGGAAAGGCGTTCCCAGAATGACGAACTGGCTCCAAAAGGACATGGGCTATGCCATCAACAAAAAGCGTGTGGAAAGACTTTACAGGGTTATGGGCTTGAG',\n",
       " 'TCCAGCAGGCTCTGGAAGAGATGATCCGGAGCATTATAGTCAATGTCATTAGATCCCACTCCAGTGCGCACAGCGTCCTCCAGTTGGCCGGCCAGGGCGAATAGGTACTTCCGGTTGATCTTTCCGGTGGCCAGCTGGTCAGTGTAGATTTGCTGCAGTAGTTCTTCTTCGGTTGCCGTGACGGCTCCTTCGCTGAGGCTCAGCTGAGCGTACTGTTTTAATCGGTACTCGGGTAGGCTAAGCTTTTTTT',\n",
       " 'GCACAGTAACTAAATCAGAAATGACGGCTTGCGTTTAGCCGTCTCTCATCGCTAAAAGAAGCAAAAGCAGTCTTATAAGCTGACAATCAACAAGTAGACACTTTATTTAAATCTATATCAATAGTAGCTTATAAAATTCAGCAATAAAATCTCTTTTTAAACGCGTCAACAAGCCCCAACTATTTCAAAAAACCGTTTGGTAATCCGGGCAATTTTGGTTAATTTTATCTGTTTAAAACAACCATCCTAA',\n",
       " 'TTTCAAAGTGTTATTATTTTTTTTCAGAGGGATAAATATTTTTTTGCTTTTGGGGTTGTGCAGACAAAAAAAGTCCTCTATATTTGCACCCGCTTTTAGAGTGATGCGCTTTGGAGGCGAGTAAGGAATAGAAAAAGGTTCATTGACATATTGGCAGACAGCGTTACTATTGCAGGATTGATCTTGTAATAGGAACAGGCCTTAAAAAGGTTAAAGTATTAAAGAATTAAGGACCGAATAAATGGGTTGG',\n",
       " 'GTCTGTTCCAATTCATTTGCCATAATCCGTATTAGTTTTATTTATGATTCAATATCCGGACACTCCAAAATATTTATATGCAAATATACGGAATAAAATTCGAATATTCAATATCAGGGAGTTAAAAATAGGTCTCCGGAAACCGTTGTTTTTCTATATACAAAAAAGAGACATTTGCAACTGTTTTTCCGGAATCTTTTTGCGAAATTATTCACAACTTTGTCTGTCGAAAATGCGATACAATCACCCA',\n",
       " 'AATTTGGGTTTAAATTCAACCTGATTGCCGATACTGAAAAAGAAATTCTGGAGGCTTATGGCGCCTGGGGCTTAAAAAAGAATTATGGCAAAGAATACATGGGCGTTTTACGAAAAACCTTTGTTATTGACGAAGGGGGCGTAATCGCCGAAATTTTTGAAAAAGTAAATACAAAAGATCACACGAATCAGATTATTGAAACTTTAAATCTATAACCTATTCTGAACATGACAAAAGAGGAGAGAGCTCA',\n",
       " 'GGAAATTTATCGATAAGTTTGGATTGAAATTCAATTTAATTTCTGATCCTGACAAAGAGCTCTTGCAGGCCTACGGTGCCTGGGGCGAGAAGAAAATGTACGGCAAGACTTACATGGGAGTTTTGCGTACCACATTTGTTATTAATGAAGAAGGGATTATTGAGAAAATCTTCCGGAAAGTGAAAACCAAGGAACACACAAAACAAATAGCCGGAGAACTCAACCTCTGAAACTAAATTACGCTTAATTA',\n",
       " 'TAACGTGTACGCAATTTGTAGTCAAAATATAACTCTTTCATATACAATATAATAAATGTCTTAATAACTTGTTAAAAAAATGTACTGTAAAAAAAAGTAAAAAAACAAGTGTTAAATAATTTTTTTTATCCAGAATTTATTCACAACTTTGCTGACTGAAATAATAGTCTGTTTTGAGCGGGCAAAGTTACTATAAAAAGTCTAATAGTCAAAATTTTAAGCAAAAACGAGTATCACAAAAGCAGTTAAT',\n",
       " 'CTGATTGGTATAAAGCGATGAAAGCTGTTGGAATGGGAAATGCCATGAAAAATGCAGAATTAAGATTGATGAGTGTTGAGCATCCGTTAATGATGATTGTTGCCATTGCATTGGTTACTGTAGGATGGTCTCGTCACAAAAAATTAACTGAAGACGCAGCAAAATTTAAATCTTTTGCTATTTTTTATGGAATCGCATTTGTTGTGATTTTATCAAGGATTCCTTGGGCTCAGTGGATTTAATCATTTAA',\n",
       " 'ATTGATAACACTTTAGGACAGATCGTACAATGTGATGTGCGTCAGGCGATCGACGGACAAATATTTCAAAAAATGACAGACTTATCCTCAGGACTATTCTTTATAAAAGTCAAACAGGAGTATCGTCAGACAACTATGAAATTTATGGTAGAATAAACCTATATCCGTAAATTCATGAATCGTTGATAACCTGCACTGTTTGATGTTGTGAAAGGAGCAGCCAGGATGTATTTTTACCTAAAATTTTTAC',\n",
       " 'ACCTATCGTAGAAATCGTAAAAGAGATAGAAGTTGTACTTAACGATATCTTCTTTGAGTTTGATAAGAGCAACATCACAAAAGAGGCTGCTTTTGAGCTTGATAAGTTAGTTGAGGCTATGAACAACAACCCTGAAATGGTAATCATGGTTAAGGCGCACACGGATAACCGTGGTAGTGCACAATACAACATGAACCTATCTAACAAAAGGGCTAAGGCTACAGTTCAGTATGTAATCTCAAAAGGTATT',\n",
       " 'CTAAACCTTTTTTAAGCGAAATTTTATCTGAACAAAAAAACAGACTGTCTACTAAAACTAGTAAATAAGAAGATCTAATTATTTTTTATTAGTATTCATAAACTCTATAACCTCATCAAACCTGTTGCTCCAAGGCCAAAAATACTGCACTACCATAGAGGGCACTGAAAAACTTCACTTATTTTGATTAGAGTCGTTTTTTAGACAATAAAAAAACGCTTATAACAGGATTTTAAAGATCCTTTATGAG',\n",
       " 'TGTAGTTGTTTTTTTTATTAAAAAGTTTTGTTTGTAAAAAGGGTTTTATCAGAGAGTTAAGGGAAATATTAAAAAAAAGGTTTAAATTATGCAATAAAAAGTCTTTGAAATGTAAATAGATGTGCTACTTTTGCACCCGCAACAGCGAAATGGTTCATGGAAATACTGGCAAGAAACAAGAATCAAATGAAAAGAAGTTTTCTAAAAAAAAGATTCAAAAAAGCTTGCGAGATTTGAAAATGCTTTTTAC',\n",
       " 'GAGAATATTATCAAGTTGTTGCCGAGGTACTTAATGTAATAGCGTTGGTTGCAGAGGAAGTTGTCCTATGGACCAGGATAAATATTTTTATGGAATCTCGTCAACAGAATAGGGAAATGTTCTTAACACTTGGTGCAGAACAGAAAGAGATACTTATGATATGGGTTGAACTTATTCTTGAAGTTAGAGAAAAACTTATGAATAAAAGGACCGAACTGCTTAATAAAAAAGGGTGAGAAGACTTTCGTCT',\n",
       " 'CTCTCTCAGCCAGTTCTTAGAACGTCGCTTCGTTTTCAAAGCGGGTGCAAATATAAAACTACTTTCGCTCTCCAGCCAAATAAAATTTAAAGAAATTTAATTTTTATTTTTTTTGCCTTAGACCAACAATAGCCTACCCTTTACATATCTTTCAGTGAACTTTCGCCTTGCTCTCAAAGCGGCTGCAAATATACACTAACTTTTTTCTTTCCACCAAACTAAAATTTGAAAAATTTTAATTTAATTTTTG',\n",
       " 'GATGTCAAGAGAGGTTGAATGGTCATTTTGTTCATTTGATTGACACTCACATTCTGTGTTATTGTTATACTGTTCGTCAAAGGGAATGGCTTTAGGAGAGCAAGCAGTTGCAATTAGAATTAGTATGACTGACTTGCTATAGAACATAGTATTGTCGCTAACGCTCAGATATAGCGCTGTGGCCTCCGAGCTAAATTAATTGCGATAAAAGTAGCTTATCTGCTGGTGCATTCAAAGTTTCAGATACGCA',\n",
       " 'ATGTTGATAATGCAGGAGATGGCGTAGAACCTTTTGATTTAACAGAAAATGAAGTGTTGCTATTAAATGGCGAAGCCAATGTATCAGCAAGCTACTATGAAGACGCAGATGACGCAGATGCAGGTACTAATGCCATTGCAGACCCAACAGCTTATGTTAATACAGCAACACCACAAACCATTTATGTAAGAGTCACTAATGATATCACAGGCTGTTATGCACTAGTAGACTTTACAATTATTGTTAACCC',\n",
       " 'CACTATTGTCATACACTGGCTGGGATTTCGCAAATGAATGCTGACTAAGAAGGTTCTCTGCGAGAATCAGCTACATCTGCGGGAAACTTAAAGCTATTGGTTACATAATTCGGTGTTTTAACAGATTGAGTACTAAAGTTTATTCCAGATATAGCCTGATGCAGCTCAGCCCTTTTCAAAAACTTAACATTTGCGATTTTAATTTTAATGTTGATTTTTAATCATTTAGTACACCGTCCACAAAAAAAGC',\n",
       " 'CTTTTTAGCGCGGAAGGTACCTGACGGCCCATGTACCCGAAGCATTTTCCGTGCTTACGGATCAAGAAAAAATAGCGTCAATCAAACCCAAAAAAAGTACCTACTAAGGCAAGAATTCATCGCCGGATATATTTGTTTTCTTGGATAAATTGCGCTAGATTTACATTCTTATATTATAATAGCACCAGGCGGTTTTGGCAGCATCCGTAACCGCCTTTTTTATGCACTAATCAACCAATTATCATCCCTT',\n",
       " 'AGTGTTTAATATCGAAACAATAAACAATGATAATATGACTGTTATTTTTTTCACCTAAAAAAGAATAAGTTACGTAAGATAAGTATTAAAAACATATGATAAAGTCTTAGTCTCCAATAACACCTCATAATTACAGTTCAATCTATTTAATTGTTAATTAATTCTTTTAAATAGAGAGTAATTGAGTATATATTACTCTACTTTTTTTATAACTTAGCAGTTCTTATTTTGATAAATTTTTAGCATAACT',\n",
       " 'TTAACTTAGTAGTCTCGGGCAGACTCGAACTGCCGACCTCTACATTATCAGTGTAGCGCTCTAACCAGCTGAGCTACGAGACTTCTTCTTGTTCCTTTTTTATATATTAACAGCTTTAAGCAAAATCATCCCTTAAAAATTATAAGGTAGCTCCTCTTCCAATTATCGATTCTTTTCTCTAGAAAGGAGGTGTTCCAGCCGCACCTTCCGGTACGGCTACCTTGTTACGACTTAGCCCCAGTTACCAGTT',\n",
       " 'ATACAGAAACGGCGTTGAAGAAAAAGGAACTTCAACAGATGCAAAAAGCAAAGCTAATTCAAAAAAACAGAAAACTGAACCCAATTGCTGCCCGGCTTAAAAAATATACCATACCAAATACAGTTGATAGTATTGATTGAATTAAGTATGTTTACTACTTCTTTTATGCCTGTTTTTATTATATTTTTTTGATAAAAAAATTAGCATAATATAATTATTTCATCTACCTTAGCGCCTGAAAAACTAAAAT',\n",
       " 'GAGTGATTGAGCGCATCATCACACCGAAGGAGGTAAAGACCAAAGACCACGCCGCACAAATCCTGTAAAGGACATCGACGGATGCCAGGCACGGAACGCATGCACAAGGCCGCTCTTTAGCGCAATCGCCGCAGCAGAAAACGGTATTGCATAACCCGTACCCGTACAACCGGCATCCGACAGTATAAACAAACTTATAACTTTCCAAAATGGCAAAGAAAGACGAACTTAATTTTGAAAACGGAAATAA',\n",
       " 'CACATCACTTGTTCAAAGTCAATACTAAGCTATAGTAAAGGTGCACGGGGTCTTTTCGTCCCGTAGCGGGTAATCGGCATCTTCACCGATACTACAATTTCACCGAGCTCATGGCTGAGACAGTATCCAGATCGTTGCACCATTCGTGCAGGTCGGAACTTACCCGACAAGGAATTTCGCTACCTTAGGACCGTTATAGTTACGGCCGCCGTTTACCGGGGCTTCAGTTCAAGCCTTCGCTAATGCTAAG',\n",
       " 'GCTGCATCAGCGCCCGGTTGTTTAGTTGCGCTCTGGCAAGGGGGCTTACAATCAACAAAATCAGCAGAAAAAAAACTTGTAGCAAGCGCATAAAAAAGCAGTGAGTATGGCACAAAAACAGGTGGAGCTATGTTATAATCAGACGGCAGCAATCAGCTAAAAAAATTAGCAAATTACTTACAAACTATTTTGAAGATTGGTGCCGATTTAGTAATTTCACCTTCAATATAAAGCTAATTAAGAAAACACA',\n",
       " 'TCAAAATGCTGTTTTTAAAGTATATTTTTTTAAGAGCAATAATGACAGAAACAAGGCGTTATCCTTACAAACAGAGAGGGGATAAGTTGTGCTTTATTGCGCTTATTGTCATCCTGAGTGAGAGAAAATCGGGATTTATAAAGGTGAGATGACATTTGGTGTGGAGGGGCTGTCACCCTGAGCCTGTCGAAGGGTCGCGCGCAGAGGCCCTACCCGCTATGCTTCGACTGGCTCAGCATGACACCCATTT',\n",
       " 'TTTTTTTCCTGAGCCCATAGAGAAGGCTGAAAAAGAACCAAAGCGAGAAGAAGTGATGTTATTTTAGTAATTACGTTCATCTTTTATGACAATCCCTGACAAAAAGCTGGTATTTTTATGCTTGGTACGAAAAAGCATGCCGAATAGTGACGAAAAATACGAATTTGCCTATCGAAAGCAAGTCGGCGGTTGATTTTGGCCATGGCTTAGCAAGTTTTAACTTTATTTGAAATATCTATATCAATATCCA',\n",
       " 'GCAACCCATCACTCAGTACAAAGCCGGCACGGTGGTGATTGACATTATCGATGCCAGACGCAAAGAATTGGCATGGAGGGGTACTGGACAAGCGCAAGTGGACCAAAACTCTATCAACGAGGCTGAAACGTTGCGCATTGTCAACGGCATTCTCGGCACTTACCCTCCCCAGGGAAACAACGCTATAGCTTTAGACCGGCACGTTCACGTGGCGCTCAGCATGATACGAGCTGCGCACCAGCGGGCCGCT',\n",
       " 'GCGAAAACGGGACCGGAAAAGACCTCGTTGCCCGGGCTATCCATGAGCAGTCGAGCCGGCGTACGGGTCCGTTTGTAAGTGTCGACGTCGGGGCCTTAACCGAAAGTCTGTTCGAGAGCGAACTGTTCGGCCACGTCAAAGGAGCGTTTACCGACGCCCGCGACGACCGCGCCGGTCGGTTTGAAGAGGCCCACGGCGGCACCATTTTTCTCGACGAGATCGGGAACCTGACCCCGGCACAACAGGCGCG',\n",
       " 'TCTCAGACAAATTCTGTGACTGTTGGGCAGCCTTCTGCAGCTTTGGCTTTGGGGGCTTCATCTAAAACAGACGCTTCATGCTACGGAGCAAGCACCGGAATCGTGACTGCGGGAACTGTAACAAACTCTGTGGGAACTGTTGACTATTCTTGGAAAAACAGCGCTAACGCAGAAGTGGGAACAGCAGCTTCTGTTTCAAACCTGCCTGCCGGAACCTATACTTTAACCGTAACGGATTCCTGTTCATCCC',\n",
       " 'CTCCCTGTGTATTGTTCTTGTTTGTTGCGTGTGCAGCATACTAGAAATTTTACGCTTCGATCTTCGCTTTTGCCTCATAAAGTGCTAACTGCTGAAGTGTGCGACGCAACGAAAGCTTATTTGCAATACTATAGCCTGGCTCCTAAAATTCCCAAAAAAATTATCAAAAAAATACTAAAATAATTAGTGTTGATAAGTAAAATTACTTTACTTTTATGGCCTGATTAATTTTGAACAATAAACAAATTAA']"
      ]
     },
     "execution_count": 10,
     "metadata": {},
     "output_type": "execute_result"
    }
   ],
   "source": [
    "a = unique_filter('/home/nastya/Bacteroides_uniformis_annotations/recA_upstream_motifs.txt')\n",
    "a"
   ]
  },
  {
   "cell_type": "code",
   "execution_count": 11,
   "id": "7d0cbdba",
   "metadata": {},
   "outputs": [
    {
     "data": {
      "text/plain": [
       "351"
      ]
     },
     "execution_count": 11,
     "metadata": {},
     "output_type": "execute_result"
    }
   ],
   "source": [
    "len(a)"
   ]
  },
  {
   "cell_type": "code",
   "execution_count": 12,
   "id": "21750444",
   "metadata": {},
   "outputs": [],
   "source": [
    "with open('Bacteroidetes_filtered_recA.txt', 'w') as out:\n",
    "    count=0\n",
    "    for i in a:\n",
    "        count+=1\n",
    "        out.write(f'>{count}\\n{i}\\n')"
   ]
  },
  {
   "cell_type": "code",
   "execution_count": null,
   "id": "6230445b",
   "metadata": {},
   "outputs": [],
   "source": []
  },
  {
   "cell_type": "markdown",
   "id": "ebdba9eb",
   "metadata": {},
   "source": [
    "# Motif intergenic MEME\n",
    "TAATGTGC.AAT.T\n",
    "A.ATT.GCACATTA"
   ]
  },
  {
   "cell_type": "code",
   "execution_count": 16,
   "id": "7261d64b",
   "metadata": {},
   "outputs": [],
   "source": [
    "find_coord('/home/nastya/Bacteroides_uniformis_annotations/metatranscriptomics/b_uni_type.fa', r\"TAATGTGC.AAT.T\", r\"A.ATT.GCACATTA\", 'meme_cand')"
   ]
  },
  {
   "cell_type": "code",
   "execution_count": 7,
   "id": "67391f4e",
   "metadata": {},
   "outputs": [],
   "source": [
    "kilo_take('/home/nastya/Bacteroides_uniformis_annotations/metatranscriptomics/b_uni_type.fa', 'meme_cand_plus_motif.tsv', '+', 'meme_cand')"
   ]
  },
  {
   "cell_type": "code",
   "execution_count": 17,
   "id": "1c8d97aa",
   "metadata": {},
   "outputs": [],
   "source": [
    "def kilo2_take(fasta, coord, orient, file_prefix):\n",
    "    with open(fasta, 'r', encoding='utf-8') as inp:\n",
    "        data = str()\n",
    "        for line in inp:\n",
    "            if not line.startswith('>'):\n",
    "                data += line.strip()\n",
    "    coordinate = pd.read_csv(coord, sep='\\t', names=['start', 'end'])\n",
    "    if orient == '+':\n",
    "        for end in coordinate['end'].to_list():\n",
    "            gen_slice = data[end+1: end+2001]\n",
    "            with open(f'{file_prefix}_reg_net_plus_2k.fasta', 'a') as out:\n",
    "                out.write(f'>{end}\\n{gen_slice}\\n')\n",
    "    if orient == '-':\n",
    "        for start in coordinate['start'].to_list():\n",
    "            gen_slice = data[start-2001: start-1]\n",
    "            with open(f'{file_prefix}_reg_net_minus_2k.fasta', 'a') as out:\n",
    "                out.write(f'>{start}\\n{gen_slice}\\n')"
   ]
  },
  {
   "cell_type": "code",
   "execution_count": 19,
   "id": "ae799739",
   "metadata": {},
   "outputs": [],
   "source": [
    "kilo2_take('/home/nastya/Bacteroides_uniformis_annotations/metatranscriptomics/b_uni_type.fa', 'meme_cand_minus_motif.tsv', '-', 'meme_cand')"
   ]
  },
  {
   "cell_type": "code",
   "execution_count": 12,
   "id": "18bc0d4b",
   "metadata": {},
   "outputs": [
    {
     "data": {
      "text/plain": [
       "['TAATGTGCCAATGT',\n",
       " 'TAATGTGCTAATGT',\n",
       " 'TAATGTGCCAATGT',\n",
       " 'TAATGTGCAAATGT',\n",
       " 'TAATGTGCCAATGT',\n",
       " 'TAATGTGCCAATAT',\n",
       " 'TAATGTGCTAATGT',\n",
       " 'TAATGTGCTAATGT',\n",
       " 'TAATGTGCTAATGT',\n",
       " 'TAATGTGCCAATAT',\n",
       " 'TAATGTGCTAATGT',\n",
       " 'TAATGTGCTAATGT',\n",
       " 'TAATGTGCAAATAT',\n",
       " 'TAATGTGCCAATAT',\n",
       " 'TAATGTGCCAATAT',\n",
       " 'TAATGTGCCAATGT',\n",
       " 'TAATGTGCCAATGT']"
      ]
     },
     "execution_count": 12,
     "metadata": {},
     "output_type": "execute_result"
    }
   ],
   "source": [
    "with open('/home/nastya/Bacteroides_uniformis_annotations/metatranscriptomics/b_uni_type.fa', 'r', encoding='utf-8') as inp:\n",
    "    data = str()\n",
    "    for line in inp:\n",
    "        if not line.startswith('>'):\n",
    "            data += line.strip()\n",
    "hits = re.findall(r\"TAATGTGC.AAT.T\", data)\n",
    "hits"
   ]
  },
  {
   "cell_type": "code",
   "execution_count": 13,
   "id": "56964c86",
   "metadata": {},
   "outputs": [
    {
     "data": {
      "text/plain": [
       "['ATATTAGCACATTA',\n",
       " 'ACATTGGCACATTA',\n",
       " 'ATATTAGCACATTA',\n",
       " 'ACATTAGCACATTA',\n",
       " 'ACATTGGCACATTA',\n",
       " 'ATATTAGCACATTA',\n",
       " 'ATATTGGCACATTA',\n",
       " 'ATATTGGCACATTA',\n",
       " 'ACATTAGCACATTA',\n",
       " 'ATATTGGCACATTA',\n",
       " 'ATATTGGCACATTA',\n",
       " 'ATATTAGCACATTA',\n",
       " 'ACATTGGCACATTA',\n",
       " 'ACATTGGCACATTA',\n",
       " 'ACATTAGCACATTA']"
      ]
     },
     "execution_count": 13,
     "metadata": {},
     "output_type": "execute_result"
    }
   ],
   "source": [
    "with open('/home/nastya/Bacteroides_uniformis_annotations/metatranscriptomics/b_uni_type.fa', 'r', encoding='utf-8') as inp:\n",
    "    data = str()\n",
    "    for line in inp:\n",
    "        if not line.startswith('>'):\n",
    "            data += line.strip()\n",
    "hits = re.findall(r\"A.ATT.GCACATTA\", data)\n",
    "hits"
   ]
  }
 ],
 "metadata": {
  "kernelspec": {
   "display_name": "Python 3 (ipykernel)",
   "language": "python",
   "name": "python3"
  },
  "language_info": {
   "codemirror_mode": {
    "name": "ipython",
    "version": 3
   },
   "file_extension": ".py",
   "mimetype": "text/x-python",
   "name": "python",
   "nbconvert_exporter": "python",
   "pygments_lexer": "ipython3",
   "version": "3.9.12"
  }
 },
 "nbformat": 4,
 "nbformat_minor": 5
}
