{
 "cells": [
  {
   "cell_type": "code",
   "execution_count": 1,
   "id": "31a6a3f3",
   "metadata": {},
   "outputs": [],
   "source": [
    "import os\n",
    "import pandas as pd"
   ]
  },
  {
   "cell_type": "code",
   "execution_count": 30,
   "id": "8ed5c97e",
   "metadata": {},
   "outputs": [],
   "source": [
    "ort_seq_path = '/home/nastya/Bacteroides _uniformis_annotations/OrthoFinder/only_bacteroides/Orthogroup_Sequences/'"
   ]
  },
  {
   "cell_type": "code",
   "execution_count": null,
   "id": "10628cd0",
   "metadata": {},
   "outputs": [],
   "source": [
    "'WP_008767434.1'\n",
    "'WP_011108539.1'"
   ]
  },
  {
   "cell_type": "code",
   "execution_count": 31,
   "id": "44cb545f",
   "metadata": {},
   "outputs": [
    {
     "name": "stdout",
     "output_type": "stream",
     "text": [
      "lexA1 OG0001923.fa\n",
      "lexA2 OG0001923.fa\n"
     ]
    }
   ],
   "source": [
    "for file in os.listdir(ort_seq_path):\n",
    "    id_pool = []\n",
    "    file_name = ort_seq_path+file\n",
    "    with open(file_name, 'r') as inp:\n",
    "        for lines in inp:\n",
    "            line = inp.readline()\n",
    "            if line.startswith('>'):\n",
    "                id_pool.append(line.strip('>').strip('\\n'))\n",
    "    if 'WP_008767434.1' in id_pool:\n",
    "        print('lexA1', file)\n",
    "    if 'WP_011108539.1' in id_pool:\n",
    "        print('lexA2', file)"
   ]
  },
  {
   "cell_type": "code",
   "execution_count": 11,
   "id": "b487b997",
   "metadata": {},
   "outputs": [
    {
     "data": {
      "text/plain": [
       "['WP_072542446.1', 'WP_072542451.1']"
      ]
     },
     "execution_count": 11,
     "metadata": {},
     "output_type": "execute_result"
    }
   ],
   "source": [
    "id_pool"
   ]
  },
  {
   "cell_type": "code",
   "execution_count": 9,
   "id": "8b9a54f1",
   "metadata": {},
   "outputs": [],
   "source": [
    "from Bio import SeqIO"
   ]
  },
  {
   "cell_type": "code",
   "execution_count": 16,
   "id": "1d478bd3",
   "metadata": {},
   "outputs": [
    {
     "name": "stdout",
     "output_type": "stream",
     "text": [
      "WP_024988488.1 237\n",
      "WP_077152751.1 237\n",
      "WP_077152806.1 237\n",
      "WP_005676620.1 237\n",
      "WP_005682146.1 237\n",
      "WP_065539927.1 237\n",
      "WP_060408472.1 203\n",
      "WP_195424457.1 240\n",
      "WP_195507978.1 238\n",
      "WP_022138389.1 237\n",
      "WP_101544494.1 240\n",
      "WP_125039596.1 237\n",
      "WP_025075818.1 237\n",
      "WP_010535945.1 236\n",
      "WP_055270926.1 241\n",
      "WP_009125834.1 240\n",
      "WP_041579133.1 240\n",
      "WP_106069657.1 240\n",
      "WP_071146722.1 236\n",
      "WP_115502665.1 240\n",
      "WP_004322605.1 237\n",
      "WP_143257502.1 224\n",
      "WP_185911568.1 237\n",
      "WP_185911576.1 237\n",
      "WP_072542787.1 222\n",
      "WP_071148444.1 240\n",
      "WP_052332559.1 171\n",
      "WP_004326695.1 256\n",
      "WP_009130131.1 240\n",
      "WP_009131720.1 240\n",
      "WP_004298849.1 237\n",
      "WP_148727130.1 237\n",
      "WP_044164789.1 236\n",
      "WP_025834612.1 241\n",
      "WP_025833229.1 240\n",
      "WP_025834876.1 222\n",
      "WP_008767434.1 236\n",
      "WP_011108539.1 241\n",
      "WP_005825301.1 240\n",
      "WP_008641536.1 237\n",
      "WP_122136077.1 237\n",
      "WP_122138481.1 225\n"
     ]
    }
   ],
   "source": [
    "for record in SeqIO.parse('/home/nastya/Bacteroides_uniformis_annotations/OrthoFinder/only_bacteroides/Orthogroup_Sequences/OG0001923.fa','fasta'):\n",
    "    print(record.id, len(record.seq))"
   ]
  },
  {
   "cell_type": "code",
   "execution_count": null,
   "id": "f76bb54d",
   "metadata": {},
   "outputs": [],
   "source": [
    "##For res with 10 Bacteroidetes"
   ]
  },
  {
   "cell_type": "code",
   "execution_count": 49,
   "id": "354b8973",
   "metadata": {},
   "outputs": [],
   "source": [
    "ort_seq_path = '/home/nastya/Bacteroides _uniformis_annotations/OrthoFinder/bacteroides+10+ecoli/Orthogroup_Sequences/'"
   ]
  },
  {
   "cell_type": "code",
   "execution_count": 50,
   "id": "87adfebb",
   "metadata": {},
   "outputs": [
    {
     "name": "stdout",
     "output_type": "stream",
     "text": [
      "Rufibacter radiotolerans OG0002698.fa\n",
      "Phnomibacter ginsenosidimutans OG0002698.fa\n",
      "Cytophaga hutchinsonii OG0002698.fa\n",
      "Pontibacter korlensis OG0002698.fa\n"
     ]
    }
   ],
   "source": [
    "for file in os.listdir(ort_seq_path):\n",
    "    id_pool = []\n",
    "    file_name = ort_seq_path+file\n",
    "    with open(file_name, 'r') as inp:\n",
    "        for lines in inp:\n",
    "            line = inp.readline()\n",
    "            if line.startswith('>'):\n",
    "                id_pool.append(line.strip('>').strip('\\n'))\n",
    "    if 'WP_008767434.1' in id_pool:\n",
    "        print('lexA1', file)\n",
    "    if 'WP_011108539.1' in id_pool:\n",
    "        print('lexA2', file)\n",
    "    if 'WP_025606010.1' in id_pool:\n",
    "        print('Pontibacter actiniarum', file)\n",
    "    if 'WP_048920561.1' in id_pool:\n",
    "        print('Rufibacter radiotolerans', file)\n",
    "    if 'WP_012794432.1' in id_pool:\n",
    "        print('Chitinophaga pinensis', file)\n",
    "    if 'WP_066403704.1' in id_pool:\n",
    "        print('Flavisolibacter tropicus', file)\n",
    "    if 'WP_157478948.1' in id_pool:\n",
    "        print('Phnomibacter ginsenosidimutans', file)\n",
    "    if 'WP_011585264.1' in id_pool:\n",
    "        print('Cytophaga hutchinsonii', file)\n",
    "    if 'WP_161890715.1' in id_pool:\n",
    "        print('Pontibacter russatus', file)\n",
    "    if 'WP_046312868.1' in id_pool:\n",
    "        print('Pontibacter korlensis', file)\n",
    "    if 'WP_139516858.1' in id_pool:\n",
    "        print('Hymenobacter jejuensis', file)\n",
    "    #if 'NP_418467.1' in id_pool:\n",
    "        #print('ecoli lexa', file)"
   ]
  },
  {
   "cell_type": "code",
   "execution_count": 41,
   "id": "ae15542d",
   "metadata": {},
   "outputs": [],
   "source": [
    "id_gene = []\n",
    "file_name = ort_seq_path+'OG0002698.fa'\n",
    "with open(file_name, 'r') as inp:\n",
    "    for lines in inp:\n",
    "        line = inp.readline()\n",
    "        if line.startswith('>'):\n",
    "            id_gene.append(line.strip('>').strip('\\n'))"
   ]
  },
  {
   "cell_type": "code",
   "execution_count": 42,
   "id": "68fa902e",
   "metadata": {},
   "outputs": [
    {
     "data": {
      "text/plain": [
       "['WP_125041271.1',\n",
       " 'WP_073349222.1',\n",
       " 'WP_055268543.1',\n",
       " 'WP_007486926.1',\n",
       " 'WP_004327295.1',\n",
       " 'WP_122138717.1',\n",
       " 'WP_012791484.1',\n",
       " 'WP_011585264.1',\n",
       " 'WP_066408025.1',\n",
       " 'WP_157478948.1',\n",
       " 'WP_046312868.1',\n",
       " 'WP_048920561.1']"
      ]
     },
     "execution_count": 42,
     "metadata": {},
     "output_type": "execute_result"
    }
   ],
   "source": [
    "id_gene"
   ]
  },
  {
   "cell_type": "code",
   "execution_count": 46,
   "id": "3f09e31b",
   "metadata": {},
   "outputs": [],
   "source": [
    "import os\n",
    "import re\n",
    "import logging\n",
    "import pandas as pd\n",
    "import requests\n",
    "from bs4 import BeautifulSoup"
   ]
  },
  {
   "cell_type": "code",
   "execution_count": 48,
   "id": "0b463d35",
   "metadata": {},
   "outputs": [
    {
     "name": "stdout",
     "output_type": "stream",
     "text": [
      "Bacteroides faecalis WP_125041271.1\n",
      "Bacteroides faecichinchillae WP_073349222.1\n",
      "Bacteroides WP_055268543.1\n",
      "Bacteroides nordii WP_007486926.1\n",
      "WP_004327295.1\n",
      "Bacteroides WP_122138717.1\n",
      "Chitinophaga pinensis WP_012791484.1\n",
      "Cytophaga hutchinsonii WP_011585264.1\n",
      "Flavisolibacter tropicus WP_066408025.1\n",
      "Phnomibacter ginsenosidimutans WP_157478948.1\n",
      "Pontibacter korlensis WP_046312868.1\n",
      "Rufibacter radiotolerans WP_048920561.1\n"
     ]
    }
   ],
   "source": [
    "for gene_id in id_gene:\n",
    "    try:\n",
    "        url = \"https://www.ncbi.nlm.nih.gov/protein/{}\"\n",
    "        r = requests.get(url.format(gene_id))  # Access url page of input platform\n",
    "        data = r.text  # Get whole page in HTML format\n",
    "        soup = str(BeautifulSoup(data, \"html.parser\"))  # Pull data from HTML format\n",
    "        req = re.search(\n",
    "            r\"<title>.*?/[.*/]\", soup, re.DOTALL | re.MULTILINE\n",
    "        )  # Get data from Title field\n",
    "        result = \"\"  # Data extracted from req and/or req1 fields will be put into result\n",
    "        if req:\n",
    "            result = str(req.group())\n",
    "        res = re.search(r\"(?<=\\[).+?(?=\\])\", result).group()\n",
    "        print(res, gene_id)\n",
    "    except:\n",
    "        print(gene_id)"
   ]
  },
  {
   "cell_type": "markdown",
   "id": "af9a9615",
   "metadata": {},
   "source": [
    "# new analysis 22.11.2022\n",
    "# Panakota tool"
   ]
  },
  {
   "cell_type": "code",
   "execution_count": null,
   "id": "66361499",
   "metadata": {},
   "outputs": [],
   "source": []
  },
  {
   "cell_type": "code",
   "execution_count": null,
   "id": "902543ae",
   "metadata": {},
   "outputs": [],
   "source": [
    "BACT.1122.00010.0001i_01090\n",
    "BACT.1122.00010.0001i_00808\n",
    "\n",
    "BACT.1122.00010.0001i_03650"
   ]
  },
  {
   "cell_type": "code",
   "execution_count": 1,
   "id": "a59cfbf3",
   "metadata": {},
   "outputs": [],
   "source": [
    "#!/usr/bin/python\n",
    "\n",
    "import os\n",
    "\n",
    "ort_seq_path = '/home/nastya/Bacteroides_uniformis_annotations/OrthoFinder/Panacota_50/Orthogroup_Sequences/'\n",
    "for file in os.listdir(ort_seq_path):\n",
    "    id_pool = []\n",
    "    file_name = ort_seq_path+file\n",
    "    with open(file_name, 'r') as inp:\n",
    "        for lines in inp:\n",
    "            line = inp.readline()\n",
    "            if line.startswith('>'):\n",
    "                id_pool.append(line.strip('>').strip('\\n'))\n",
    "    if 'BACT.1122.00010.0001i_01090' in id_pool:\n",
    "        print('lexA1', file)\n",
    "    if 'BACT.1122.00010.0001i_00808' in id_pool:\n",
    "        print('lexA2', file)\n",
    "    if 'BACT.1122.00010.0001i_03650' in id_pool:\n",
    "        print('enigma 3', file)"
   ]
  }
 ],
 "metadata": {
  "kernelspec": {
   "display_name": "Python 3 (ipykernel)",
   "language": "python",
   "name": "python3"
  },
  "language_info": {
   "codemirror_mode": {
    "name": "ipython",
    "version": 3
   },
   "file_extension": ".py",
   "mimetype": "text/x-python",
   "name": "python",
   "nbconvert_exporter": "python",
   "pygments_lexer": "ipython3",
   "version": "3.9.12"
  }
 },
 "nbformat": 4,
 "nbformat_minor": 5
}
