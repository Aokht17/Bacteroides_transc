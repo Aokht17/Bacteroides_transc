{
 "cells": [
  {
   "cell_type": "code",
   "execution_count": 1,
   "id": "600c95b6",
   "metadata": {},
   "outputs": [],
   "source": [
    "import pandas as pd"
   ]
  },
  {
   "cell_type": "code",
   "execution_count": 2,
   "id": "0115baa3",
   "metadata": {},
   "outputs": [
    {
     "data": {
      "text/html": [
       "<div>\n",
       "<style scoped>\n",
       "    .dataframe tbody tr th:only-of-type {\n",
       "        vertical-align: middle;\n",
       "    }\n",
       "\n",
       "    .dataframe tbody tr th {\n",
       "        vertical-align: top;\n",
       "    }\n",
       "\n",
       "    .dataframe thead th {\n",
       "        text-align: right;\n",
       "    }\n",
       "</style>\n",
       "<table border=\"1\" class=\"dataframe\">\n",
       "  <thead>\n",
       "    <tr style=\"text-align: right;\">\n",
       "      <th></th>\n",
       "      <th>HOG</th>\n",
       "      <th>OG</th>\n",
       "      <th>Gene Tree Parent Clade</th>\n",
       "      <th>Bacteroides_acidifaciens_GCF_910575425.1</th>\n",
       "      <th>Bacteroides_bouchesdurhonensis_GCF_900155865.1</th>\n",
       "      <th>Bacteroides_caccae_GCF_018292205.1</th>\n",
       "      <th>Bacteroides_caecigallinarum_GCF_016901995.1</th>\n",
       "      <th>Bacteroides_caecimuris_GCF_001688725.2</th>\n",
       "      <th>Bacteroides_cellulosilyticus_GCF_018292125.1</th>\n",
       "      <th>Bacteroides_clarus_GCF_015555825.1</th>\n",
       "      <th>...</th>\n",
       "      <th>Bacteroides_stercorirosoris_GCF_900142015.1</th>\n",
       "      <th>Bacteroides_stercoris_GCF_000154525.1</th>\n",
       "      <th>Bacteroides_thetaiotaomicron_GCF_014131755.1</th>\n",
       "      <th>Bacteroides_timonensis_GCF_000513195.1</th>\n",
       "      <th>Bacteroides_togonis_GCF_900130135.1</th>\n",
       "      <th>Bacteroides_uniformis_GCF_018292165.1</th>\n",
       "      <th>Bacteroides_xylanisolvens_GCF_018289135.1</th>\n",
       "      <th>Bacteroides_zhangwenhongii_GCF_009193325.2</th>\n",
       "      <th>Bacteroides_zoogleoformans_GCF_002998435.1</th>\n",
       "      <th>Candidatus_Bacteroides_intestinigallinarum_GCF_024793055.1</th>\n",
       "    </tr>\n",
       "  </thead>\n",
       "  <tbody>\n",
       "    <tr>\n",
       "      <th>0</th>\n",
       "      <td>N0.HOG0005798</td>\n",
       "      <td>OG0001821</td>\n",
       "      <td>n2</td>\n",
       "      <td>NaN</td>\n",
       "      <td>NaN</td>\n",
       "      <td>NaN</td>\n",
       "      <td>NaN</td>\n",
       "      <td>NaN</td>\n",
       "      <td>BACT.1122.00017.0001i_01110, BACT.1122.00017.0...</td>\n",
       "      <td>NaN</td>\n",
       "      <td>...</td>\n",
       "      <td>BACT.1122.00043.0051i_02361, BACT.1122.00043.0...</td>\n",
       "      <td>NaN</td>\n",
       "      <td>BACT.1122.00010.0001i_00808</td>\n",
       "      <td>NaN</td>\n",
       "      <td>NaN</td>\n",
       "      <td>BACT.1122.00014.0001i_03527</td>\n",
       "      <td>NaN</td>\n",
       "      <td>NaN</td>\n",
       "      <td>NaN</td>\n",
       "      <td>NaN</td>\n",
       "    </tr>\n",
       "    <tr>\n",
       "      <th>1</th>\n",
       "      <td>N0.HOG0005799</td>\n",
       "      <td>OG0001821</td>\n",
       "      <td>n17</td>\n",
       "      <td>BACT.1122.00046.0079b_04268</td>\n",
       "      <td>BACT.1122.00025.0001i_00200, BACT.1122.00025.0...</td>\n",
       "      <td>BACT.1122.00018.0001i_00753, BACT.1122.00018.0...</td>\n",
       "      <td>NaN</td>\n",
       "      <td>BACT.1122.00002.0001i_03728</td>\n",
       "      <td>BACT.1122.00017.0001i_03592</td>\n",
       "      <td>NaN</td>\n",
       "      <td>...</td>\n",
       "      <td>NaN</td>\n",
       "      <td>NaN</td>\n",
       "      <td>BACT.1122.00010.0001i_01090</td>\n",
       "      <td>BACT.1122.00050.0088i_03363</td>\n",
       "      <td>NaN</td>\n",
       "      <td>NaN</td>\n",
       "      <td>BACT.1122.00019.0001i_03981</td>\n",
       "      <td>NaN</td>\n",
       "      <td>NaN</td>\n",
       "      <td>BACT.1122.00011.0001i_01291</td>\n",
       "    </tr>\n",
       "  </tbody>\n",
       "</table>\n",
       "<p>2 rows × 53 columns</p>\n",
       "</div>"
      ],
      "text/plain": [
       "             HOG         OG Gene Tree Parent Clade  \\\n",
       "0  N0.HOG0005798  OG0001821                     n2   \n",
       "1  N0.HOG0005799  OG0001821                    n17   \n",
       "\n",
       "  Bacteroides_acidifaciens_GCF_910575425.1  \\\n",
       "0                                      NaN   \n",
       "1              BACT.1122.00046.0079b_04268   \n",
       "\n",
       "      Bacteroides_bouchesdurhonensis_GCF_900155865.1  \\\n",
       "0                                                NaN   \n",
       "1  BACT.1122.00025.0001i_00200, BACT.1122.00025.0...   \n",
       "\n",
       "                  Bacteroides_caccae_GCF_018292205.1  \\\n",
       "0                                                NaN   \n",
       "1  BACT.1122.00018.0001i_00753, BACT.1122.00018.0...   \n",
       "\n",
       "   Bacteroides_caecigallinarum_GCF_016901995.1  \\\n",
       "0                                          NaN   \n",
       "1                                          NaN   \n",
       "\n",
       "  Bacteroides_caecimuris_GCF_001688725.2  \\\n",
       "0                                    NaN   \n",
       "1            BACT.1122.00002.0001i_03728   \n",
       "\n",
       "        Bacteroides_cellulosilyticus_GCF_018292125.1  \\\n",
       "0  BACT.1122.00017.0001i_01110, BACT.1122.00017.0...   \n",
       "1                        BACT.1122.00017.0001i_03592   \n",
       "\n",
       "   Bacteroides_clarus_GCF_015555825.1  ...  \\\n",
       "0                                 NaN  ...   \n",
       "1                                 NaN  ...   \n",
       "\n",
       "         Bacteroides_stercorirosoris_GCF_900142015.1  \\\n",
       "0  BACT.1122.00043.0051i_02361, BACT.1122.00043.0...   \n",
       "1                                                NaN   \n",
       "\n",
       "   Bacteroides_stercoris_GCF_000154525.1  \\\n",
       "0                                    NaN   \n",
       "1                                    NaN   \n",
       "\n",
       "  Bacteroides_thetaiotaomicron_GCF_014131755.1  \\\n",
       "0                  BACT.1122.00010.0001i_00808   \n",
       "1                  BACT.1122.00010.0001i_01090   \n",
       "\n",
       "   Bacteroides_timonensis_GCF_000513195.1 Bacteroides_togonis_GCF_900130135.1  \\\n",
       "0                                     NaN                                 NaN   \n",
       "1             BACT.1122.00050.0088i_03363                                 NaN   \n",
       "\n",
       "  Bacteroides_uniformis_GCF_018292165.1  \\\n",
       "0           BACT.1122.00014.0001i_03527   \n",
       "1                                   NaN   \n",
       "\n",
       "  Bacteroides_xylanisolvens_GCF_018289135.1  \\\n",
       "0                                       NaN   \n",
       "1               BACT.1122.00019.0001i_03981   \n",
       "\n",
       "   Bacteroides_zhangwenhongii_GCF_009193325.2  \\\n",
       "0                                         NaN   \n",
       "1                                         NaN   \n",
       "\n",
       "  Bacteroides_zoogleoformans_GCF_002998435.1  \\\n",
       "0                                        NaN   \n",
       "1                                        NaN   \n",
       "\n",
       "   Candidatus_Bacteroides_intestinigallinarum_GCF_024793055.1  \n",
       "0                                                NaN           \n",
       "1                        BACT.1122.00011.0001i_01291           \n",
       "\n",
       "[2 rows x 53 columns]"
      ]
     },
     "execution_count": 2,
     "metadata": {},
     "output_type": "execute_result"
    }
   ],
   "source": [
    "data = pd.read_csv('N0.csv', sep='\\t')\n",
    "data"
   ]
  },
  {
   "cell_type": "code",
   "execution_count": 3,
   "id": "df869274",
   "metadata": {},
   "outputs": [
    {
     "data": {
      "text/html": [
       "<div>\n",
       "<style scoped>\n",
       "    .dataframe tbody tr th:only-of-type {\n",
       "        vertical-align: middle;\n",
       "    }\n",
       "\n",
       "    .dataframe tbody tr th {\n",
       "        vertical-align: top;\n",
       "    }\n",
       "\n",
       "    .dataframe thead th {\n",
       "        text-align: right;\n",
       "    }\n",
       "</style>\n",
       "<table border=\"1\" class=\"dataframe\">\n",
       "  <thead>\n",
       "    <tr style=\"text-align: right;\">\n",
       "      <th></th>\n",
       "      <th>Bacteroides_acidifaciens_GCF_910575425.1</th>\n",
       "      <th>Bacteroides_bouchesdurhonensis_GCF_900155865.1</th>\n",
       "      <th>Bacteroides_caccae_GCF_018292205.1</th>\n",
       "      <th>Bacteroides_caecigallinarum_GCF_016901995.1</th>\n",
       "      <th>Bacteroides_caecimuris_GCF_001688725.2</th>\n",
       "      <th>Bacteroides_cellulosilyticus_GCF_018292125.1</th>\n",
       "      <th>Bacteroides_clarus_GCF_015555825.1</th>\n",
       "      <th>Bacteroides_congonensis_GCF_900130125.1</th>\n",
       "      <th>Bacteroides_coprosuis_GCF_000212915.1</th>\n",
       "      <th>Bacteroides_cutis_GCF_900241005.1</th>\n",
       "      <th>...</th>\n",
       "      <th>Bacteroides_stercorirosoris_GCF_900142015.1</th>\n",
       "      <th>Bacteroides_stercoris_GCF_000154525.1</th>\n",
       "      <th>Bacteroides_thetaiotaomicron_GCF_014131755.1</th>\n",
       "      <th>Bacteroides_timonensis_GCF_000513195.1</th>\n",
       "      <th>Bacteroides_togonis_GCF_900130135.1</th>\n",
       "      <th>Bacteroides_uniformis_GCF_018292165.1</th>\n",
       "      <th>Bacteroides_xylanisolvens_GCF_018289135.1</th>\n",
       "      <th>Bacteroides_zhangwenhongii_GCF_009193325.2</th>\n",
       "      <th>Bacteroides_zoogleoformans_GCF_002998435.1</th>\n",
       "      <th>Candidatus_Bacteroides_intestinigallinarum_GCF_024793055.1</th>\n",
       "    </tr>\n",
       "  </thead>\n",
       "  <tbody>\n",
       "    <tr>\n",
       "      <th>0</th>\n",
       "      <td>NaN</td>\n",
       "      <td>NaN</td>\n",
       "      <td>NaN</td>\n",
       "      <td>NaN</td>\n",
       "      <td>NaN</td>\n",
       "      <td>BACT.1122.00017.0001i_01110, BACT.1122.00017.0...</td>\n",
       "      <td>NaN</td>\n",
       "      <td>NaN</td>\n",
       "      <td>NaN</td>\n",
       "      <td>BACT.1122.00028.0006i_00446</td>\n",
       "      <td>...</td>\n",
       "      <td>BACT.1122.00043.0051i_02361, BACT.1122.00043.0...</td>\n",
       "      <td>NaN</td>\n",
       "      <td>BACT.1122.00010.0001i_00808</td>\n",
       "      <td>NaN</td>\n",
       "      <td>NaN</td>\n",
       "      <td>BACT.1122.00014.0001i_03527</td>\n",
       "      <td>NaN</td>\n",
       "      <td>NaN</td>\n",
       "      <td>NaN</td>\n",
       "      <td>NaN</td>\n",
       "    </tr>\n",
       "    <tr>\n",
       "      <th>1</th>\n",
       "      <td>BACT.1122.00046.0079b_04268</td>\n",
       "      <td>BACT.1122.00025.0001i_00200, BACT.1122.00025.0...</td>\n",
       "      <td>BACT.1122.00018.0001i_00753, BACT.1122.00018.0...</td>\n",
       "      <td>NaN</td>\n",
       "      <td>BACT.1122.00002.0001i_03728</td>\n",
       "      <td>BACT.1122.00017.0001i_03592</td>\n",
       "      <td>NaN</td>\n",
       "      <td>BACT.1122.00026.0011i_04441</td>\n",
       "      <td>NaN</td>\n",
       "      <td>NaN</td>\n",
       "      <td>...</td>\n",
       "      <td>NaN</td>\n",
       "      <td>NaN</td>\n",
       "      <td>BACT.1122.00010.0001i_01090</td>\n",
       "      <td>BACT.1122.00050.0088i_03363</td>\n",
       "      <td>NaN</td>\n",
       "      <td>NaN</td>\n",
       "      <td>BACT.1122.00019.0001i_03981</td>\n",
       "      <td>NaN</td>\n",
       "      <td>NaN</td>\n",
       "      <td>BACT.1122.00011.0001i_01291</td>\n",
       "    </tr>\n",
       "  </tbody>\n",
       "</table>\n",
       "<p>2 rows × 50 columns</p>\n",
       "</div>"
      ],
      "text/plain": [
       "  Bacteroides_acidifaciens_GCF_910575425.1  \\\n",
       "0                                      NaN   \n",
       "1              BACT.1122.00046.0079b_04268   \n",
       "\n",
       "      Bacteroides_bouchesdurhonensis_GCF_900155865.1  \\\n",
       "0                                                NaN   \n",
       "1  BACT.1122.00025.0001i_00200, BACT.1122.00025.0...   \n",
       "\n",
       "                  Bacteroides_caccae_GCF_018292205.1  \\\n",
       "0                                                NaN   \n",
       "1  BACT.1122.00018.0001i_00753, BACT.1122.00018.0...   \n",
       "\n",
       "   Bacteroides_caecigallinarum_GCF_016901995.1  \\\n",
       "0                                          NaN   \n",
       "1                                          NaN   \n",
       "\n",
       "  Bacteroides_caecimuris_GCF_001688725.2  \\\n",
       "0                                    NaN   \n",
       "1            BACT.1122.00002.0001i_03728   \n",
       "\n",
       "        Bacteroides_cellulosilyticus_GCF_018292125.1  \\\n",
       "0  BACT.1122.00017.0001i_01110, BACT.1122.00017.0...   \n",
       "1                        BACT.1122.00017.0001i_03592   \n",
       "\n",
       "   Bacteroides_clarus_GCF_015555825.1 Bacteroides_congonensis_GCF_900130125.1  \\\n",
       "0                                 NaN                                     NaN   \n",
       "1                                 NaN             BACT.1122.00026.0011i_04441   \n",
       "\n",
       "   Bacteroides_coprosuis_GCF_000212915.1 Bacteroides_cutis_GCF_900241005.1  \\\n",
       "0                                    NaN       BACT.1122.00028.0006i_00446   \n",
       "1                                    NaN                               NaN   \n",
       "\n",
       "   ...        Bacteroides_stercorirosoris_GCF_900142015.1  \\\n",
       "0  ...  BACT.1122.00043.0051i_02361, BACT.1122.00043.0...   \n",
       "1  ...                                                NaN   \n",
       "\n",
       "  Bacteroides_stercoris_GCF_000154525.1  \\\n",
       "0                                   NaN   \n",
       "1                                   NaN   \n",
       "\n",
       "  Bacteroides_thetaiotaomicron_GCF_014131755.1  \\\n",
       "0                  BACT.1122.00010.0001i_00808   \n",
       "1                  BACT.1122.00010.0001i_01090   \n",
       "\n",
       "  Bacteroides_timonensis_GCF_000513195.1  Bacteroides_togonis_GCF_900130135.1  \\\n",
       "0                                    NaN                                  NaN   \n",
       "1            BACT.1122.00050.0088i_03363                                  NaN   \n",
       "\n",
       "  Bacteroides_uniformis_GCF_018292165.1  \\\n",
       "0           BACT.1122.00014.0001i_03527   \n",
       "1                                   NaN   \n",
       "\n",
       "   Bacteroides_xylanisolvens_GCF_018289135.1  \\\n",
       "0                                        NaN   \n",
       "1                BACT.1122.00019.0001i_03981   \n",
       "\n",
       "   Bacteroides_zhangwenhongii_GCF_009193325.2  \\\n",
       "0                                         NaN   \n",
       "1                                         NaN   \n",
       "\n",
       "   Bacteroides_zoogleoformans_GCF_002998435.1  \\\n",
       "0                                         NaN   \n",
       "1                                         NaN   \n",
       "\n",
       "  Candidatus_Bacteroides_intestinigallinarum_GCF_024793055.1  \n",
       "0                                                NaN          \n",
       "1                        BACT.1122.00011.0001i_01291          \n",
       "\n",
       "[2 rows x 50 columns]"
      ]
     },
     "execution_count": 3,
     "metadata": {},
     "output_type": "execute_result"
    }
   ],
   "source": [
    "data = data.drop(['HOG', 'OG', 'Gene Tree Parent Clade'], axis=1)\n",
    "data"
   ]
  },
  {
   "cell_type": "code",
   "execution_count": 4,
   "id": "3e55d505",
   "metadata": {},
   "outputs": [],
   "source": [
    "import numpy as np"
   ]
  },
  {
   "cell_type": "code",
   "execution_count": 5,
   "id": "729c52a6",
   "metadata": {},
   "outputs": [
    {
     "name": "stdout",
     "output_type": "stream",
     "text": [
      "nan\n",
      "nan\n",
      "nan\n",
      "nan\n",
      "nan\n",
      "nan\n",
      "nan\n",
      "nan\n",
      "nan\n",
      "nan\n",
      "nan\n",
      "nan\n",
      "nan\n",
      "nan\n",
      "nan\n",
      "nan\n",
      "nan\n",
      "nan\n",
      "nan\n",
      "nan\n",
      "nan\n",
      "nan\n",
      "nan\n",
      "nan\n",
      "nan\n",
      "nan\n",
      "nan\n",
      "nan\n",
      "nan\n",
      "nan\n",
      "nan\n",
      "nan\n",
      "nan\n",
      "nan\n",
      "nan\n",
      "nan\n",
      "nan\n",
      "nan\n",
      "nan\n",
      "nan\n",
      "nan\n",
      "nan\n",
      "nan\n",
      "nan\n",
      "nan\n",
      "nan\n",
      "nan\n",
      "nan\n",
      "nan\n",
      "nan\n",
      "nan\n",
      "nan\n",
      "nan\n",
      "nan\n",
      "nan\n",
      "nan\n",
      "nan\n",
      "nan\n",
      "nan\n",
      "nan\n",
      "nan\n",
      "nan\n",
      "nan\n",
      "nan\n",
      "nan\n",
      "nan\n"
     ]
    }
   ],
   "source": [
    "ex_list = []\n",
    "for i in data.columns:\n",
    "    new_list = data[i].to_list()\n",
    "    for j in new_list:\n",
    "        try:\n",
    "            n = j.split(',')\n",
    "            ex_list.extend(n)\n",
    "        except:\n",
    "            print(j)"
   ]
  },
  {
   "cell_type": "code",
   "execution_count": 6,
   "id": "906936d9",
   "metadata": {},
   "outputs": [
    {
     "data": {
      "text/plain": [
       "['BACT.1122.00046.0079b_04268',\n",
       " 'BACT.1122.00025.0001i_00200',\n",
       " ' BACT.1122.00025.0002i_00320',\n",
       " ' BACT.1122.00025.0002i_00430',\n",
       " 'BACT.1122.00018.0001i_00753',\n",
       " ' BACT.1122.00018.0001i_00988',\n",
       " 'BACT.1122.00002.0001i_03728',\n",
       " 'BACT.1122.00017.0001i_01110',\n",
       " ' BACT.1122.00017.0001i_05334',\n",
       " 'BACT.1122.00017.0001i_03592',\n",
       " 'BACT.1122.00026.0011i_04441',\n",
       " 'BACT.1122.00028.0006i_00446',\n",
       " 'BACT.1122.00038.0001i_00132',\n",
       " 'BACT.1122.00042.0040i_00787',\n",
       " ' BACT.1122.00042.0078i_03758',\n",
       " ' BACT.1122.00042.0040i_00786',\n",
       " ' BACT.1122.00042.0031i_00294',\n",
       " 'BACT.1122.00016.0001i_00630',\n",
       " 'BACT.1122.00016.0001i_00843',\n",
       " 'BACT.1122.00044.0050i_02351',\n",
       " 'BACT.1122.00005.0001i_00420',\n",
       " 'BACT.1122.00009.0001i_01926',\n",
       " 'BACT.1122.00021.0003i_03076',\n",
       " 'BACT.1122.00020.0002i_01964',\n",
       " 'BACT.1122.00039.0006i_00689',\n",
       " 'BACT.1122.00003.0001i_02800',\n",
       " ' BACT.1122.00003.0001i_00939',\n",
       " ' BACT.1122.00003.0001i_00711',\n",
       " 'BACT.1122.00023.0004i_02052',\n",
       " 'BACT.1122.00022.0010i_04023',\n",
       " 'BACT.1122.00034.0025i_03812',\n",
       " 'BACT.1122.00032.0010i_02594',\n",
       " ' BACT.1122.00032.0019i_04226',\n",
       " 'BACT.1122.00032.0023i_04935',\n",
       " 'BACT.1122.00008.0001i_03248',\n",
       " 'BACT.1122.00041.0104i_02706',\n",
       " 'BACT.1122.00048.0123i_01944',\n",
       " 'BACT.1122.00043.0051i_02361',\n",
       " ' BACT.1122.00043.0063i_03234',\n",
       " 'BACT.1122.00010.0001i_00808',\n",
       " 'BACT.1122.00010.0001i_01090',\n",
       " 'BACT.1122.00050.0088i_03363',\n",
       " 'BACT.1122.00014.0001i_03527',\n",
       " 'BACT.1122.00019.0001i_03981',\n",
       " 'BACT.1122.00011.0001i_01291']"
      ]
     },
     "execution_count": 6,
     "metadata": {},
     "output_type": "execute_result"
    }
   ],
   "source": [
    "ex_list"
   ]
  },
  {
   "cell_type": "code",
   "execution_count": 7,
   "id": "370f7e0e",
   "metadata": {},
   "outputs": [],
   "source": [
    "ex_list = [i.strip() for i in ex_list]"
   ]
  },
  {
   "cell_type": "code",
   "execution_count": 8,
   "id": "98008446",
   "metadata": {},
   "outputs": [],
   "source": [
    "ref = ['BACT.1122.00032.0010i_02594',\n",
    "'BACT.1122.00032.0019i_04226',\n",
    "'BACT.1122.00032.0023i_04935',\n",
    "'BACT.1122.00008.0001i_03248',\n",
    "'BACT.1122.00037.0009i_02106',\n",
    "'BACT.1122.00048.0123i_01944',\n",
    "'BACT.1122.00043.0051i_02361',\n",
    "'BACT.1122.00043.0063i_03234',\n",
    "'BACT.1122.00010.0001i_00808',\n",
    "'BACT.1122.00010.0001i_01090',\n",
    "'BACT.1122.00050.0088i_03363',\n",
    "'BACT.1122.00014.0001i_03527',\n",
    "'BACT.1122.00019.0001i_03981',\n",
    "'BACT.1122.00011.0001i_01291']"
   ]
  },
  {
   "cell_type": "code",
   "execution_count": 9,
   "id": "c4ce23ca",
   "metadata": {},
   "outputs": [
    {
     "data": {
      "text/plain": [
       "{'BACT.1122.00037.0009i_02106'}"
      ]
     },
     "execution_count": 9,
     "metadata": {},
     "output_type": "execute_result"
    }
   ],
   "source": [
    "set(ref)-set(ex_list)"
   ]
  },
  {
   "cell_type": "code",
   "execution_count": null,
   "id": "13c9e351",
   "metadata": {},
   "outputs": [],
   "source": [
    "\n",
    "    "
   ]
  },
  {
   "cell_type": "code",
   "execution_count": 10,
   "id": "49e22c9a",
   "metadata": {},
   "outputs": [],
   "source": [
    "col = data.columns\n",
    "copy_dict = {}\n",
    "for i in ex_list:\n",
    "    for _, row in data.iterrows():\n",
    "        for column in col:\n",
    "            try:\n",
    "                if i in row[column]:\n",
    "                    copy_dict.update({i:column})\n",
    "            except:\n",
    "                pass"
   ]
  },
  {
   "cell_type": "code",
   "execution_count": 11,
   "id": "c8b5b771",
   "metadata": {},
   "outputs": [
    {
     "data": {
      "text/plain": [
       "{'BACT.1122.00046.0079b_04268': 'Bacteroides_acidifaciens_GCF_910575425.1',\n",
       " 'BACT.1122.00025.0001i_00200': 'Bacteroides_bouchesdurhonensis_GCF_900155865.1',\n",
       " 'BACT.1122.00025.0002i_00320': 'Bacteroides_bouchesdurhonensis_GCF_900155865.1',\n",
       " 'BACT.1122.00025.0002i_00430': 'Bacteroides_bouchesdurhonensis_GCF_900155865.1',\n",
       " 'BACT.1122.00018.0001i_00753': 'Bacteroides_caccae_GCF_018292205.1',\n",
       " 'BACT.1122.00018.0001i_00988': 'Bacteroides_caccae_GCF_018292205.1',\n",
       " 'BACT.1122.00002.0001i_03728': 'Bacteroides_caecimuris_GCF_001688725.2',\n",
       " 'BACT.1122.00017.0001i_01110': 'Bacteroides_cellulosilyticus_GCF_018292125.1',\n",
       " 'BACT.1122.00017.0001i_05334': 'Bacteroides_cellulosilyticus_GCF_018292125.1',\n",
       " 'BACT.1122.00017.0001i_03592': 'Bacteroides_cellulosilyticus_GCF_018292125.1',\n",
       " 'BACT.1122.00026.0011i_04441': 'Bacteroides_congonensis_GCF_900130125.1',\n",
       " 'BACT.1122.00028.0006i_00446': 'Bacteroides_cutis_GCF_900241005.1',\n",
       " 'BACT.1122.00038.0001i_00132': 'Bacteroides_faecalis_GCF_003865075.1',\n",
       " 'BACT.1122.00042.0040i_00787': 'Bacteroides_faecichinchillae_GCF_900129065.1',\n",
       " 'BACT.1122.00042.0078i_03758': 'Bacteroides_faecichinchillae_GCF_900129065.1',\n",
       " 'BACT.1122.00042.0040i_00786': 'Bacteroides_faecichinchillae_GCF_900129065.1',\n",
       " 'BACT.1122.00042.0031i_00294': 'Bacteroides_faecichinchillae_GCF_900129065.1',\n",
       " 'BACT.1122.00016.0001i_00630': 'Bacteroides_faecis_GCF_020091505.1',\n",
       " 'BACT.1122.00016.0001i_00843': 'Bacteroides_faecis_GCF_020091505.1',\n",
       " 'BACT.1122.00044.0050i_02351': 'Bacteroides_fluxus_GCF_000195635.1',\n",
       " 'BACT.1122.00005.0001i_00420': 'Bacteroides_helcogenes_GCF_000186225.1',\n",
       " 'BACT.1122.00009.0001i_01926': 'Bacteroides_heparinolyticus_GCF_002998535.1',\n",
       " 'BACT.1122.00021.0003i_03076': 'Bacteroides_ihuae_GCF_900104585.1',\n",
       " 'BACT.1122.00020.0002i_01964': 'Bacteroides_intestinalis_GCF_020341675.1',\n",
       " 'BACT.1122.00039.0006i_00689': 'Bacteroides_koreensis_GCF_007341375.1',\n",
       " 'BACT.1122.00003.0001i_02800': 'Bacteroides_luhongzhouii_GCF_009193295.2',\n",
       " 'BACT.1122.00003.0001i_00939': 'Bacteroides_luhongzhouii_GCF_009193295.2',\n",
       " 'BACT.1122.00003.0001i_00711': 'Bacteroides_luhongzhouii_GCF_009193295.2',\n",
       " 'BACT.1122.00023.0004i_02052': 'Bacteroides_mediterraneensis_GCF_900128455.1',\n",
       " 'BACT.1122.00022.0010i_04023': 'Bacteroides_ndongoniae_GCF_900108345.1',\n",
       " 'BACT.1122.00034.0025i_03812': 'Bacteroides_neonati_GCF_902375225.1',\n",
       " 'BACT.1122.00032.0010i_02594': 'Bacteroides_oleiciplenus_GCF_902374815.1',\n",
       " 'BACT.1122.00032.0019i_04226': 'Bacteroides_oleiciplenus_GCF_902374815.1',\n",
       " 'BACT.1122.00032.0023i_04935': 'Bacteroides_oleiciplenus_GCF_902374815.1',\n",
       " 'BACT.1122.00008.0001i_03248': 'Bacteroides_ovatus_GCF_001314995.1',\n",
       " 'BACT.1122.00041.0104i_02706': 'Bacteroides_pyogenes_GCF_008121405.1',\n",
       " 'BACT.1122.00048.0123i_01944': 'Bacteroides_rodentium_GCF_000614125.1',\n",
       " 'BACT.1122.00043.0051i_02361': 'Bacteroides_stercorirosoris_GCF_900142015.1',\n",
       " 'BACT.1122.00043.0063i_03234': 'Bacteroides_stercorirosoris_GCF_900142015.1',\n",
       " 'BACT.1122.00010.0001i_00808': 'Bacteroides_thetaiotaomicron_GCF_014131755.1',\n",
       " 'BACT.1122.00010.0001i_01090': 'Bacteroides_thetaiotaomicron_GCF_014131755.1',\n",
       " 'BACT.1122.00050.0088i_03363': 'Bacteroides_timonensis_GCF_000513195.1',\n",
       " 'BACT.1122.00014.0001i_03527': 'Bacteroides_uniformis_GCF_018292165.1',\n",
       " 'BACT.1122.00019.0001i_03981': 'Bacteroides_xylanisolvens_GCF_018289135.1',\n",
       " 'BACT.1122.00011.0001i_01291': 'Candidatus_Bacteroides_intestinigallinarum_GCF_024793055.1'}"
      ]
     },
     "execution_count": 11,
     "metadata": {},
     "output_type": "execute_result"
    }
   ],
   "source": [
    "copy_dict"
   ]
  },
  {
   "cell_type": "code",
   "execution_count": 12,
   "id": "217aadad",
   "metadata": {},
   "outputs": [
    {
     "data": {
      "text/plain": [
       "45"
      ]
     },
     "execution_count": 12,
     "metadata": {},
     "output_type": "execute_result"
    }
   ],
   "source": [
    "len(copy_dict)"
   ]
  },
  {
   "cell_type": "code",
   "execution_count": 13,
   "id": "9dc19218",
   "metadata": {},
   "outputs": [],
   "source": [
    "copy_dict.update({'BACT.1122.00037.0009i_02106':'Bacteroides_reticulotermitis_GCF_014196955.1'})"
   ]
  },
  {
   "cell_type": "code",
   "execution_count": null,
   "id": "6910db38",
   "metadata": {},
   "outputs": [],
   "source": []
  },
  {
   "cell_type": "code",
   "execution_count": 14,
   "id": "09db5504",
   "metadata": {},
   "outputs": [
    {
     "name": "stdout",
     "output_type": "stream",
     "text": [
      "BACT.1122.00025.0001i_00200 133\n",
      "BACT.1122.00042.0040i_00786 138\n",
      "BACT.1122.00042.0040i_00787 89\n",
      "BACT.1122.00042.0078i_03758 63\n",
      "BACT.1122.00034.0025i_03812 171\n",
      "BACT.1122.00050.0088i_03363 51\n"
     ]
    }
   ],
   "source": [
    "from Bio import SeqIO\n",
    "for record in SeqIO.parse('/home/nastya/Bacteroides_uniformis_annotations/OrthoFinder/Panacota_50/Orthogroup_Sequences/OG0001821.fa', \"fasta\"):\n",
    "    a = len(record.seq)\n",
    "    if a < 200:\n",
    "        print(record.id, a)"
   ]
  },
  {
   "cell_type": "code",
   "execution_count": 15,
   "id": "c6bc3630",
   "metadata": {},
   "outputs": [],
   "source": [
    "del_list = ['BACT.1122.00025.0001i_00200',\n",
    "'BACT.1122.00042.0040i_00786',\n",
    "'BACT.1122.00042.0040i_00787',\n",
    "'BACT.1122.00042.0078i_03758',\n",
    "'BACT.1122.00034.0025i_03812',\n",
    "'BACT.1122.00050.0088i_03363']"
   ]
  },
  {
   "cell_type": "code",
   "execution_count": 16,
   "id": "b9521f5b",
   "metadata": {},
   "outputs": [
    {
     "name": "stdout",
     "output_type": "stream",
     "text": [
      "Bacteroides_bouchesdurhonensis_GCF_900155865.1\n",
      "Bacteroides_faecichinchillae_GCF_900129065.1\n",
      "Bacteroides_faecichinchillae_GCF_900129065.1\n",
      "Bacteroides_faecichinchillae_GCF_900129065.1\n",
      "Bacteroides_neonati_GCF_902375225.1\n",
      "Bacteroides_timonensis_GCF_000513195.1\n"
     ]
    }
   ],
   "source": [
    "for i in del_list:\n",
    "    print(copy_dict[i])"
   ]
  },
  {
   "cell_type": "code",
   "execution_count": 17,
   "id": "dbb5377c",
   "metadata": {},
   "outputs": [
    {
     "data": {
      "text/plain": [
       "dict_keys(['BACT.1122.00046.0079b_04268', 'BACT.1122.00025.0001i_00200', 'BACT.1122.00025.0002i_00320', 'BACT.1122.00025.0002i_00430', 'BACT.1122.00018.0001i_00753', 'BACT.1122.00018.0001i_00988', 'BACT.1122.00002.0001i_03728', 'BACT.1122.00017.0001i_01110', 'BACT.1122.00017.0001i_05334', 'BACT.1122.00017.0001i_03592', 'BACT.1122.00026.0011i_04441', 'BACT.1122.00028.0006i_00446', 'BACT.1122.00038.0001i_00132', 'BACT.1122.00042.0040i_00787', 'BACT.1122.00042.0078i_03758', 'BACT.1122.00042.0040i_00786', 'BACT.1122.00042.0031i_00294', 'BACT.1122.00016.0001i_00630', 'BACT.1122.00016.0001i_00843', 'BACT.1122.00044.0050i_02351', 'BACT.1122.00005.0001i_00420', 'BACT.1122.00009.0001i_01926', 'BACT.1122.00021.0003i_03076', 'BACT.1122.00020.0002i_01964', 'BACT.1122.00039.0006i_00689', 'BACT.1122.00003.0001i_02800', 'BACT.1122.00003.0001i_00939', 'BACT.1122.00003.0001i_00711', 'BACT.1122.00023.0004i_02052', 'BACT.1122.00022.0010i_04023', 'BACT.1122.00034.0025i_03812', 'BACT.1122.00032.0010i_02594', 'BACT.1122.00032.0019i_04226', 'BACT.1122.00032.0023i_04935', 'BACT.1122.00008.0001i_03248', 'BACT.1122.00041.0104i_02706', 'BACT.1122.00048.0123i_01944', 'BACT.1122.00043.0051i_02361', 'BACT.1122.00043.0063i_03234', 'BACT.1122.00010.0001i_00808', 'BACT.1122.00010.0001i_01090', 'BACT.1122.00050.0088i_03363', 'BACT.1122.00014.0001i_03527', 'BACT.1122.00019.0001i_03981', 'BACT.1122.00011.0001i_01291', 'BACT.1122.00037.0009i_02106'])"
      ]
     },
     "execution_count": 17,
     "metadata": {},
     "output_type": "execute_result"
    }
   ],
   "source": [
    "copy_dict.keys()"
   ]
  },
  {
   "cell_type": "code",
   "execution_count": 18,
   "id": "abdf42d1",
   "metadata": {},
   "outputs": [
    {
     "data": {
      "text/plain": [
       "{'BACT.1122.00046.0079b_04268': 'Bacteroides_acidifaciens_GCF_910575425.1',\n",
       " 'BACT.1122.00025.0001i_00200': 'Bacteroides_bouchesdurhonensis_GCF_900155865.1',\n",
       " 'BACT.1122.00025.0002i_00320': 'Bacteroides_bouchesdurhonensis_GCF_900155865.1',\n",
       " 'BACT.1122.00025.0002i_00430': 'Bacteroides_bouchesdurhonensis_GCF_900155865.1',\n",
       " 'BACT.1122.00018.0001i_00753': 'Bacteroides_caccae_GCF_018292205.1',\n",
       " 'BACT.1122.00018.0001i_00988': 'Bacteroides_caccae_GCF_018292205.1',\n",
       " 'BACT.1122.00002.0001i_03728': 'Bacteroides_caecimuris_GCF_001688725.2',\n",
       " 'BACT.1122.00017.0001i_01110': 'Bacteroides_cellulosilyticus_GCF_018292125.1',\n",
       " 'BACT.1122.00017.0001i_05334': 'Bacteroides_cellulosilyticus_GCF_018292125.1',\n",
       " 'BACT.1122.00017.0001i_03592': 'Bacteroides_cellulosilyticus_GCF_018292125.1',\n",
       " 'BACT.1122.00026.0011i_04441': 'Bacteroides_congonensis_GCF_900130125.1',\n",
       " 'BACT.1122.00028.0006i_00446': 'Bacteroides_cutis_GCF_900241005.1',\n",
       " 'BACT.1122.00038.0001i_00132': 'Bacteroides_faecalis_GCF_003865075.1',\n",
       " 'BACT.1122.00042.0040i_00787': 'Bacteroides_faecichinchillae_GCF_900129065.1',\n",
       " 'BACT.1122.00042.0078i_03758': 'Bacteroides_faecichinchillae_GCF_900129065.1',\n",
       " 'BACT.1122.00042.0040i_00786': 'Bacteroides_faecichinchillae_GCF_900129065.1',\n",
       " 'BACT.1122.00042.0031i_00294': 'Bacteroides_faecichinchillae_GCF_900129065.1',\n",
       " 'BACT.1122.00016.0001i_00630': 'Bacteroides_faecis_GCF_020091505.1',\n",
       " 'BACT.1122.00016.0001i_00843': 'Bacteroides_faecis_GCF_020091505.1',\n",
       " 'BACT.1122.00044.0050i_02351': 'Bacteroides_fluxus_GCF_000195635.1',\n",
       " 'BACT.1122.00005.0001i_00420': 'Bacteroides_helcogenes_GCF_000186225.1',\n",
       " 'BACT.1122.00009.0001i_01926': 'Bacteroides_heparinolyticus_GCF_002998535.1',\n",
       " 'BACT.1122.00021.0003i_03076': 'Bacteroides_ihuae_GCF_900104585.1',\n",
       " 'BACT.1122.00020.0002i_01964': 'Bacteroides_intestinalis_GCF_020341675.1',\n",
       " 'BACT.1122.00039.0006i_00689': 'Bacteroides_koreensis_GCF_007341375.1',\n",
       " 'BACT.1122.00003.0001i_02800': 'Bacteroides_luhongzhouii_GCF_009193295.2',\n",
       " 'BACT.1122.00003.0001i_00939': 'Bacteroides_luhongzhouii_GCF_009193295.2',\n",
       " 'BACT.1122.00003.0001i_00711': 'Bacteroides_luhongzhouii_GCF_009193295.2',\n",
       " 'BACT.1122.00023.0004i_02052': 'Bacteroides_mediterraneensis_GCF_900128455.1',\n",
       " 'BACT.1122.00022.0010i_04023': 'Bacteroides_ndongoniae_GCF_900108345.1',\n",
       " 'BACT.1122.00034.0025i_03812': 'Bacteroides_neonati_GCF_902375225.1',\n",
       " 'BACT.1122.00032.0010i_02594': 'Bacteroides_oleiciplenus_GCF_902374815.1',\n",
       " 'BACT.1122.00032.0019i_04226': 'Bacteroides_oleiciplenus_GCF_902374815.1',\n",
       " 'BACT.1122.00032.0023i_04935': 'Bacteroides_oleiciplenus_GCF_902374815.1',\n",
       " 'BACT.1122.00008.0001i_03248': 'Bacteroides_ovatus_GCF_001314995.1',\n",
       " 'BACT.1122.00041.0104i_02706': 'Bacteroides_pyogenes_GCF_008121405.1',\n",
       " 'BACT.1122.00048.0123i_01944': 'Bacteroides_rodentium_GCF_000614125.1',\n",
       " 'BACT.1122.00043.0051i_02361': 'Bacteroides_stercorirosoris_GCF_900142015.1',\n",
       " 'BACT.1122.00043.0063i_03234': 'Bacteroides_stercorirosoris_GCF_900142015.1',\n",
       " 'BACT.1122.00010.0001i_00808': 'Bacteroides_thetaiotaomicron_GCF_014131755.1',\n",
       " 'BACT.1122.00010.0001i_01090': 'Bacteroides_thetaiotaomicron_GCF_014131755.1',\n",
       " 'BACT.1122.00050.0088i_03363': 'Bacteroides_timonensis_GCF_000513195.1',\n",
       " 'BACT.1122.00014.0001i_03527': 'Bacteroides_uniformis_GCF_018292165.1',\n",
       " 'BACT.1122.00019.0001i_03981': 'Bacteroides_xylanisolvens_GCF_018289135.1',\n",
       " 'BACT.1122.00011.0001i_01291': 'Candidatus_Bacteroides_intestinigallinarum_GCF_024793055.1',\n",
       " 'BACT.1122.00037.0009i_02106': 'Bacteroides_reticulotermitis_GCF_014196955.1'}"
      ]
     },
     "execution_count": 18,
     "metadata": {},
     "output_type": "execute_result"
    }
   ],
   "source": [
    "copy_dict"
   ]
  },
  {
   "cell_type": "code",
   "execution_count": 19,
   "id": "d0daa2be",
   "metadata": {},
   "outputs": [],
   "source": [
    "egg = ['BACT.1122.00047.0015i_01981',\n",
    "'BACT.1122.00049.0174i_01342',\n",
    "'BACT.1122.00015.0002i_00946',\n",
    "'BACT.1122.00040.0023i_01608',\n",
    "'BACT.1122.00034.0010i_01997',\n",
    "'BACT.1122.00034.0024i_03697',\n",
    "'BACT.1122.00040.0013i_01042',\n",
    "'BACT.1122.00050.0075i_02954',\n",
    "'BACT.1122.00020.0002i_02902',\n",
    "'BACT.1122.00033.0016i_02736',\n",
    "'BACT.1122.00027.0005i_01157',\n",
    "'BACT.1122.00035.0022i_01266',\n",
    "'BACT.1122.00015.0002i_02400',\n",
    "'BACT.1122.00013.0001i_01193',\n",
    "'BACT.1122.00050.0112i_04325',\n",
    "'BACT.1122.00024.0018i_03444',\n",
    "'BACT.1122.00043.0078i_04307',\n",
    "'BACT.1122.00032.0005i_01228',\n",
    "'BACT.1122.00003.0001i_02800',\n",
    "'BACT.1122.00001.0001i_00106',\n",
    "'BACT.1122.00043.0033i_01225',\n",
    "'BACT.1122.00025.0006i_04263',\n",
    "'BACT.1122.00024.0003i_02601',\n",
    "'BACT.1122.00038.0006i_02457',\n",
    "'BACT.1122.00010.0001i_00808',\n",
    "'BACT.1122.00042.0061i_02612',\n",
    "'BACT.1122.00016.0001i_02433',\n",
    "'BACT.1122.00032.0019i_04226',\n",
    "'BACT.1122.00049.0201i_02434',\n",
    "'BACT.1122.00016.0001i_02419']"
   ]
  },
  {
   "cell_type": "code",
   "execution_count": 20,
   "id": "147110d9",
   "metadata": {},
   "outputs": [],
   "source": [
    "uniprot = ['BACT.1122.00041.0111b_02767',\n",
    "'BACT.1122.00015.0002i_00946',\n",
    "'BACT.1122.00040.0023i_01608',\n",
    "'BACT.1122.00033.0016i_02736',\n",
    "'BACT.1122.00047.0015i_01981',\n",
    "'BACT.1122.00027.0005i_01157',\n",
    "'BACT.1122.00040.0013i_01042',\n",
    "'BACT.1122.00013.0001i_01193',\n",
    "'BACT.1122.00050.0112i_04325',\n",
    "'BACT.1122.00015.0002i_02400',\n",
    "'BACT.1122.00020.0002i_02902',\n",
    "'BACT.1122.00034.0010i_01997',\n",
    "'BACT.1122.00034.0024i_03697',\n",
    "'BACT.1122.00050.0075i_02954',\n",
    "'BACT.1122.00035.0022i_01266',\n",
    "'BACT.1122.00049.0174i_01342',\n",
    "'BACT.1122.00024.0018i_03444',\n",
    "'BACT.1122.00043.0078i_04307',\n",
    "'BACT.1122.00032.0005i_01228',\n",
    "'BACT.1122.00023.0004i_02074',\n",
    "'BACT.1122.00016.0001i_02419',\n",
    "'BACT.1122.00024.0001i_00961',\n",
    "'BACT.1122.00021.0003i_03076',\n",
    "'BACT.1122.00023.0005i_02915',\n",
    "'BACT.1122.00034.0015i_02573',\n",
    "'BACT.1122.00046.0080i_04285',\n",
    "'BACT.1122.00001.0001i_00106',\n",
    "'BACT.1122.00012.0001i_03613',\n",
    "'BACT.1122.00012.0001i_00483',\n",
    "'BACT.1122.00023.0005i_02663',\n",
    "'BACT.1122.00024.0003i_02601',\n",
    "'BACT.1122.00050.0088i_03351']"
   ]
  },
  {
   "cell_type": "code",
   "execution_count": 21,
   "id": "a2f4ec60",
   "metadata": {},
   "outputs": [
    {
     "data": {
      "text/plain": [
       "['BACT.1122.00046.0079b_04268',\n",
       " 'BACT.1122.00025.0001i_00200',\n",
       " 'BACT.1122.00025.0002i_00320',\n",
       " 'BACT.1122.00025.0002i_00430',\n",
       " 'BACT.1122.00018.0001i_00753',\n",
       " 'BACT.1122.00018.0001i_00988',\n",
       " 'BACT.1122.00002.0001i_03728',\n",
       " 'BACT.1122.00017.0001i_01110',\n",
       " 'BACT.1122.00017.0001i_05334',\n",
       " 'BACT.1122.00017.0001i_03592',\n",
       " 'BACT.1122.00026.0011i_04441',\n",
       " 'BACT.1122.00028.0006i_00446',\n",
       " 'BACT.1122.00038.0001i_00132',\n",
       " 'BACT.1122.00042.0040i_00787',\n",
       " 'BACT.1122.00042.0078i_03758',\n",
       " 'BACT.1122.00042.0040i_00786',\n",
       " 'BACT.1122.00042.0031i_00294',\n",
       " 'BACT.1122.00016.0001i_00630',\n",
       " 'BACT.1122.00016.0001i_00843',\n",
       " 'BACT.1122.00044.0050i_02351',\n",
       " 'BACT.1122.00005.0001i_00420',\n",
       " 'BACT.1122.00009.0001i_01926',\n",
       " 'BACT.1122.00021.0003i_03076',\n",
       " 'BACT.1122.00020.0002i_01964',\n",
       " 'BACT.1122.00039.0006i_00689',\n",
       " 'BACT.1122.00003.0001i_02800',\n",
       " 'BACT.1122.00003.0001i_00939',\n",
       " 'BACT.1122.00003.0001i_00711',\n",
       " 'BACT.1122.00023.0004i_02052',\n",
       " 'BACT.1122.00022.0010i_04023',\n",
       " 'BACT.1122.00034.0025i_03812',\n",
       " 'BACT.1122.00032.0010i_02594',\n",
       " 'BACT.1122.00032.0019i_04226',\n",
       " 'BACT.1122.00032.0023i_04935',\n",
       " 'BACT.1122.00008.0001i_03248',\n",
       " 'BACT.1122.00041.0104i_02706',\n",
       " 'BACT.1122.00048.0123i_01944',\n",
       " 'BACT.1122.00043.0051i_02361',\n",
       " 'BACT.1122.00043.0063i_03234',\n",
       " 'BACT.1122.00010.0001i_00808',\n",
       " 'BACT.1122.00010.0001i_01090',\n",
       " 'BACT.1122.00050.0088i_03363',\n",
       " 'BACT.1122.00014.0001i_03527',\n",
       " 'BACT.1122.00019.0001i_03981',\n",
       " 'BACT.1122.00011.0001i_01291',\n",
       " 'BACT.1122.00037.0009i_02106']"
      ]
     },
     "execution_count": 21,
     "metadata": {},
     "output_type": "execute_result"
    }
   ],
   "source": [
    "ortho = list(copy_dict.keys())\n",
    "ortho"
   ]
  },
  {
   "cell_type": "code",
   "execution_count": 22,
   "id": "1148acab",
   "metadata": {},
   "outputs": [
    {
     "data": {
      "text/plain": [
       "{'BACT.1122.00003.0001i_02800',\n",
       " 'BACT.1122.00010.0001i_00808',\n",
       " 'BACT.1122.00032.0019i_04226'}"
      ]
     },
     "execution_count": 22,
     "metadata": {},
     "output_type": "execute_result"
    }
   ],
   "source": [
    "set(ortho)&set(egg)"
   ]
  },
  {
   "cell_type": "code",
   "execution_count": 23,
   "id": "c480c213",
   "metadata": {},
   "outputs": [
    {
     "data": {
      "text/plain": [
       "{'BACT.1122.00021.0003i_03076'}"
      ]
     },
     "execution_count": 23,
     "metadata": {},
     "output_type": "execute_result"
    }
   ],
   "source": [
    "set(ortho)&set(uniprot)"
   ]
  },
  {
   "cell_type": "code",
   "execution_count": 24,
   "id": "af6bb9b2",
   "metadata": {},
   "outputs": [
    {
     "data": {
      "text/plain": [
       "{'BACT.1122.00001.0001i_00106',\n",
       " 'BACT.1122.00013.0001i_01193',\n",
       " 'BACT.1122.00015.0002i_00946',\n",
       " 'BACT.1122.00015.0002i_02400',\n",
       " 'BACT.1122.00016.0001i_02419',\n",
       " 'BACT.1122.00020.0002i_02902',\n",
       " 'BACT.1122.00024.0003i_02601',\n",
       " 'BACT.1122.00024.0018i_03444',\n",
       " 'BACT.1122.00027.0005i_01157',\n",
       " 'BACT.1122.00032.0005i_01228',\n",
       " 'BACT.1122.00033.0016i_02736',\n",
       " 'BACT.1122.00034.0010i_01997',\n",
       " 'BACT.1122.00034.0024i_03697',\n",
       " 'BACT.1122.00035.0022i_01266',\n",
       " 'BACT.1122.00040.0013i_01042',\n",
       " 'BACT.1122.00040.0023i_01608',\n",
       " 'BACT.1122.00043.0078i_04307',\n",
       " 'BACT.1122.00047.0015i_01981',\n",
       " 'BACT.1122.00049.0174i_01342',\n",
       " 'BACT.1122.00050.0075i_02954',\n",
       " 'BACT.1122.00050.0112i_04325'}"
      ]
     },
     "execution_count": 24,
     "metadata": {},
     "output_type": "execute_result"
    }
   ],
   "source": [
    "set(egg)&set(uniprot)"
   ]
  },
  {
   "cell_type": "code",
   "execution_count": 25,
   "id": "aff3be71",
   "metadata": {},
   "outputs": [
    {
     "data": {
      "text/plain": [
       "'Bacteroides_luhongzhouii_GCF_009193295.2'"
      ]
     },
     "execution_count": 25,
     "metadata": {},
     "output_type": "execute_result"
    }
   ],
   "source": [
    "copy_dict['BACT.1122.00003.0001i_02800']"
   ]
  },
  {
   "cell_type": "code",
   "execution_count": 26,
   "id": "1c6c2cb6",
   "metadata": {},
   "outputs": [
    {
     "data": {
      "text/plain": [
       "'Bacteroides_thetaiotaomicron_GCF_014131755.1'"
      ]
     },
     "execution_count": 26,
     "metadata": {},
     "output_type": "execute_result"
    }
   ],
   "source": [
    "copy_dict['BACT.1122.00010.0001i_00808']"
   ]
  },
  {
   "cell_type": "code",
   "execution_count": 27,
   "id": "60cc1532",
   "metadata": {},
   "outputs": [
    {
     "data": {
      "text/plain": [
       "'Bacteroides_oleiciplenus_GCF_902374815.1'"
      ]
     },
     "execution_count": 27,
     "metadata": {},
     "output_type": "execute_result"
    }
   ],
   "source": [
    "copy_dict['BACT.1122.00032.0019i_04226']"
   ]
  },
  {
   "cell_type": "code",
   "execution_count": 28,
   "id": "b406ffe4",
   "metadata": {},
   "outputs": [
    {
     "data": {
      "text/plain": [
       "'Bacteroides_ihuae_GCF_900104585.1'"
      ]
     },
     "execution_count": 28,
     "metadata": {},
     "output_type": "execute_result"
    }
   ],
   "source": [
    "copy_dict['BACT.1122.00021.0003i_03076']"
   ]
  },
  {
   "cell_type": "code",
   "execution_count": null,
   "id": "1343235e",
   "metadata": {},
   "outputs": [],
   "source": []
  },
  {
   "cell_type": "code",
   "execution_count": 29,
   "id": "ed57aa76",
   "metadata": {},
   "outputs": [
    {
     "data": {
      "text/plain": [
       "30"
      ]
     },
     "execution_count": 29,
     "metadata": {},
     "output_type": "execute_result"
    }
   ],
   "source": [
    "len(egg)"
   ]
  },
  {
   "cell_type": "code",
   "execution_count": 30,
   "id": "b409f9c0",
   "metadata": {},
   "outputs": [
    {
     "data": {
      "text/plain": [
       "10"
      ]
     },
     "execution_count": 30,
     "metadata": {},
     "output_type": "execute_result"
    }
   ],
   "source": [
    "from Bio import SeqIO\n",
    "egg_filt = []\n",
    "for record in SeqIO.parse('/home/nastya/Bacteroides_uniformis_annotations/HMM/prot_sum.faa', \"fasta\"):\n",
    "    if record.id in egg:\n",
    "        if len(record.seq) < 300 and len(record.seq) > 200:\n",
    "            egg_filt.append(record.id)\n",
    "len(egg_filt)"
   ]
  },
  {
   "cell_type": "code",
   "execution_count": 31,
   "id": "5324b9e4",
   "metadata": {},
   "outputs": [
    {
     "data": {
      "text/plain": [
       "10"
      ]
     },
     "execution_count": 31,
     "metadata": {},
     "output_type": "execute_result"
    }
   ],
   "source": [
    "from Bio import SeqIO\n",
    "uniprot_filt = []\n",
    "for record in SeqIO.parse('/home/nastya/Bacteroides_uniformis_annotations/HMM/prot_sum.faa', \"fasta\"):\n",
    "    if record.id in uniprot:\n",
    "        if len(record.seq) < 300 and len(record.seq) > 200:\n",
    "            uniprot_filt.append(record.id)\n",
    "len(uniprot_filt)"
   ]
  },
  {
   "cell_type": "code",
   "execution_count": 32,
   "id": "ee16fac3",
   "metadata": {},
   "outputs": [
    {
     "data": {
      "text/plain": [
       "{'BACT.1122.00001.0001i_00106', 'BACT.1122.00024.0003i_02601'}"
      ]
     },
     "execution_count": 32,
     "metadata": {},
     "output_type": "execute_result"
    }
   ],
   "source": [
    "set(uniprot_filt)&set(egg_filt)"
   ]
  },
  {
   "cell_type": "code",
   "execution_count": 33,
   "id": "9883e2cb",
   "metadata": {},
   "outputs": [
    {
     "name": "stdout",
     "output_type": "stream",
     "text": [
      "MNEKQADTLLNVPEIVKRAKIALNLKRDSELASYLGVARATLSNWCARNSIDFPLLLNKLRHVDYNWLLTGKGSPLHDPKSFDNGKIRGEVETIHNSKTTEAIDDRSVTLYDITAAANLRTLLSDKRQYALGKILIPSIPACDGAIFVNGDSMYPILKSGDIVGFKGINNFSNVIYGEMYIVAFHLDGDQYLTVKYVNRSEKEGYVKLVSYNPHHEPMDLPVDTIQDMAIVKFSIRKNMMM\n"
     ]
    }
   ],
   "source": [
    "for record in SeqIO.parse('/home/nastya/Bacteroides_uniformis_annotations/HMM/prot_sum.faa', \"fasta\"):\n",
    "    if 'BACT.1122.00010.0001i_00808' in record.id:\n",
    "        print(record.seq)"
   ]
  },
  {
   "cell_type": "code",
   "execution_count": 34,
   "id": "25ebbd7f",
   "metadata": {},
   "outputs": [
    {
     "data": {
      "text/plain": [
       "46"
      ]
     },
     "execution_count": 34,
     "metadata": {},
     "output_type": "execute_result"
    }
   ],
   "source": [
    "len(copy_dict)"
   ]
  },
  {
   "cell_type": "code",
   "execution_count": 35,
   "id": "ae5abbd1",
   "metadata": {},
   "outputs": [],
   "source": [
    "Lucia_req_list = ['BACT.1122.00008.0001i_03248',\n",
    "                  'BACT.1122.00019.0001i_03981',\n",
    "                  'BACT.1122.00018.0001i_00753',\n",
    "                  'BACT.1122.00018.0001i_00988',\n",
    "                  'BACT.1122.00017.0001i_01110',\n",
    "                  'BACT.1122.00017.0001i_05334',\n",
    "                  'BACT.1122.00017.0001i_03592']"
   ]
  },
  {
   "cell_type": "code",
   "execution_count": 37,
   "id": "6911e177",
   "metadata": {},
   "outputs": [
    {
     "name": "stdout",
     "output_type": "stream",
     "text": [
      ">BACT.1122.00018.0001i_00753_Bacteroides_caccae_GCF_018292205.1\n",
      "MDTNLDVPGIIKRAKQALNLKRDSELAEFLGVSRATVTNWAARNSIDFRLLLDKLGNTVDYNWLLLGKGNPKHQSRFCESELAQGEVQIIHNPKTAEPVDDRSVTLYDITAAANLKTLFTNKHQYALGKIRIPNISACDGAVYVNGDSMYPILKSGDIIGYKEINSFESVIYGEIYLVSFMIDGDEYLAVKYANRSEKEGCIKLVSYNTHHEPMDIPFAAINAMAIVKFSIRRHMMM\n",
      ">BACT.1122.00018.0001i_00988_Bacteroides_caccae_GCF_018292205.1\n",
      "MDTNLDVPGIIKRAKQALNLKRDSELAEFLGVSRATVTNWAARNSIDFRLLLNKLGNTVDYNWLLLGKGNPKHQSRFCESELAQGEVQIIHNPKTAEPVDDRSVTLYDITAAANLKTLFTNKHQYALGKIRIPNISACDGAVYVNGDSMYPILKSGDIIGYKEINSFESVIYGEIYLVSFMIDGDEYLAVKYANRSEKEGCIKLVSYNTHHEPMDIPFAAINAMAIVKFSIRRHMMM\n",
      ">BACT.1122.00017.0001i_01110_Bacteroides_cellulosilyticus_GCF_018292125.1\n",
      "MEKEQDLLFNVADIVKRAKRVLNFKTDAELAAYLGVSRPTLSNWIARNGIDFPLLLEKLKEIDYNWLLVGKGQPVHQAKFCNDEIVSGEVEMIHNPKTADPVDDRSVPLYDITAAANLKTLLANKQQHVVGKIQIPNIPVCDGALYISGDSMYPILKSGDVVGFKEISNFSNVIYGEMYLVSFCIDGDEYLSVKYINRSEVEGCIKLVSYNPHHEPMDIPLTSIQAMAIVKFSIRKNMMM\n",
      ">BACT.1122.00017.0001i_03592_Bacteroides_cellulosilyticus_GCF_018292125.1\n",
      "MTGEEVRDILKKNGIGLVELADKLGITNQALNSRFYAKSFRPEYLQQINEILGKDLFGLSDTSDKGQKILDIRVCAGQGIGLHGDENKVLEFVNIPSFKGSYGLVVYGESMYDKYKSGDVVFVRPVTSTRDIDFGRCYVVITPSDRLLKAVYQSKLGDEYLKLCSYNAKLNPSGEREYPDRDINKSDILYLYKVIGRLEREEI\n",
      ">BACT.1122.00017.0001i_05334_Bacteroides_cellulosilyticus_GCF_018292125.1\n",
      "MEKDIFFNVADIVKRAKRVLNFKTDADLAAYLGVSRSTLSNWIARNSTDFPLLLSKMKDVDYNWLLLGKGTPVSHLQSCYSELATGNVEIIHNSKTPDAMKDRSVVLYDITAAANLRTLLANKHQFVMGRIQIPSIPVCDGALYISGDSMYPILKSGDIVGFKEMNSFSNVIYGEMYLVSFDIDGDEYLAVKYVNRSEQEGCIKLVSYNPHHEPMDVPFASIQAMAIVKFSIRKNMMM\n",
      ">BACT.1122.00008.0001i_03248_Bacteroides_ovatus_GCF_001314995.1\n",
      "MDTFLDVTGIVKRAKQVLNFKNDSELAEYLGVSRATVSNWGARNSIDFRLLLDKFGDKVDYNWLLLGKGNPKHQPRHCESELVKGEVEIIHNPKTAEPTDDRSVMLYDITAAANLKTLFTNKQQYALGKILIPNISVCDGAVYVNGDSMYPILKSGDIIGYKEISSFDNVIYGEIYLVSFMIDGDEYLAVKYVNRSEQEGHLKLVSYNTHHEPMDIPFASINAMAIVKFSIRRHMMM\n",
      ">BACT.1122.00019.0001i_03981_Bacteroides_xylanisolvens_GCF_018289135.1\n",
      "MDTFLDVTGIVKRAKQVLNFKNDSELAEYLGVSRATVSNWGARNSIDFRLLLDKFGDKVDYNWLLLGKGNPKHQPRYCESELVQGEVEIIHNPKTPEPIDDRSVTLYDITAAANLKTLFTNKKQYALGKILIPNISVCDGAVYVNGDSMYPILKSGDIIGYKEISSFDNVIYGEIYLVSFMIDGDEYLAVKYVNRSDKEGYLKLVSYNTHHEPMDIPFASINAMAIVKFSIRRHMMM\n"
     ]
    }
   ],
   "source": [
    "for record in SeqIO.parse('/home/nastya/Bacteroides_uniformis_annotations/HMM/prot_sum.faa', \"fasta\"):\n",
    "    for i in Lucia_req_list:\n",
    "        if i in record.id:\n",
    "            print(f'>{record.id}_{copy_dict[record.id]}')\n",
    "            print(record.seq)"
   ]
  }
 ],
 "metadata": {
  "kernelspec": {
   "display_name": "Python 3 (ipykernel)",
   "language": "python",
   "name": "python3"
  },
  "language_info": {
   "codemirror_mode": {
    "name": "ipython",
    "version": 3
   },
   "file_extension": ".py",
   "mimetype": "text/x-python",
   "name": "python",
   "nbconvert_exporter": "python",
   "pygments_lexer": "ipython3",
   "version": "3.9.12"
  }
 },
 "nbformat": 4,
 "nbformat_minor": 5
}
